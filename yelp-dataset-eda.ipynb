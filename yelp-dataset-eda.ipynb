{
 "cells": [
  {
   "cell_type": "code",
   "execution_count": 27,
   "metadata": {
    "execution": {
     "iopub.execute_input": "2022-01-04T19:41:49.485576Z",
     "iopub.status.busy": "2022-01-04T19:41:49.484916Z",
     "iopub.status.idle": "2022-01-04T19:41:49.489067Z",
     "shell.execute_reply": "2022-01-04T19:41:49.488587Z",
     "shell.execute_reply.started": "2022-01-04T19:41:49.485534Z"
    }
   },
   "outputs": [],
   "source": [
    "import pandas as pd\n",
    "import numpy as np\n",
    "import matplotlib.pyplot as plt\n",
    "import seaborn as sns"
   ]
  },
  {
   "cell_type": "code",
   "execution_count": 28,
   "metadata": {
    "execution": {
     "iopub.execute_input": "2022-01-04T19:41:49.493069Z",
     "iopub.status.busy": "2022-01-04T19:41:49.492754Z",
     "iopub.status.idle": "2022-01-04T19:41:56.047054Z",
     "shell.execute_reply": "2022-01-04T19:41:56.045236Z",
     "shell.execute_reply.started": "2022-01-04T19:41:49.493039Z"
    }
   },
   "outputs": [],
   "source": [
    "# load user csv \n",
    "userdf = pd.read_csv('users.csv', parse_dates=['yelping_since'])\n",
    "userdf.head()"
   ]
  },
  {
   "cell_type": "code",
   "execution_count": 29,
   "metadata": {
    "execution": {
     "iopub.execute_input": "2022-01-04T19:41:56.048676Z",
     "iopub.status.busy": "2022-01-04T19:41:56.048482Z",
     "iopub.status.idle": "2022-01-04T19:41:56.063120Z",
     "shell.execute_reply": "2022-01-04T19:41:56.061711Z",
     "shell.execute_reply.started": "2022-01-04T19:41:56.048651Z"
    }
   },
   "outputs": [],
   "source": [
    "userdf.info()"
   ]
  },
  {
   "cell_type": "code",
   "execution_count": 30,
   "metadata": {
    "execution": {
     "iopub.execute_input": "2022-01-04T19:41:56.066481Z",
     "iopub.status.busy": "2022-01-04T19:41:56.065383Z",
     "iopub.status.idle": "2022-01-04T19:41:56.230824Z",
     "shell.execute_reply": "2022-01-04T19:41:56.229664Z",
     "shell.execute_reply.started": "2022-01-04T19:41:56.066441Z"
    }
   },
   "outputs": [],
   "source": [
    "userdf.describe()"
   ]
  },
  {
   "cell_type": "code",
   "execution_count": 31,
   "metadata": {
    "execution": {
     "iopub.execute_input": "2022-01-04T19:41:56.233279Z",
     "iopub.status.busy": "2022-01-04T19:41:56.233011Z",
     "iopub.status.idle": "2022-01-04T19:41:56.253106Z",
     "shell.execute_reply": "2022-01-04T19:41:56.252041Z",
     "shell.execute_reply.started": "2022-01-04T19:41:56.233250Z"
    }
   },
   "outputs": [],
   "source": [
    "# take a look at users with zero reviews\n",
    "userdf[userdf.review_count==0]"
   ]
  },
  {
   "cell_type": "code",
   "execution_count": 32,
   "metadata": {
    "execution": {
     "iopub.execute_input": "2022-01-04T19:41:56.256131Z",
     "iopub.status.busy": "2022-01-04T19:41:56.255330Z",
     "iopub.status.idle": "2022-01-04T19:41:56.290951Z",
     "shell.execute_reply": "2022-01-04T19:41:56.289990Z",
     "shell.execute_reply.started": "2022-01-04T19:41:56.256068Z"
    }
   },
   "outputs": [],
   "source": [
    "# since average stars is given, review count probably at least 1 instead of zero\n",
    "zerorev = (userdf.review_count==0) # True at indexes where review count is/was zero\n",
    "# replace zeros with 1\n",
    "userdf.loc[userdf.review_count==0,'review_count'] = 1 \n",
    "userdf.loc[zerorev,:]"
   ]
  },
  {
   "cell_type": "code",
   "execution_count": 33,
   "metadata": {
    "execution": {
     "iopub.execute_input": "2022-01-04T19:41:56.292154Z",
     "iopub.status.busy": "2022-01-04T19:41:56.291944Z",
     "iopub.status.idle": "2022-01-04T19:41:56.298820Z",
     "shell.execute_reply": "2022-01-04T19:41:56.298009Z",
     "shell.execute_reply.started": "2022-01-04T19:41:56.292125Z"
    }
   },
   "outputs": [],
   "source": [
    "print(f'total reviews: {userdf.review_count.sum()}')\n",
    "print(f'total users: {len(userdf)}')"
   ]
  },
  {
   "cell_type": "code",
   "execution_count": 34,
   "metadata": {
    "execution": {
     "iopub.execute_input": "2022-01-04T19:41:56.299857Z",
     "iopub.status.busy": "2022-01-04T19:41:56.299693Z",
     "iopub.status.idle": "2022-01-04T19:42:03.797950Z",
     "shell.execute_reply": "2022-01-04T19:42:03.797416Z",
     "shell.execute_reply.started": "2022-01-04T19:41:56.299836Z"
    }
   },
   "outputs": [],
   "source": [
    "sns.violinplot(x=userdf.review_count)"
   ]
  },
  {
   "cell_type": "code",
   "execution_count": 35,
   "metadata": {
    "execution": {
     "iopub.execute_input": "2022-01-04T19:42:03.799240Z",
     "iopub.status.busy": "2022-01-04T19:42:03.799006Z",
     "iopub.status.idle": "2022-01-04T19:42:04.073578Z",
     "shell.execute_reply": "2022-01-04T19:42:04.072604Z",
     "shell.execute_reply.started": "2022-01-04T19:42:03.799219Z"
    }
   },
   "outputs": [],
   "source": [
    "# add columns \n",
    "userdf['start_year']=userdf.yelping_since.dt.year # yelping_since year\n",
    "userdf['years_member'] = 2022 - userdf.start_year # number years yelp member\n",
    "userdf['reviews/year'] = userdf.review_count/userdf.years_member # number reviews per year\n",
    "userdf = userdf.drop('yelping_since', axis=1)\n",
    "userdf.head()"
   ]
  },
  {
   "cell_type": "code",
   "execution_count": 36,
   "metadata": {
    "execution": {
     "iopub.execute_input": "2022-01-04T19:42:04.075056Z",
     "iopub.status.busy": "2022-01-04T19:42:04.074856Z",
     "iopub.status.idle": "2022-01-04T19:42:04.614699Z",
     "shell.execute_reply": "2022-01-04T19:42:04.613467Z",
     "shell.execute_reply.started": "2022-01-04T19:42:04.075033Z"
    }
   },
   "outputs": [],
   "source": [
    "# look at distribution of review count\n",
    "fig, axs = plt.subplots(1,2, figsize=(10,5))\n",
    "axs[0].hist(np.log10(userdf['review_count']))\n",
    "axs[0].set_title('log10 review count')\n",
    "axs[0].set_xlabel('log(review_count)')\n",
    "#axs[0].hist(userdf['review_count'], histtype='step', density=True, cumulative=True)\n",
    "axs[1].hist(np.log10(userdf['review_count']), histtype='step', density=True, cumulative=True)\n",
    "axs[1].set_title('Cumulative')\n",
    "axs[1].set_xlabel('log(review_count)')"
   ]
  },
  {
   "cell_type": "code",
   "execution_count": 37,
   "metadata": {
    "execution": {
     "iopub.execute_input": "2022-01-04T19:42:04.616201Z",
     "iopub.status.busy": "2022-01-04T19:42:04.616016Z",
     "iopub.status.idle": "2022-01-04T19:42:05.350969Z",
     "shell.execute_reply": "2022-01-04T19:42:05.350024Z",
     "shell.execute_reply.started": "2022-01-04T19:42:04.616179Z"
    }
   },
   "outputs": [],
   "source": [
    "# almost 60% of people have 10 reviews or less\n",
    "fig, axs = plt.subplots(1,2, figsize=(10,5))\n",
    "#sns.scatterplot(x=userdf['review_count'], y=userdf['average_stars'], ax=axs[0])\n",
    "fewrev = (userdf['review_count'] <=10)\n",
    "sns.boxplot(x=userdf.loc[fewrev,'review_count'], y=userdf.loc[fewrev,'average_stars'], ax=axs[0])\n",
    "axs[0].set_title('Users <=10 reviews: \\n Distribution of Average Rating')\n",
    "sns.histplot(x=userdf.loc[userdf['review_count']==1,'average_stars'], ax=axs[1])\n",
    "axs[1].set_title('Users with One Review: \\n Distribution of Rating')\n",
    "#axs[2].hist(x=userdf.loc[userdf['review_count']==1,'average_stars'], histtype='step', density=True, cumulative=True)\n"
   ]
  },
  {
   "cell_type": "code",
   "execution_count": 38,
   "metadata": {
    "execution": {
     "iopub.execute_input": "2022-01-04T19:42:05.352403Z",
     "iopub.status.busy": "2022-01-04T19:42:05.352183Z",
     "iopub.status.idle": "2022-01-04T19:42:05.356329Z",
     "shell.execute_reply": "2022-01-04T19:42:05.355257Z",
     "shell.execute_reply.started": "2022-01-04T19:42:05.352374Z"
    }
   },
   "outputs": [],
   "source": [
    "# why do people start yelping? generally to share a really good or bad experience\n",
    "# ~50% of users with one review rate the business 4+ stars\n",
    "# ~25% rate business 1 star\n",
    "# minority of people only review to share bad experiences (average rating less than 2 stars even as review count increases)"
   ]
  },
  {
   "cell_type": "code",
   "execution_count": 39,
   "metadata": {
    "execution": {
     "iopub.execute_input": "2022-01-04T19:42:05.358563Z",
     "iopub.status.busy": "2022-01-04T19:42:05.357837Z",
     "iopub.status.idle": "2022-01-04T19:43:30.388723Z",
     "shell.execute_reply": "2022-01-04T19:43:30.387384Z",
     "shell.execute_reply.started": "2022-01-04T19:42:05.358499Z"
    }
   },
   "outputs": [],
   "source": [
    "# small fraction of users have 100+ reviews\n",
    "fig, axs = plt.subplots(1,3, figsize=(15,5))\n",
    "#sns.scatterplot(x=userdf['review_count'], y=userdf['average_stars'], ax=axs[0])\n",
    "manyrev = (userdf['review_count'] >=100)\n",
    "manyrevperyr = np.log10(userdf.loc[manyrev,'reviews/year'])\n",
    "\n",
    "sns.boxplot(x=manyrevperyr, ax=axs[0])\n",
    "axs[0].set_title('Users >=100 reviews: \\n log10 Reviews per Year')\n",
    "axs[0].set_xlabel('log10(Reviews/Year)')\n",
    "\n",
    "# active users\n",
    "activeuser = (userdf['reviews/year']>=10) & (userdf['reviews/year']<=30)\n",
    "sns.kdeplot(x=userdf.loc[activeuser,'reviews/year'], y=userdf.loc[activeuser,'average_stars'], fill=True, ax=axs[1])\n",
    "axs[1].set_title('Users 10-30 Reviews/Year: \\n Distribution of Average Rating')\n",
    "axs[1].set_xlabel('Reviews/Year')\n",
    "\n",
    "# possible bots/fake reviewers\n",
    "botrevperyr = userdf['reviews/year']>=100\n",
    "sns.kdeplot(x=np.log10(userdf.loc[botrevperyr,'reviews/year']), y=userdf.loc[botrevperyr,'average_stars'], fill=True, ax=axs[2])\n",
    "axs[2].set_title('Users >= 100 Reviews/Year: \\n Distribution of Average Rating')\n",
    "axs[2].set_xlabel('log10(Reviews/Year)')"
   ]
  },
  {
   "cell_type": "code",
   "execution_count": 40,
   "metadata": {
    "execution": {
     "iopub.execute_input": "2022-01-04T19:43:30.391508Z",
     "iopub.status.busy": "2022-01-04T19:43:30.390653Z",
     "iopub.status.idle": "2022-01-04T19:43:30.452144Z",
     "shell.execute_reply": "2022-01-04T19:43:30.451048Z",
     "shell.execute_reply.started": "2022-01-04T19:43:30.391455Z"
    }
   },
   "outputs": [],
   "source": [
    "# summary of active users with 10-30 reviews/year\n",
    "userdf[activeuser].describe()"
   ]
  },
  {
   "cell_type": "code",
   "execution_count": 41,
   "metadata": {
    "execution": {
     "iopub.execute_input": "2022-01-04T19:43:30.455039Z",
     "iopub.status.busy": "2022-01-04T19:43:30.454818Z",
     "iopub.status.idle": "2022-01-04T19:43:30.482791Z",
     "shell.execute_reply": "2022-01-04T19:43:30.481575Z",
     "shell.execute_reply.started": "2022-01-04T19:43:30.455011Z"
    }
   },
   "outputs": [],
   "source": [
    "# summary of potential bots/fake reviewers with >=100 reviews/year\n",
    "userdf[botrevperyr].describe()"
   ]
  },
  {
   "cell_type": "code",
   "execution_count": 42,
   "metadata": {
    "execution": {
     "iopub.execute_input": "2022-01-04T19:43:30.484865Z",
     "iopub.status.busy": "2022-01-04T19:43:30.484570Z",
     "iopub.status.idle": "2022-01-04T19:45:03.092496Z",
     "shell.execute_reply": "2022-01-04T19:45:03.091261Z",
     "shell.execute_reply.started": "2022-01-04T19:43:30.484832Z"
    }
   },
   "outputs": [],
   "source": [
    "reviewdf = pd.read_csv('restaurantrev.csv', parse_dates=['date'])\n",
    "reviewdf.head()"
   ]
  },
  {
   "cell_type": "code",
   "execution_count": 43,
   "metadata": {
    "execution": {
     "iopub.execute_input": "2022-01-04T19:45:03.094156Z",
     "iopub.status.busy": "2022-01-04T19:45:03.093908Z",
     "iopub.status.idle": "2022-01-04T19:45:03.385144Z",
     "shell.execute_reply": "2022-01-04T19:45:03.384405Z",
     "shell.execute_reply.started": "2022-01-04T19:45:03.094124Z"
    }
   },
   "outputs": [],
   "source": [
    "reviewdf = reviewdf.drop(['review_id'],axis=1)\n",
    "reviewdf.info()"
   ]
  },
  {
   "cell_type": "code",
   "execution_count": 44,
   "metadata": {
    "execution": {
     "iopub.execute_input": "2022-01-04T19:45:03.388185Z",
     "iopub.status.busy": "2022-01-04T19:45:03.387340Z",
     "iopub.status.idle": "2022-01-04T19:45:04.107410Z",
     "shell.execute_reply": "2022-01-04T19:45:04.106035Z",
     "shell.execute_reply.started": "2022-01-04T19:45:03.388156Z"
    }
   },
   "outputs": [],
   "source": [
    "# look at reviews of users with >=100 reviews/year\n",
    "# ~80k reviws only comprise a small fraction of 5.5M restaurant reviews\n",
    "botrev = reviewdf[reviewdf.user_id.isin(userdf[botrevperyr].user_id)]\n",
    "print(botrev.info())\n",
    "botrev.head()"
   ]
  },
  {
   "cell_type": "code",
   "execution_count": 45,
   "metadata": {
    "execution": {
     "iopub.execute_input": "2022-01-04T19:45:04.109475Z",
     "iopub.status.busy": "2022-01-04T19:45:04.109193Z",
     "iopub.status.idle": "2022-01-04T19:45:06.020331Z",
     "shell.execute_reply": "2022-01-04T19:45:06.019025Z",
     "shell.execute_reply.started": "2022-01-04T19:45:04.109438Z"
    }
   },
   "outputs": [],
   "source": [
    "# active reviwers with 10-30 reviews/year\n",
    "# almost 1M reviews comprises almost 20% of 5.5M restaurant reviews\n",
    "activerev = reviewdf[reviewdf.user_id.isin(userdf[activeuser].user_id)]\n",
    "print(activerev.info())\n",
    "activerev.head()"
   ]
  },
  {
   "cell_type": "code",
   "execution_count": 46,
   "metadata": {
    "execution": {
     "iopub.execute_input": "2022-01-04T19:45:06.022241Z",
     "iopub.status.busy": "2022-01-04T19:45:06.022025Z",
     "iopub.status.idle": "2022-01-04T19:45:11.057664Z",
     "shell.execute_reply": "2022-01-04T19:45:11.056266Z",
     "shell.execute_reply.started": "2022-01-04T19:45:06.022218Z"
    }
   },
   "outputs": [],
   "source": [
    "fig,axs = plt.subplots(1,3,figsize=(15,5))\n",
    "\n",
    "normrev = reviewdf[reviewdf.user_id.isin(userdf[fewrev].user_id)]\n",
    "axs[0].hist(x=normrev['stars'])\n",
    "axs[0].set_title('Rating Distribution:\\n Users with <=10 reviews')\n",
    "axs[0].set_xlabel('Stars')\n",
    "axs[1].hist(x=activerev['stars'])\n",
    "axs[1].set_title('Rating Distribution:\\n Users with 10-30 reviews/yr')\n",
    "axs[1].set_xlabel('Stars')\n",
    "axs[2].hist(x=botrev['stars'])\n",
    "axs[2].set_title('Rating Distribution:\\n Users with >=100 reviews/yr')\n",
    "axs[2].set_xlabel('Stars')\n"
   ]
  },
  {
   "cell_type": "code",
   "execution_count": 47,
   "metadata": {
    "execution": {
     "iopub.execute_input": "2022-01-04T19:45:11.060497Z",
     "iopub.status.busy": "2022-01-04T19:45:11.059939Z",
     "iopub.status.idle": "2022-01-04T19:45:11.258125Z",
     "shell.execute_reply": "2022-01-04T19:45:11.257023Z",
     "shell.execute_reply.started": "2022-01-04T19:45:11.060471Z"
    }
   },
   "outputs": [],
   "source": [
    "restaurantdf = pd.read_csv('restaurants.csv')\n",
    "# number of potential bots in reviews\n",
    "print('# unique users with >=100 reviews/year in reviews:', len(botrev.user_id.unique()))\n",
    "\n",
    "# summary of restaurants reviewed by potential bots\n",
    "botrest = restaurantdf[restaurantdf.business_id.isin(botrev.business_id)]\n",
    "botrest.describe()"
   ]
  },
  {
   "cell_type": "code",
   "execution_count": 48,
   "metadata": {
    "execution": {
     "iopub.execute_input": "2022-01-04T19:45:11.261040Z",
     "iopub.status.busy": "2022-01-04T19:45:11.260636Z",
     "iopub.status.idle": "2022-01-04T19:45:11.283699Z",
     "shell.execute_reply": "2022-01-04T19:45:11.282813Z",
     "shell.execute_reply.started": "2022-01-04T19:45:11.261007Z"
    }
   },
   "outputs": [],
   "source": [
    "# all restaurants\n",
    "restaurantdf.describe()"
   ]
  }
 ],
 "metadata": {
  "kernelspec": {
   "display_name": "Python 3 (ipykernel)",
   "language": "python",
   "name": "python3"
  },
  "language_info": {
   "codemirror_mode": {
    "name": "ipython",
    "version": 3
   },
   "file_extension": ".py",
   "mimetype": "text/x-python",
   "name": "python",
   "nbconvert_exporter": "python",
   "pygments_lexer": "ipython3",
   "version": "3.8.3"
  }
 },
 "nbformat": 4,
 "nbformat_minor": 4
}
