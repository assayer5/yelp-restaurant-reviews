{
 "cells": [
  {
   "cell_type": "code",
   "execution_count": 18,
   "metadata": {
    "execution": {
     "iopub.execute_input": "2022-01-06T18:36:29.130273Z",
     "iopub.status.busy": "2022-01-06T18:36:29.129635Z",
     "iopub.status.idle": "2022-01-06T18:36:30.272156Z",
     "shell.execute_reply": "2022-01-06T18:36:30.271118Z",
     "shell.execute_reply.started": "2022-01-06T18:36:29.130228Z"
    }
   },
   "outputs": [],
   "source": [
    "import pandas as pd\n",
    "import numpy as np\n",
    "import matplotlib.pyplot as plt\n",
    "import seaborn as sns"
   ]
  },
  {
   "cell_type": "code",
   "execution_count": 19,
   "metadata": {
    "execution": {
     "iopub.execute_input": "2022-01-06T18:36:30.274527Z",
     "iopub.status.busy": "2022-01-06T18:36:30.274157Z",
     "iopub.status.idle": "2022-01-06T18:36:38.703832Z",
     "shell.execute_reply": "2022-01-06T18:36:38.702868Z",
     "shell.execute_reply.started": "2022-01-06T18:36:30.274474Z"
    }
   },
   "outputs": [
    {
     "data": {
      "text/html": [
       "<div>\n",
       "<style scoped>\n",
       "    .dataframe tbody tr th:only-of-type {\n",
       "        vertical-align: middle;\n",
       "    }\n",
       "\n",
       "    .dataframe tbody tr th {\n",
       "        vertical-align: top;\n",
       "    }\n",
       "\n",
       "    .dataframe thead th {\n",
       "        text-align: right;\n",
       "    }\n",
       "</style>\n",
       "<table border=\"1\" class=\"dataframe\">\n",
       "  <thead>\n",
       "    <tr style=\"text-align: right;\">\n",
       "      <th></th>\n",
       "      <th>user_id</th>\n",
       "      <th>name</th>\n",
       "      <th>review_count</th>\n",
       "      <th>yelping_since</th>\n",
       "      <th>elite</th>\n",
       "      <th>average_stars</th>\n",
       "    </tr>\n",
       "  </thead>\n",
       "  <tbody>\n",
       "    <tr>\n",
       "      <th>0</th>\n",
       "      <td>q_QQ5kBBwlCcbL1s4NVK3g</td>\n",
       "      <td>Jane</td>\n",
       "      <td>1220</td>\n",
       "      <td>2005-03-14 20:26:35</td>\n",
       "      <td>2006,2007,2008,2009,2010,2011,2012,2013,2014</td>\n",
       "      <td>3.85</td>\n",
       "    </tr>\n",
       "    <tr>\n",
       "      <th>1</th>\n",
       "      <td>dIIKEfOgo0KqUfGQvGikPg</td>\n",
       "      <td>Gabi</td>\n",
       "      <td>2136</td>\n",
       "      <td>2007-08-10 19:01:51</td>\n",
       "      <td>2007,2008,2009,2010,2011,2012,2013,2014,2015,2...</td>\n",
       "      <td>4.09</td>\n",
       "    </tr>\n",
       "    <tr>\n",
       "      <th>2</th>\n",
       "      <td>D6ErcUnFALnCQN4b1W_TlA</td>\n",
       "      <td>Jason</td>\n",
       "      <td>119</td>\n",
       "      <td>2007-02-07 15:47:53</td>\n",
       "      <td>2010,2011</td>\n",
       "      <td>3.76</td>\n",
       "    </tr>\n",
       "    <tr>\n",
       "      <th>3</th>\n",
       "      <td>JnPIjvC0cmooNDfsa9BmXg</td>\n",
       "      <td>Kat</td>\n",
       "      <td>987</td>\n",
       "      <td>2009-02-09 16:14:29</td>\n",
       "      <td>2009,2010,2011,2012,2013,2014</td>\n",
       "      <td>3.77</td>\n",
       "    </tr>\n",
       "    <tr>\n",
       "      <th>4</th>\n",
       "      <td>37Hc8hr3cw0iHLoPzLK6Ow</td>\n",
       "      <td>Christine</td>\n",
       "      <td>495</td>\n",
       "      <td>2008-03-03 04:57:05</td>\n",
       "      <td>2009,2010,2011</td>\n",
       "      <td>3.72</td>\n",
       "    </tr>\n",
       "  </tbody>\n",
       "</table>\n",
       "</div>"
      ],
      "text/plain": [
       "                  user_id       name  review_count       yelping_since  \\\n",
       "0  q_QQ5kBBwlCcbL1s4NVK3g       Jane          1220 2005-03-14 20:26:35   \n",
       "1  dIIKEfOgo0KqUfGQvGikPg       Gabi          2136 2007-08-10 19:01:51   \n",
       "2  D6ErcUnFALnCQN4b1W_TlA      Jason           119 2007-02-07 15:47:53   \n",
       "3  JnPIjvC0cmooNDfsa9BmXg        Kat           987 2009-02-09 16:14:29   \n",
       "4  37Hc8hr3cw0iHLoPzLK6Ow  Christine           495 2008-03-03 04:57:05   \n",
       "\n",
       "                                               elite  average_stars  \n",
       "0       2006,2007,2008,2009,2010,2011,2012,2013,2014           3.85  \n",
       "1  2007,2008,2009,2010,2011,2012,2013,2014,2015,2...           4.09  \n",
       "2                                          2010,2011           3.76  \n",
       "3                      2009,2010,2011,2012,2013,2014           3.77  \n",
       "4                                     2009,2010,2011           3.72  "
      ]
     },
     "execution_count": 19,
     "metadata": {},
     "output_type": "execute_result"
    }
   ],
   "source": [
    "# load user csv \n",
    "userdf = pd.read_csv('users.csv', parse_dates=['yelping_since'])\n",
    "userdf.head()"
   ]
  },
  {
   "cell_type": "code",
   "execution_count": 20,
   "metadata": {
    "execution": {
     "iopub.execute_input": "2022-01-06T18:36:38.706849Z",
     "iopub.status.busy": "2022-01-06T18:36:38.706469Z",
     "iopub.status.idle": "2022-01-06T18:36:38.732727Z",
     "shell.execute_reply": "2022-01-06T18:36:38.731528Z",
     "shell.execute_reply.started": "2022-01-06T18:36:38.706780Z"
    }
   },
   "outputs": [
    {
     "name": "stdout",
     "output_type": "stream",
     "text": [
      "<class 'pandas.core.frame.DataFrame'>\n",
      "RangeIndex: 2189457 entries, 0 to 2189456\n",
      "Data columns (total 6 columns):\n",
      " #   Column         Dtype         \n",
      "---  ------         -----         \n",
      " 0   user_id        object        \n",
      " 1   name           object        \n",
      " 2   review_count   int64         \n",
      " 3   yelping_since  datetime64[ns]\n",
      " 4   elite          object        \n",
      " 5   average_stars  float64       \n",
      "dtypes: datetime64[ns](1), float64(1), int64(1), object(3)\n",
      "memory usage: 100.2+ MB\n"
     ]
    }
   ],
   "source": [
    "userdf.info()"
   ]
  },
  {
   "cell_type": "code",
   "execution_count": 21,
   "metadata": {
    "execution": {
     "iopub.execute_input": "2022-01-06T18:36:38.735221Z",
     "iopub.status.busy": "2022-01-06T18:36:38.734705Z",
     "iopub.status.idle": "2022-01-06T18:36:38.938336Z",
     "shell.execute_reply": "2022-01-06T18:36:38.937178Z",
     "shell.execute_reply.started": "2022-01-06T18:36:38.735172Z"
    }
   },
   "outputs": [
    {
     "data": {
      "text/html": [
       "<div>\n",
       "<style scoped>\n",
       "    .dataframe tbody tr th:only-of-type {\n",
       "        vertical-align: middle;\n",
       "    }\n",
       "\n",
       "    .dataframe tbody tr th {\n",
       "        vertical-align: top;\n",
       "    }\n",
       "\n",
       "    .dataframe thead th {\n",
       "        text-align: right;\n",
       "    }\n",
       "</style>\n",
       "<table border=\"1\" class=\"dataframe\">\n",
       "  <thead>\n",
       "    <tr style=\"text-align: right;\">\n",
       "      <th></th>\n",
       "      <th>review_count</th>\n",
       "      <th>average_stars</th>\n",
       "    </tr>\n",
       "  </thead>\n",
       "  <tbody>\n",
       "    <tr>\n",
       "      <th>count</th>\n",
       "      <td>2.189457e+06</td>\n",
       "      <td>2.189457e+06</td>\n",
       "    </tr>\n",
       "    <tr>\n",
       "      <th>mean</th>\n",
       "      <td>2.169772e+01</td>\n",
       "      <td>3.653816e+00</td>\n",
       "    </tr>\n",
       "    <tr>\n",
       "      <th>std</th>\n",
       "      <td>7.601255e+01</td>\n",
       "      <td>1.153861e+00</td>\n",
       "    </tr>\n",
       "    <tr>\n",
       "      <th>min</th>\n",
       "      <td>0.000000e+00</td>\n",
       "      <td>1.000000e+00</td>\n",
       "    </tr>\n",
       "    <tr>\n",
       "      <th>25%</th>\n",
       "      <td>2.000000e+00</td>\n",
       "      <td>3.000000e+00</td>\n",
       "    </tr>\n",
       "    <tr>\n",
       "      <th>50%</th>\n",
       "      <td>5.000000e+00</td>\n",
       "      <td>3.880000e+00</td>\n",
       "    </tr>\n",
       "    <tr>\n",
       "      <th>75%</th>\n",
       "      <td>1.500000e+01</td>\n",
       "      <td>4.550000e+00</td>\n",
       "    </tr>\n",
       "    <tr>\n",
       "      <th>max</th>\n",
       "      <td>1.568600e+04</td>\n",
       "      <td>5.000000e+00</td>\n",
       "    </tr>\n",
       "  </tbody>\n",
       "</table>\n",
       "</div>"
      ],
      "text/plain": [
       "       review_count  average_stars\n",
       "count  2.189457e+06   2.189457e+06\n",
       "mean   2.169772e+01   3.653816e+00\n",
       "std    7.601255e+01   1.153861e+00\n",
       "min    0.000000e+00   1.000000e+00\n",
       "25%    2.000000e+00   3.000000e+00\n",
       "50%    5.000000e+00   3.880000e+00\n",
       "75%    1.500000e+01   4.550000e+00\n",
       "max    1.568600e+04   5.000000e+00"
      ]
     },
     "execution_count": 21,
     "metadata": {},
     "output_type": "execute_result"
    }
   ],
   "source": [
    "userdf.describe()"
   ]
  },
  {
   "cell_type": "code",
   "execution_count": 22,
   "metadata": {
    "execution": {
     "iopub.execute_input": "2022-01-06T18:36:38.940797Z",
     "iopub.status.busy": "2022-01-06T18:36:38.940442Z",
     "iopub.status.idle": "2022-01-06T18:36:38.967066Z",
     "shell.execute_reply": "2022-01-06T18:36:38.966116Z",
     "shell.execute_reply.started": "2022-01-06T18:36:38.940747Z"
    }
   },
   "outputs": [
    {
     "data": {
      "text/html": [
       "<div>\n",
       "<style scoped>\n",
       "    .dataframe tbody tr th:only-of-type {\n",
       "        vertical-align: middle;\n",
       "    }\n",
       "\n",
       "    .dataframe tbody tr th {\n",
       "        vertical-align: top;\n",
       "    }\n",
       "\n",
       "    .dataframe thead th {\n",
       "        text-align: right;\n",
       "    }\n",
       "</style>\n",
       "<table border=\"1\" class=\"dataframe\">\n",
       "  <thead>\n",
       "    <tr style=\"text-align: right;\">\n",
       "      <th></th>\n",
       "      <th>user_id</th>\n",
       "      <th>name</th>\n",
       "      <th>review_count</th>\n",
       "      <th>yelping_since</th>\n",
       "      <th>elite</th>\n",
       "      <th>average_stars</th>\n",
       "    </tr>\n",
       "  </thead>\n",
       "  <tbody>\n",
       "    <tr>\n",
       "      <th>244117</th>\n",
       "      <td>ZHwgiHWY4GpCrkpLkCSv4w</td>\n",
       "      <td>Roger</td>\n",
       "      <td>0</td>\n",
       "      <td>2018-11-09 01:09:14</td>\n",
       "      <td>NaN</td>\n",
       "      <td>4.0</td>\n",
       "    </tr>\n",
       "    <tr>\n",
       "      <th>556850</th>\n",
       "      <td>kjOJpw968ru-2Z096SfIuQ</td>\n",
       "      <td>Prince</td>\n",
       "      <td>0</td>\n",
       "      <td>2019-11-09 01:39:07</td>\n",
       "      <td>NaN</td>\n",
       "      <td>1.0</td>\n",
       "    </tr>\n",
       "    <tr>\n",
       "      <th>816452</th>\n",
       "      <td>Lxm5mEc450gQZZjK0pZ-wA</td>\n",
       "      <td>Sepehr</td>\n",
       "      <td>0</td>\n",
       "      <td>2020-02-04 00:53:46</td>\n",
       "      <td>NaN</td>\n",
       "      <td>5.0</td>\n",
       "    </tr>\n",
       "    <tr>\n",
       "      <th>857752</th>\n",
       "      <td>-2-hPtrWnHdtvtp0-utLQg</td>\n",
       "      <td>Hannah</td>\n",
       "      <td>0</td>\n",
       "      <td>2016-02-19 09:02:13</td>\n",
       "      <td>NaN</td>\n",
       "      <td>2.0</td>\n",
       "    </tr>\n",
       "    <tr>\n",
       "      <th>892904</th>\n",
       "      <td>kw036JTnO19doz3F1tv7Lg</td>\n",
       "      <td>Charles</td>\n",
       "      <td>0</td>\n",
       "      <td>2018-10-01 04:16:41</td>\n",
       "      <td>NaN</td>\n",
       "      <td>5.0</td>\n",
       "    </tr>\n",
       "    <tr>\n",
       "      <th>1179449</th>\n",
       "      <td>-D1Aj0lY_e5F0tsVypwOCw</td>\n",
       "      <td>Alana</td>\n",
       "      <td>0</td>\n",
       "      <td>2014-07-16 19:22:18</td>\n",
       "      <td>NaN</td>\n",
       "      <td>5.0</td>\n",
       "    </tr>\n",
       "    <tr>\n",
       "      <th>1381214</th>\n",
       "      <td>CmoK8leNBK0WcNq-fxVvOQ</td>\n",
       "      <td>Cozzy</td>\n",
       "      <td>0</td>\n",
       "      <td>2015-11-30 03:33:02</td>\n",
       "      <td>NaN</td>\n",
       "      <td>5.0</td>\n",
       "    </tr>\n",
       "    <tr>\n",
       "      <th>1427838</th>\n",
       "      <td>FeopsMJV5XVHOrvn6SSwCg</td>\n",
       "      <td>Nicole</td>\n",
       "      <td>0</td>\n",
       "      <td>2016-10-09 19:36:13</td>\n",
       "      <td>NaN</td>\n",
       "      <td>5.0</td>\n",
       "    </tr>\n",
       "    <tr>\n",
       "      <th>1480513</th>\n",
       "      <td>yw19U3yMo9nvRZwm1bl8ZA</td>\n",
       "      <td>G</td>\n",
       "      <td>0</td>\n",
       "      <td>2017-03-04 20:33:02</td>\n",
       "      <td>NaN</td>\n",
       "      <td>5.0</td>\n",
       "    </tr>\n",
       "    <tr>\n",
       "      <th>1498686</th>\n",
       "      <td>dokOlyTmNl3wHmcEukhGVg</td>\n",
       "      <td>Janice</td>\n",
       "      <td>0</td>\n",
       "      <td>2016-05-27 15:50:14</td>\n",
       "      <td>NaN</td>\n",
       "      <td>1.0</td>\n",
       "    </tr>\n",
       "    <tr>\n",
       "      <th>1560444</th>\n",
       "      <td>Y0xlWn0QsqACqTD1NM24fw</td>\n",
       "      <td>John</td>\n",
       "      <td>0</td>\n",
       "      <td>2014-05-09 20:08:03</td>\n",
       "      <td>NaN</td>\n",
       "      <td>3.0</td>\n",
       "    </tr>\n",
       "    <tr>\n",
       "      <th>1766032</th>\n",
       "      <td>PCN3hTcija-1-ZugZYtP3A</td>\n",
       "      <td>London</td>\n",
       "      <td>0</td>\n",
       "      <td>2011-02-18 01:58:02</td>\n",
       "      <td>NaN</td>\n",
       "      <td>5.0</td>\n",
       "    </tr>\n",
       "    <tr>\n",
       "      <th>1818615</th>\n",
       "      <td>jio-AEIygJV_bRoEsuYChA</td>\n",
       "      <td>Pinkie</td>\n",
       "      <td>0</td>\n",
       "      <td>2019-01-25 20:00:24</td>\n",
       "      <td>NaN</td>\n",
       "      <td>5.0</td>\n",
       "    </tr>\n",
       "    <tr>\n",
       "      <th>1836324</th>\n",
       "      <td>kYQqKJCI7ejIGhnKiSWc4w</td>\n",
       "      <td>Jena</td>\n",
       "      <td>0</td>\n",
       "      <td>2014-08-08 03:42:52</td>\n",
       "      <td>NaN</td>\n",
       "      <td>5.0</td>\n",
       "    </tr>\n",
       "    <tr>\n",
       "      <th>1864303</th>\n",
       "      <td>x4mCYgsKX70al1gWYdsd5Q</td>\n",
       "      <td>Todd</td>\n",
       "      <td>0</td>\n",
       "      <td>2013-11-06 21:15:45</td>\n",
       "      <td>NaN</td>\n",
       "      <td>5.0</td>\n",
       "    </tr>\n",
       "    <tr>\n",
       "      <th>1987213</th>\n",
       "      <td>t_BcN6O-8VPyJ8bdxEHlRQ</td>\n",
       "      <td>Iggy</td>\n",
       "      <td>0</td>\n",
       "      <td>2018-11-05 22:30:07</td>\n",
       "      <td>NaN</td>\n",
       "      <td>5.0</td>\n",
       "    </tr>\n",
       "    <tr>\n",
       "      <th>2036239</th>\n",
       "      <td>IO6jS-A9zo-K0XlpgxLeSw</td>\n",
       "      <td>Ned</td>\n",
       "      <td>0</td>\n",
       "      <td>2015-02-01 01:05:50</td>\n",
       "      <td>NaN</td>\n",
       "      <td>5.0</td>\n",
       "    </tr>\n",
       "    <tr>\n",
       "      <th>2040185</th>\n",
       "      <td>Jt0ccFl_eJ7zL4jhrqN4WA</td>\n",
       "      <td>Lee</td>\n",
       "      <td>0</td>\n",
       "      <td>2018-09-19 05:56:27</td>\n",
       "      <td>NaN</td>\n",
       "      <td>1.0</td>\n",
       "    </tr>\n",
       "    <tr>\n",
       "      <th>2049437</th>\n",
       "      <td>12n1CTF8JJgY3CYYmA8tNQ</td>\n",
       "      <td>Pengfei</td>\n",
       "      <td>0</td>\n",
       "      <td>2014-08-21 08:51:06</td>\n",
       "      <td>NaN</td>\n",
       "      <td>4.0</td>\n",
       "    </tr>\n",
       "    <tr>\n",
       "      <th>2119277</th>\n",
       "      <td>inFio7qKVuiO5X9YRyWVzA</td>\n",
       "      <td>Doki</td>\n",
       "      <td>0</td>\n",
       "      <td>2021-01-22 22:39:34</td>\n",
       "      <td>NaN</td>\n",
       "      <td>2.0</td>\n",
       "    </tr>\n",
       "  </tbody>\n",
       "</table>\n",
       "</div>"
      ],
      "text/plain": [
       "                        user_id     name  review_count       yelping_since  \\\n",
       "244117   ZHwgiHWY4GpCrkpLkCSv4w    Roger             0 2018-11-09 01:09:14   \n",
       "556850   kjOJpw968ru-2Z096SfIuQ   Prince             0 2019-11-09 01:39:07   \n",
       "816452   Lxm5mEc450gQZZjK0pZ-wA   Sepehr             0 2020-02-04 00:53:46   \n",
       "857752   -2-hPtrWnHdtvtp0-utLQg   Hannah             0 2016-02-19 09:02:13   \n",
       "892904   kw036JTnO19doz3F1tv7Lg  Charles             0 2018-10-01 04:16:41   \n",
       "1179449  -D1Aj0lY_e5F0tsVypwOCw    Alana             0 2014-07-16 19:22:18   \n",
       "1381214  CmoK8leNBK0WcNq-fxVvOQ    Cozzy             0 2015-11-30 03:33:02   \n",
       "1427838  FeopsMJV5XVHOrvn6SSwCg   Nicole             0 2016-10-09 19:36:13   \n",
       "1480513  yw19U3yMo9nvRZwm1bl8ZA        G             0 2017-03-04 20:33:02   \n",
       "1498686  dokOlyTmNl3wHmcEukhGVg   Janice             0 2016-05-27 15:50:14   \n",
       "1560444  Y0xlWn0QsqACqTD1NM24fw     John             0 2014-05-09 20:08:03   \n",
       "1766032  PCN3hTcija-1-ZugZYtP3A   London             0 2011-02-18 01:58:02   \n",
       "1818615  jio-AEIygJV_bRoEsuYChA   Pinkie             0 2019-01-25 20:00:24   \n",
       "1836324  kYQqKJCI7ejIGhnKiSWc4w     Jena             0 2014-08-08 03:42:52   \n",
       "1864303  x4mCYgsKX70al1gWYdsd5Q     Todd             0 2013-11-06 21:15:45   \n",
       "1987213  t_BcN6O-8VPyJ8bdxEHlRQ     Iggy             0 2018-11-05 22:30:07   \n",
       "2036239  IO6jS-A9zo-K0XlpgxLeSw      Ned             0 2015-02-01 01:05:50   \n",
       "2040185  Jt0ccFl_eJ7zL4jhrqN4WA      Lee             0 2018-09-19 05:56:27   \n",
       "2049437  12n1CTF8JJgY3CYYmA8tNQ  Pengfei             0 2014-08-21 08:51:06   \n",
       "2119277  inFio7qKVuiO5X9YRyWVzA     Doki             0 2021-01-22 22:39:34   \n",
       "\n",
       "        elite  average_stars  \n",
       "244117    NaN            4.0  \n",
       "556850    NaN            1.0  \n",
       "816452    NaN            5.0  \n",
       "857752    NaN            2.0  \n",
       "892904    NaN            5.0  \n",
       "1179449   NaN            5.0  \n",
       "1381214   NaN            5.0  \n",
       "1427838   NaN            5.0  \n",
       "1480513   NaN            5.0  \n",
       "1498686   NaN            1.0  \n",
       "1560444   NaN            3.0  \n",
       "1766032   NaN            5.0  \n",
       "1818615   NaN            5.0  \n",
       "1836324   NaN            5.0  \n",
       "1864303   NaN            5.0  \n",
       "1987213   NaN            5.0  \n",
       "2036239   NaN            5.0  \n",
       "2040185   NaN            1.0  \n",
       "2049437   NaN            4.0  \n",
       "2119277   NaN            2.0  "
      ]
     },
     "execution_count": 22,
     "metadata": {},
     "output_type": "execute_result"
    }
   ],
   "source": [
    "# take a look at users with zero reviews\n",
    "userdf[userdf.review_count==0]"
   ]
  },
  {
   "cell_type": "code",
   "execution_count": 23,
   "metadata": {
    "execution": {
     "iopub.execute_input": "2022-01-06T18:36:38.969320Z",
     "iopub.status.busy": "2022-01-06T18:36:38.968971Z",
     "iopub.status.idle": "2022-01-06T18:36:39.017582Z",
     "shell.execute_reply": "2022-01-06T18:36:39.016595Z",
     "shell.execute_reply.started": "2022-01-06T18:36:38.969271Z"
    }
   },
   "outputs": [
    {
     "data": {
      "text/html": [
       "<div>\n",
       "<style scoped>\n",
       "    .dataframe tbody tr th:only-of-type {\n",
       "        vertical-align: middle;\n",
       "    }\n",
       "\n",
       "    .dataframe tbody tr th {\n",
       "        vertical-align: top;\n",
       "    }\n",
       "\n",
       "    .dataframe thead th {\n",
       "        text-align: right;\n",
       "    }\n",
       "</style>\n",
       "<table border=\"1\" class=\"dataframe\">\n",
       "  <thead>\n",
       "    <tr style=\"text-align: right;\">\n",
       "      <th></th>\n",
       "      <th>user_id</th>\n",
       "      <th>name</th>\n",
       "      <th>review_count</th>\n",
       "      <th>yelping_since</th>\n",
       "      <th>elite</th>\n",
       "      <th>average_stars</th>\n",
       "    </tr>\n",
       "  </thead>\n",
       "  <tbody>\n",
       "    <tr>\n",
       "      <th>244117</th>\n",
       "      <td>ZHwgiHWY4GpCrkpLkCSv4w</td>\n",
       "      <td>Roger</td>\n",
       "      <td>1</td>\n",
       "      <td>2018-11-09 01:09:14</td>\n",
       "      <td>NaN</td>\n",
       "      <td>4.0</td>\n",
       "    </tr>\n",
       "    <tr>\n",
       "      <th>556850</th>\n",
       "      <td>kjOJpw968ru-2Z096SfIuQ</td>\n",
       "      <td>Prince</td>\n",
       "      <td>1</td>\n",
       "      <td>2019-11-09 01:39:07</td>\n",
       "      <td>NaN</td>\n",
       "      <td>1.0</td>\n",
       "    </tr>\n",
       "    <tr>\n",
       "      <th>816452</th>\n",
       "      <td>Lxm5mEc450gQZZjK0pZ-wA</td>\n",
       "      <td>Sepehr</td>\n",
       "      <td>1</td>\n",
       "      <td>2020-02-04 00:53:46</td>\n",
       "      <td>NaN</td>\n",
       "      <td>5.0</td>\n",
       "    </tr>\n",
       "    <tr>\n",
       "      <th>857752</th>\n",
       "      <td>-2-hPtrWnHdtvtp0-utLQg</td>\n",
       "      <td>Hannah</td>\n",
       "      <td>1</td>\n",
       "      <td>2016-02-19 09:02:13</td>\n",
       "      <td>NaN</td>\n",
       "      <td>2.0</td>\n",
       "    </tr>\n",
       "    <tr>\n",
       "      <th>892904</th>\n",
       "      <td>kw036JTnO19doz3F1tv7Lg</td>\n",
       "      <td>Charles</td>\n",
       "      <td>1</td>\n",
       "      <td>2018-10-01 04:16:41</td>\n",
       "      <td>NaN</td>\n",
       "      <td>5.0</td>\n",
       "    </tr>\n",
       "    <tr>\n",
       "      <th>1179449</th>\n",
       "      <td>-D1Aj0lY_e5F0tsVypwOCw</td>\n",
       "      <td>Alana</td>\n",
       "      <td>1</td>\n",
       "      <td>2014-07-16 19:22:18</td>\n",
       "      <td>NaN</td>\n",
       "      <td>5.0</td>\n",
       "    </tr>\n",
       "    <tr>\n",
       "      <th>1381214</th>\n",
       "      <td>CmoK8leNBK0WcNq-fxVvOQ</td>\n",
       "      <td>Cozzy</td>\n",
       "      <td>1</td>\n",
       "      <td>2015-11-30 03:33:02</td>\n",
       "      <td>NaN</td>\n",
       "      <td>5.0</td>\n",
       "    </tr>\n",
       "    <tr>\n",
       "      <th>1427838</th>\n",
       "      <td>FeopsMJV5XVHOrvn6SSwCg</td>\n",
       "      <td>Nicole</td>\n",
       "      <td>1</td>\n",
       "      <td>2016-10-09 19:36:13</td>\n",
       "      <td>NaN</td>\n",
       "      <td>5.0</td>\n",
       "    </tr>\n",
       "    <tr>\n",
       "      <th>1480513</th>\n",
       "      <td>yw19U3yMo9nvRZwm1bl8ZA</td>\n",
       "      <td>G</td>\n",
       "      <td>1</td>\n",
       "      <td>2017-03-04 20:33:02</td>\n",
       "      <td>NaN</td>\n",
       "      <td>5.0</td>\n",
       "    </tr>\n",
       "    <tr>\n",
       "      <th>1498686</th>\n",
       "      <td>dokOlyTmNl3wHmcEukhGVg</td>\n",
       "      <td>Janice</td>\n",
       "      <td>1</td>\n",
       "      <td>2016-05-27 15:50:14</td>\n",
       "      <td>NaN</td>\n",
       "      <td>1.0</td>\n",
       "    </tr>\n",
       "    <tr>\n",
       "      <th>1560444</th>\n",
       "      <td>Y0xlWn0QsqACqTD1NM24fw</td>\n",
       "      <td>John</td>\n",
       "      <td>1</td>\n",
       "      <td>2014-05-09 20:08:03</td>\n",
       "      <td>NaN</td>\n",
       "      <td>3.0</td>\n",
       "    </tr>\n",
       "    <tr>\n",
       "      <th>1766032</th>\n",
       "      <td>PCN3hTcija-1-ZugZYtP3A</td>\n",
       "      <td>London</td>\n",
       "      <td>1</td>\n",
       "      <td>2011-02-18 01:58:02</td>\n",
       "      <td>NaN</td>\n",
       "      <td>5.0</td>\n",
       "    </tr>\n",
       "    <tr>\n",
       "      <th>1818615</th>\n",
       "      <td>jio-AEIygJV_bRoEsuYChA</td>\n",
       "      <td>Pinkie</td>\n",
       "      <td>1</td>\n",
       "      <td>2019-01-25 20:00:24</td>\n",
       "      <td>NaN</td>\n",
       "      <td>5.0</td>\n",
       "    </tr>\n",
       "    <tr>\n",
       "      <th>1836324</th>\n",
       "      <td>kYQqKJCI7ejIGhnKiSWc4w</td>\n",
       "      <td>Jena</td>\n",
       "      <td>1</td>\n",
       "      <td>2014-08-08 03:42:52</td>\n",
       "      <td>NaN</td>\n",
       "      <td>5.0</td>\n",
       "    </tr>\n",
       "    <tr>\n",
       "      <th>1864303</th>\n",
       "      <td>x4mCYgsKX70al1gWYdsd5Q</td>\n",
       "      <td>Todd</td>\n",
       "      <td>1</td>\n",
       "      <td>2013-11-06 21:15:45</td>\n",
       "      <td>NaN</td>\n",
       "      <td>5.0</td>\n",
       "    </tr>\n",
       "    <tr>\n",
       "      <th>1987213</th>\n",
       "      <td>t_BcN6O-8VPyJ8bdxEHlRQ</td>\n",
       "      <td>Iggy</td>\n",
       "      <td>1</td>\n",
       "      <td>2018-11-05 22:30:07</td>\n",
       "      <td>NaN</td>\n",
       "      <td>5.0</td>\n",
       "    </tr>\n",
       "    <tr>\n",
       "      <th>2036239</th>\n",
       "      <td>IO6jS-A9zo-K0XlpgxLeSw</td>\n",
       "      <td>Ned</td>\n",
       "      <td>1</td>\n",
       "      <td>2015-02-01 01:05:50</td>\n",
       "      <td>NaN</td>\n",
       "      <td>5.0</td>\n",
       "    </tr>\n",
       "    <tr>\n",
       "      <th>2040185</th>\n",
       "      <td>Jt0ccFl_eJ7zL4jhrqN4WA</td>\n",
       "      <td>Lee</td>\n",
       "      <td>1</td>\n",
       "      <td>2018-09-19 05:56:27</td>\n",
       "      <td>NaN</td>\n",
       "      <td>1.0</td>\n",
       "    </tr>\n",
       "    <tr>\n",
       "      <th>2049437</th>\n",
       "      <td>12n1CTF8JJgY3CYYmA8tNQ</td>\n",
       "      <td>Pengfei</td>\n",
       "      <td>1</td>\n",
       "      <td>2014-08-21 08:51:06</td>\n",
       "      <td>NaN</td>\n",
       "      <td>4.0</td>\n",
       "    </tr>\n",
       "    <tr>\n",
       "      <th>2119277</th>\n",
       "      <td>inFio7qKVuiO5X9YRyWVzA</td>\n",
       "      <td>Doki</td>\n",
       "      <td>1</td>\n",
       "      <td>2021-01-22 22:39:34</td>\n",
       "      <td>NaN</td>\n",
       "      <td>2.0</td>\n",
       "    </tr>\n",
       "  </tbody>\n",
       "</table>\n",
       "</div>"
      ],
      "text/plain": [
       "                        user_id     name  review_count       yelping_since  \\\n",
       "244117   ZHwgiHWY4GpCrkpLkCSv4w    Roger             1 2018-11-09 01:09:14   \n",
       "556850   kjOJpw968ru-2Z096SfIuQ   Prince             1 2019-11-09 01:39:07   \n",
       "816452   Lxm5mEc450gQZZjK0pZ-wA   Sepehr             1 2020-02-04 00:53:46   \n",
       "857752   -2-hPtrWnHdtvtp0-utLQg   Hannah             1 2016-02-19 09:02:13   \n",
       "892904   kw036JTnO19doz3F1tv7Lg  Charles             1 2018-10-01 04:16:41   \n",
       "1179449  -D1Aj0lY_e5F0tsVypwOCw    Alana             1 2014-07-16 19:22:18   \n",
       "1381214  CmoK8leNBK0WcNq-fxVvOQ    Cozzy             1 2015-11-30 03:33:02   \n",
       "1427838  FeopsMJV5XVHOrvn6SSwCg   Nicole             1 2016-10-09 19:36:13   \n",
       "1480513  yw19U3yMo9nvRZwm1bl8ZA        G             1 2017-03-04 20:33:02   \n",
       "1498686  dokOlyTmNl3wHmcEukhGVg   Janice             1 2016-05-27 15:50:14   \n",
       "1560444  Y0xlWn0QsqACqTD1NM24fw     John             1 2014-05-09 20:08:03   \n",
       "1766032  PCN3hTcija-1-ZugZYtP3A   London             1 2011-02-18 01:58:02   \n",
       "1818615  jio-AEIygJV_bRoEsuYChA   Pinkie             1 2019-01-25 20:00:24   \n",
       "1836324  kYQqKJCI7ejIGhnKiSWc4w     Jena             1 2014-08-08 03:42:52   \n",
       "1864303  x4mCYgsKX70al1gWYdsd5Q     Todd             1 2013-11-06 21:15:45   \n",
       "1987213  t_BcN6O-8VPyJ8bdxEHlRQ     Iggy             1 2018-11-05 22:30:07   \n",
       "2036239  IO6jS-A9zo-K0XlpgxLeSw      Ned             1 2015-02-01 01:05:50   \n",
       "2040185  Jt0ccFl_eJ7zL4jhrqN4WA      Lee             1 2018-09-19 05:56:27   \n",
       "2049437  12n1CTF8JJgY3CYYmA8tNQ  Pengfei             1 2014-08-21 08:51:06   \n",
       "2119277  inFio7qKVuiO5X9YRyWVzA     Doki             1 2021-01-22 22:39:34   \n",
       "\n",
       "        elite  average_stars  \n",
       "244117    NaN            4.0  \n",
       "556850    NaN            1.0  \n",
       "816452    NaN            5.0  \n",
       "857752    NaN            2.0  \n",
       "892904    NaN            5.0  \n",
       "1179449   NaN            5.0  \n",
       "1381214   NaN            5.0  \n",
       "1427838   NaN            5.0  \n",
       "1480513   NaN            5.0  \n",
       "1498686   NaN            1.0  \n",
       "1560444   NaN            3.0  \n",
       "1766032   NaN            5.0  \n",
       "1818615   NaN            5.0  \n",
       "1836324   NaN            5.0  \n",
       "1864303   NaN            5.0  \n",
       "1987213   NaN            5.0  \n",
       "2036239   NaN            5.0  \n",
       "2040185   NaN            1.0  \n",
       "2049437   NaN            4.0  \n",
       "2119277   NaN            2.0  "
      ]
     },
     "execution_count": 23,
     "metadata": {},
     "output_type": "execute_result"
    }
   ],
   "source": [
    "# since average stars is given, review count probably at least 1 instead of zero\n",
    "zerorev = (userdf.review_count==0) # True at indexes where review count is/was zero\n",
    "# replace zeros with 1\n",
    "userdf.loc[userdf.review_count==0,'review_count'] = 1 \n",
    "userdf.loc[zerorev,:]"
   ]
  },
  {
   "cell_type": "code",
   "execution_count": 24,
   "metadata": {
    "execution": {
     "iopub.execute_input": "2022-01-06T18:36:39.021825Z",
     "iopub.status.busy": "2022-01-06T18:36:39.021490Z",
     "iopub.status.idle": "2022-01-06T18:36:39.030932Z",
     "shell.execute_reply": "2022-01-06T18:36:39.029905Z",
     "shell.execute_reply.started": "2022-01-06T18:36:39.021771Z"
    }
   },
   "outputs": [
    {
     "name": "stdout",
     "output_type": "stream",
     "text": [
      "total reviews: 47506248\n",
      "total users: 2189457\n"
     ]
    }
   ],
   "source": [
    "print(f'total reviews: {userdf.review_count.sum()}')\n",
    "print(f'total users: {len(userdf)}')"
   ]
  },
  {
   "cell_type": "code",
   "execution_count": 25,
   "metadata": {
    "execution": {
     "iopub.execute_input": "2022-01-06T18:36:39.033035Z",
     "iopub.status.busy": "2022-01-06T18:36:39.032741Z",
     "iopub.status.idle": "2022-01-06T18:36:42.993459Z",
     "shell.execute_reply": "2022-01-06T18:36:42.992556Z",
     "shell.execute_reply.started": "2022-01-06T18:36:39.033001Z"
    }
   },
   "outputs": [
    {
     "data": {
      "text/plain": [
       "<AxesSubplot:xlabel='review_count'>"
      ]
     },
     "execution_count": 25,
     "metadata": {},
     "output_type": "execute_result"
    },
    {
     "data": {
      "image/png": "[encoded data removed]",
      "text/plain": [
       "<Figure size 432x288 with 1 Axes>"
      ]
     },
     "metadata": {
      "needs_background": "light"
     },
     "output_type": "display_data"
    }
   ],
   "source": [
    "sns.violinplot(x=userdf.review_count)"
   ]
  },
  {
   "cell_type": "code",
   "execution_count": 26,
   "metadata": {
    "execution": {
     "iopub.execute_input": "2022-01-06T18:36:42.996549Z",
     "iopub.status.busy": "2022-01-06T18:36:42.996274Z",
     "iopub.status.idle": "2022-01-06T18:36:43.543433Z",
     "shell.execute_reply": "2022-01-06T18:36:43.542243Z",
     "shell.execute_reply.started": "2022-01-06T18:36:42.996515Z"
    }
   },
   "outputs": [
    {
     "data": {
      "text/html": [
       "<div>\n",
       "<style scoped>\n",
       "    .dataframe tbody tr th:only-of-type {\n",
       "        vertical-align: middle;\n",
       "    }\n",
       "\n",
       "    .dataframe tbody tr th {\n",
       "        vertical-align: top;\n",
       "    }\n",
       "\n",
       "    .dataframe thead th {\n",
       "        text-align: right;\n",
       "    }\n",
       "</style>\n",
       "<table border=\"1\" class=\"dataframe\">\n",
       "  <thead>\n",
       "    <tr style=\"text-align: right;\">\n",
       "      <th></th>\n",
       "      <th>user_id</th>\n",
       "      <th>name</th>\n",
       "      <th>review_count</th>\n",
       "      <th>elite</th>\n",
       "      <th>average_stars</th>\n",
       "      <th>start_year</th>\n",
       "      <th>years_member</th>\n",
       "      <th>reviews/year</th>\n",
       "    </tr>\n",
       "  </thead>\n",
       "  <tbody>\n",
       "    <tr>\n",
       "      <th>0</th>\n",
       "      <td>q_QQ5kBBwlCcbL1s4NVK3g</td>\n",
       "      <td>Jane</td>\n",
       "      <td>1220</td>\n",
       "      <td>2006,2007,2008,2009,2010,2011,2012,2013,2014</td>\n",
       "      <td>3.85</td>\n",
       "      <td>2005</td>\n",
       "      <td>17</td>\n",
       "      <td>71.764706</td>\n",
       "    </tr>\n",
       "    <tr>\n",
       "      <th>1</th>\n",
       "      <td>dIIKEfOgo0KqUfGQvGikPg</td>\n",
       "      <td>Gabi</td>\n",
       "      <td>2136</td>\n",
       "      <td>2007,2008,2009,2010,2011,2012,2013,2014,2015,2...</td>\n",
       "      <td>4.09</td>\n",
       "      <td>2007</td>\n",
       "      <td>15</td>\n",
       "      <td>142.400000</td>\n",
       "    </tr>\n",
       "    <tr>\n",
       "      <th>2</th>\n",
       "      <td>D6ErcUnFALnCQN4b1W_TlA</td>\n",
       "      <td>Jason</td>\n",
       "      <td>119</td>\n",
       "      <td>2010,2011</td>\n",
       "      <td>3.76</td>\n",
       "      <td>2007</td>\n",
       "      <td>15</td>\n",
       "      <td>7.933333</td>\n",
       "    </tr>\n",
       "    <tr>\n",
       "      <th>3</th>\n",
       "      <td>JnPIjvC0cmooNDfsa9BmXg</td>\n",
       "      <td>Kat</td>\n",
       "      <td>987</td>\n",
       "      <td>2009,2010,2011,2012,2013,2014</td>\n",
       "      <td>3.77</td>\n",
       "      <td>2009</td>\n",
       "      <td>13</td>\n",
       "      <td>75.923077</td>\n",
       "    </tr>\n",
       "    <tr>\n",
       "      <th>4</th>\n",
       "      <td>37Hc8hr3cw0iHLoPzLK6Ow</td>\n",
       "      <td>Christine</td>\n",
       "      <td>495</td>\n",
       "      <td>2009,2010,2011</td>\n",
       "      <td>3.72</td>\n",
       "      <td>2008</td>\n",
       "      <td>14</td>\n",
       "      <td>35.357143</td>\n",
       "    </tr>\n",
       "  </tbody>\n",
       "</table>\n",
       "</div>"
      ],
      "text/plain": [
       "                  user_id       name  review_count  \\\n",
       "0  q_QQ5kBBwlCcbL1s4NVK3g       Jane          1220   \n",
       "1  dIIKEfOgo0KqUfGQvGikPg       Gabi          2136   \n",
       "2  D6ErcUnFALnCQN4b1W_TlA      Jason           119   \n",
       "3  JnPIjvC0cmooNDfsa9BmXg        Kat           987   \n",
       "4  37Hc8hr3cw0iHLoPzLK6Ow  Christine           495   \n",
       "\n",
       "                                               elite  average_stars  \\\n",
       "0       2006,2007,2008,2009,2010,2011,2012,2013,2014           3.85   \n",
       "1  2007,2008,2009,2010,2011,2012,2013,2014,2015,2...           4.09   \n",
       "2                                          2010,2011           3.76   \n",
       "3                      2009,2010,2011,2012,2013,2014           3.77   \n",
       "4                                     2009,2010,2011           3.72   \n",
       "\n",
       "   start_year  years_member  reviews/year  \n",
       "0        2005            17     71.764706  \n",
       "1        2007            15    142.400000  \n",
       "2        2007            15      7.933333  \n",
       "3        2009            13     75.923077  \n",
       "4        2008            14     35.357143  "
      ]
     },
     "execution_count": 26,
     "metadata": {},
     "output_type": "execute_result"
    }
   ],
   "source": [
    "# add columns \n",
    "userdf['start_year']=userdf.yelping_since.dt.year # yelping_since year\n",
    "userdf['years_member'] = 2022 - userdf.start_year # number years yelp member\n",
    "userdf['reviews/year'] = userdf.review_count/userdf.years_member # number reviews per year\n",
    "userdf = userdf.drop('yelping_since', axis=1)\n",
    "userdf.head()"
   ]
  },
  {
   "cell_type": "code",
   "execution_count": 27,
   "metadata": {
    "execution": {
     "iopub.execute_input": "2022-01-06T18:36:43.545333Z",
     "iopub.status.busy": "2022-01-06T18:36:43.544966Z",
     "iopub.status.idle": "2022-01-06T18:36:44.070999Z",
     "shell.execute_reply": "2022-01-06T18:36:44.069752Z",
     "shell.execute_reply.started": "2022-01-06T18:36:43.545269Z"
    }
   },
   "outputs": [
    {
     "data": {
      "text/plain": [
       "Text(0.5, 0, 'log(review_count)')"
      ]
     },
     "execution_count": 27,
     "metadata": {},
     "output_type": "execute_result"
    },
    {
     "data": {
      "image/png": "[encoded data removed]",
      "text/plain": [
       "<Figure size 720x360 with 2 Axes>"
      ]
     },
     "metadata": {
      "needs_background": "light"
     },
     "output_type": "display_data"
    }
   ],
   "source": [
    "# look at distribution of review count\n",
    "fig, axs = plt.subplots(1,2, figsize=(10,5))\n",
    "axs[0].hist(np.log10(userdf['review_count']))\n",
    "axs[0].set_title('log10 review count')\n",
    "axs[0].set_xlabel('log(review_count)')\n",
    "#axs[0].hist(userdf['review_count'], histtype='step', density=True, cumulative=True)\n",
    "axs[1].hist(np.log10(userdf['review_count']), histtype='step', density=True, cumulative=True)\n",
    "axs[1].set_title('Cumulative')\n",
    "axs[1].set_xlabel('log(review_count)')"
   ]
  },
  {
   "cell_type": "code",
   "execution_count": 28,
   "metadata": {
    "execution": {
     "iopub.execute_input": "2022-01-06T18:36:44.073492Z",
     "iopub.status.busy": "2022-01-06T18:36:44.073212Z",
     "iopub.status.idle": "2022-01-06T18:36:45.095588Z",
     "shell.execute_reply": "2022-01-06T18:36:45.094652Z",
     "shell.execute_reply.started": "2022-01-06T18:36:44.073456Z"
    }
   },
   "outputs": [
    {
     "data": {
      "text/plain": [
       "Text(0.5, 1.0, 'Users with One Review: \\n Distribution of Rating')"
      ]
     },
     "execution_count": 28,
     "metadata": {},
     "output_type": "execute_result"
    },
    {
     "data": {
      "image/png": "[encoded data removed]",
      "text/plain": [
       "<Figure size 720x360 with 2 Axes>"
      ]
     },
     "metadata": {
      "needs_background": "light"
     },
     "output_type": "display_data"
    }
   ],
   "source": [
    "# almost 60% of people have 10 reviews or less\n",
    "fig, axs = plt.subplots(1,2, figsize=(10,5))\n",
    "#sns.scatterplot(x=userdf['review_count'], y=userdf['average_stars'], ax=axs[0])\n",
    "fewrev = (userdf['review_count'] <=10)\n",
    "sns.boxplot(x=userdf.loc[fewrev,'review_count'], y=userdf.loc[fewrev,'average_stars'], ax=axs[0])\n",
    "axs[0].set_title('Users <=10 reviews: \\n Distribution of Average Rating')\n",
    "sns.histplot(x=userdf.loc[userdf['review_count']==1,'average_stars'], ax=axs[1])\n",
    "axs[1].set_title('Users with One Review: \\n Distribution of Rating')\n",
    "#axs[2].hist(x=userdf.loc[userdf['review_count']==1,'average_stars'], histtype='step', density=True, cumulative=True)\n"
   ]
  },
  {
   "cell_type": "code",
   "execution_count": 29,
   "metadata": {
    "execution": {
     "iopub.execute_input": "2022-01-06T18:36:45.097003Z",
     "iopub.status.busy": "2022-01-06T18:36:45.096756Z",
     "iopub.status.idle": "2022-01-06T18:36:45.101297Z",
     "shell.execute_reply": "2022-01-06T18:36:45.100309Z",
     "shell.execute_reply.started": "2022-01-06T18:36:45.096975Z"
    }
   },
   "outputs": [],
   "source": [
    "# why do people start yelping? generally to share a really good or bad experience\n",
    "# ~50% of users with one review rate the business 4+ stars\n",
    "# ~25% rate business 1 star\n",
    "# minority of people only review to share bad experiences (average rating less than 2 stars even as review count increases)"
   ]
  },
  {
   "cell_type": "code",
   "execution_count": 30,
   "metadata": {
    "execution": {
     "iopub.execute_input": "2022-01-06T18:36:45.103170Z",
     "iopub.status.busy": "2022-01-06T18:36:45.102923Z",
     "iopub.status.idle": "2022-01-06T18:37:45.554666Z",
     "shell.execute_reply": "2022-01-06T18:37:45.550864Z",
     "shell.execute_reply.started": "2022-01-06T18:36:45.103139Z"
    }
   },
   "outputs": [
    {
     "data": {
      "text/plain": [
       "Text(0.5, 0, 'log10(Reviews/Year)')"
      ]
     },
     "execution_count": 30,
     "metadata": {},
     "output_type": "execute_result"
    },
    {
     "data": {
      "image/png": "[encoded data removed]",
      "text/plain": [
       "<Figure size 1080x360 with 3 Axes>"
      ]
     },
     "metadata": {
      "needs_background": "light"
     },
     "output_type": "display_data"
    }
   ],
   "source": [
    "# small fraction of users have 100+ reviews\n",
    "fig, axs = plt.subplots(1,3, figsize=(15,5))\n",
    "#sns.scatterplot(x=userdf['review_count'], y=userdf['average_stars'], ax=axs[0])\n",
    "manyrev = (userdf['review_count'] >=100)\n",
    "manyrevperyr = np.log10(userdf.loc[manyrev,'reviews/year'])\n",
    "\n",
    "sns.boxplot(x=manyrevperyr, ax=axs[0])\n",
    "axs[0].set_title('Users >=100 reviews: \\n log10 Reviews per Year')\n",
    "axs[0].set_xlabel('log10(Reviews/Year)')\n",
    "\n",
    "# active users\n",
    "activeuser = (userdf['reviews/year']>=10) & (userdf['reviews/year']<=30)\n",
    "sns.kdeplot(x=userdf.loc[activeuser,'reviews/year'], y=userdf.loc[activeuser,'average_stars'], fill=True, ax=axs[1])\n",
    "axs[1].set_title('Users 10-30 Reviews/Year: \\n Distribution of Average Rating')\n",
    "axs[1].set_xlabel('Reviews/Year')\n",
    "\n",
    "# possible bots/fake reviewers\n",
    "botrevperyr = userdf['reviews/year']>=100\n",
    "sns.kdeplot(x=np.log10(userdf.loc[botrevperyr,'reviews/year']), y=userdf.loc[botrevperyr,'average_stars'], fill=True, ax=axs[2])\n",
    "axs[2].set_title('Users >= 100 Reviews/Year: \\n Distribution of Average Rating')\n",
    "axs[2].set_xlabel('log10(Reviews/Year)')"
   ]
  },
  {
   "cell_type": "code",
   "execution_count": 31,
   "metadata": {
    "execution": {
     "iopub.execute_input": "2022-01-06T18:37:45.557091Z",
     "iopub.status.busy": "2022-01-06T18:37:45.556239Z",
     "iopub.status.idle": "2022-01-06T18:37:45.629193Z",
     "shell.execute_reply": "2022-01-06T18:37:45.628216Z",
     "shell.execute_reply.started": "2022-01-06T18:37:45.557034Z"
    }
   },
   "outputs": [
    {
     "data": {
      "text/html": [
       "<div>\n",
       "<style scoped>\n",
       "    .dataframe tbody tr th:only-of-type {\n",
       "        vertical-align: middle;\n",
       "    }\n",
       "\n",
       "    .dataframe tbody tr th {\n",
       "        vertical-align: top;\n",
       "    }\n",
       "\n",
       "    .dataframe thead th {\n",
       "        text-align: right;\n",
       "    }\n",
       "</style>\n",
       "<table border=\"1\" class=\"dataframe\">\n",
       "  <thead>\n",
       "    <tr style=\"text-align: right;\">\n",
       "      <th></th>\n",
       "      <th>review_count</th>\n",
       "      <th>average_stars</th>\n",
       "      <th>start_year</th>\n",
       "      <th>years_member</th>\n",
       "      <th>reviews/year</th>\n",
       "    </tr>\n",
       "  </thead>\n",
       "  <tbody>\n",
       "    <tr>\n",
       "      <th>count</th>\n",
       "      <td>77229.000000</td>\n",
       "      <td>77229.000000</td>\n",
       "      <td>77229.000000</td>\n",
       "      <td>77229.000000</td>\n",
       "      <td>77229.000000</td>\n",
       "    </tr>\n",
       "    <tr>\n",
       "      <th>mean</th>\n",
       "      <td>159.684976</td>\n",
       "      <td>3.863246</td>\n",
       "      <td>2012.314493</td>\n",
       "      <td>9.685507</td>\n",
       "      <td>16.434891</td>\n",
       "    </tr>\n",
       "    <tr>\n",
       "      <th>std</th>\n",
       "      <td>75.961608</td>\n",
       "      <td>0.443539</td>\n",
       "      <td>3.102431</td>\n",
       "      <td>3.102431</td>\n",
       "      <td>5.308307</td>\n",
       "    </tr>\n",
       "    <tr>\n",
       "      <th>min</th>\n",
       "      <td>10.000000</td>\n",
       "      <td>1.000000</td>\n",
       "      <td>2004.000000</td>\n",
       "      <td>1.000000</td>\n",
       "      <td>10.000000</td>\n",
       "    </tr>\n",
       "    <tr>\n",
       "      <th>25%</th>\n",
       "      <td>105.000000</td>\n",
       "      <td>3.620000</td>\n",
       "      <td>2010.000000</td>\n",
       "      <td>7.000000</td>\n",
       "      <td>12.000000</td>\n",
       "    </tr>\n",
       "    <tr>\n",
       "      <th>50%</th>\n",
       "      <td>145.000000</td>\n",
       "      <td>3.890000</td>\n",
       "      <td>2012.000000</td>\n",
       "      <td>10.000000</td>\n",
       "      <td>15.000000</td>\n",
       "    </tr>\n",
       "    <tr>\n",
       "      <th>75%</th>\n",
       "      <td>200.000000</td>\n",
       "      <td>4.160000</td>\n",
       "      <td>2015.000000</td>\n",
       "      <td>12.000000</td>\n",
       "      <td>19.916667</td>\n",
       "    </tr>\n",
       "    <tr>\n",
       "      <th>max</th>\n",
       "      <td>518.000000</td>\n",
       "      <td>5.000000</td>\n",
       "      <td>2021.000000</td>\n",
       "      <td>18.000000</td>\n",
       "      <td>30.000000</td>\n",
       "    </tr>\n",
       "  </tbody>\n",
       "</table>\n",
       "</div>"
      ],
      "text/plain": [
       "       review_count  average_stars    start_year  years_member  reviews/year\n",
       "count  77229.000000   77229.000000  77229.000000  77229.000000  77229.000000\n",
       "mean     159.684976       3.863246   2012.314493      9.685507     16.434891\n",
       "std       75.961608       0.443539      3.102431      3.102431      5.308307\n",
       "min       10.000000       1.000000   2004.000000      1.000000     10.000000\n",
       "25%      105.000000       3.620000   2010.000000      7.000000     12.000000\n",
       "50%      145.000000       3.890000   2012.000000     10.000000     15.000000\n",
       "75%      200.000000       4.160000   2015.000000     12.000000     19.916667\n",
       "max      518.000000       5.000000   2021.000000     18.000000     30.000000"
      ]
     },
     "execution_count": 31,
     "metadata": {},
     "output_type": "execute_result"
    }
   ],
   "source": [
    "# summary of active users with 10-30 reviews/year\n",
    "userdf[activeuser].describe()"
   ]
  },
  {
   "cell_type": "code",
   "execution_count": 32,
   "metadata": {
    "execution": {
     "iopub.execute_input": "2022-01-06T18:37:45.630628Z",
     "iopub.status.busy": "2022-01-06T18:37:45.630393Z",
     "iopub.status.idle": "2022-01-06T18:37:45.661652Z",
     "shell.execute_reply": "2022-01-06T18:37:45.660711Z",
     "shell.execute_reply.started": "2022-01-06T18:37:45.630598Z"
    }
   },
   "outputs": [
    {
     "data": {
      "text/html": [
       "<div>\n",
       "<style scoped>\n",
       "    .dataframe tbody tr th:only-of-type {\n",
       "        vertical-align: middle;\n",
       "    }\n",
       "\n",
       "    .dataframe tbody tr th {\n",
       "        vertical-align: top;\n",
       "    }\n",
       "\n",
       "    .dataframe thead th {\n",
       "        text-align: right;\n",
       "    }\n",
       "</style>\n",
       "<table border=\"1\" class=\"dataframe\">\n",
       "  <thead>\n",
       "    <tr style=\"text-align: right;\">\n",
       "      <th></th>\n",
       "      <th>review_count</th>\n",
       "      <th>average_stars</th>\n",
       "      <th>start_year</th>\n",
       "      <th>years_member</th>\n",
       "      <th>reviews/year</th>\n",
       "    </tr>\n",
       "  </thead>\n",
       "  <tbody>\n",
       "    <tr>\n",
       "      <th>count</th>\n",
       "      <td>1310.000000</td>\n",
       "      <td>1310.000000</td>\n",
       "      <td>1310.000000</td>\n",
       "      <td>1310.000000</td>\n",
       "      <td>1310.000000</td>\n",
       "    </tr>\n",
       "    <tr>\n",
       "      <th>mean</th>\n",
       "      <td>1640.419847</td>\n",
       "      <td>3.859344</td>\n",
       "      <td>2011.223664</td>\n",
       "      <td>10.776336</td>\n",
       "      <td>151.958436</td>\n",
       "    </tr>\n",
       "    <tr>\n",
       "      <th>std</th>\n",
       "      <td>1103.924251</td>\n",
       "      <td>0.314628</td>\n",
       "      <td>3.168970</td>\n",
       "      <td>3.168970</td>\n",
       "      <td>82.622803</td>\n",
       "    </tr>\n",
       "    <tr>\n",
       "      <th>min</th>\n",
       "      <td>227.000000</td>\n",
       "      <td>2.580000</td>\n",
       "      <td>2004.000000</td>\n",
       "      <td>2.000000</td>\n",
       "      <td>100.000000</td>\n",
       "    </tr>\n",
       "    <tr>\n",
       "      <th>25%</th>\n",
       "      <td>1117.000000</td>\n",
       "      <td>3.650000</td>\n",
       "      <td>2009.000000</td>\n",
       "      <td>9.000000</td>\n",
       "      <td>111.238095</td>\n",
       "    </tr>\n",
       "    <tr>\n",
       "      <th>50%</th>\n",
       "      <td>1463.000000</td>\n",
       "      <td>3.840000</td>\n",
       "      <td>2011.000000</td>\n",
       "      <td>11.000000</td>\n",
       "      <td>129.607692</td>\n",
       "    </tr>\n",
       "    <tr>\n",
       "      <th>75%</th>\n",
       "      <td>1866.750000</td>\n",
       "      <td>4.070000</td>\n",
       "      <td>2013.000000</td>\n",
       "      <td>13.000000</td>\n",
       "      <td>162.340909</td>\n",
       "    </tr>\n",
       "    <tr>\n",
       "      <th>max</th>\n",
       "      <td>15686.000000</td>\n",
       "      <td>5.000000</td>\n",
       "      <td>2020.000000</td>\n",
       "      <td>18.000000</td>\n",
       "      <td>1130.076923</td>\n",
       "    </tr>\n",
       "  </tbody>\n",
       "</table>\n",
       "</div>"
      ],
      "text/plain": [
       "       review_count  average_stars   start_year  years_member  reviews/year\n",
       "count   1310.000000    1310.000000  1310.000000   1310.000000   1310.000000\n",
       "mean    1640.419847       3.859344  2011.223664     10.776336    151.958436\n",
       "std     1103.924251       0.314628     3.168970      3.168970     82.622803\n",
       "min      227.000000       2.580000  2004.000000      2.000000    100.000000\n",
       "25%     1117.000000       3.650000  2009.000000      9.000000    111.238095\n",
       "50%     1463.000000       3.840000  2011.000000     11.000000    129.607692\n",
       "75%     1866.750000       4.070000  2013.000000     13.000000    162.340909\n",
       "max    15686.000000       5.000000  2020.000000     18.000000   1130.076923"
      ]
     },
     "execution_count": 32,
     "metadata": {},
     "output_type": "execute_result"
    }
   ],
   "source": [
    "# summary of potential bots/fake reviewers with >=100 reviews/year\n",
    "userdf[botrevperyr].describe()"
   ]
  },
  {
   "cell_type": "code",
   "execution_count": null,
   "metadata": {
    "execution": {
     "iopub.execute_input": "2022-01-06T18:37:45.664062Z",
     "iopub.status.busy": "2022-01-06T18:37:45.663148Z",
     "iopub.status.idle": "2022-01-06T18:39:37.029916Z",
     "shell.execute_reply": "2022-01-06T18:39:37.028749Z",
     "shell.execute_reply.started": "2022-01-06T18:37:45.663996Z"
    }
   },
   "outputs": [],
   "source": [
    "reviewdf = pd.read_csv('restaurantrev.csv', parse_dates=['date'])\n",
    "reviewdf.head()"
   ]
  },
  {
   "cell_type": "code",
   "execution_count": null,
   "metadata": {
    "execution": {
     "iopub.execute_input": "2022-01-06T18:39:37.034046Z",
     "iopub.status.busy": "2022-01-06T18:39:37.032397Z",
     "iopub.status.idle": "2022-01-06T18:39:37.469003Z",
     "shell.execute_reply": "2022-01-06T18:39:37.467904Z",
     "shell.execute_reply.started": "2022-01-06T18:39:37.033978Z"
    }
   },
   "outputs": [],
   "source": [
    "reviewdf = reviewdf.drop(['review_id'],axis=1)\n",
    "reviewdf.info()"
   ]
  },
  {
   "cell_type": "code",
   "execution_count": null,
   "metadata": {
    "execution": {
     "iopub.execute_input": "2022-01-06T18:39:37.471484Z",
     "iopub.status.busy": "2022-01-06T18:39:37.470899Z",
     "iopub.status.idle": "2022-01-06T18:39:38.396858Z",
     "shell.execute_reply": "2022-01-06T18:39:38.395874Z",
     "shell.execute_reply.started": "2022-01-06T18:39:37.471429Z"
    }
   },
   "outputs": [],
   "source": [
    "# look at reviews of users with >=100 reviews/year\n",
    "# ~80k reviws only comprise a small fraction of 5.5M restaurant reviews\n",
    "botrev = reviewdf[reviewdf.user_id.isin(userdf[botrevperyr].user_id)]\n",
    "print(botrev.info())\n",
    "botrev.head()"
   ]
  },
  {
   "cell_type": "code",
   "execution_count": null,
   "metadata": {
    "execution": {
     "iopub.execute_input": "2022-01-06T18:39:38.398643Z",
     "iopub.status.busy": "2022-01-06T18:39:38.398381Z",
     "iopub.status.idle": "2022-01-06T18:39:40.906053Z",
     "shell.execute_reply": "2022-01-06T18:39:40.905298Z",
     "shell.execute_reply.started": "2022-01-06T18:39:38.398609Z"
    }
   },
   "outputs": [],
   "source": [
    "# active reviwers with 10-30 reviews/year\n",
    "# almost 1M reviews comprises almost 20% of 5.5M restaurant reviews\n",
    "activerev = reviewdf[reviewdf.user_id.isin(userdf[activeuser].user_id)]\n",
    "print(activerev.info())\n",
    "activerev.head()"
   ]
  },
  {
   "cell_type": "code",
   "execution_count": null,
   "metadata": {
    "execution": {
     "iopub.execute_input": "2022-01-06T18:39:40.907544Z",
     "iopub.status.busy": "2022-01-06T18:39:40.907290Z",
     "iopub.status.idle": "2022-01-06T18:39:46.232008Z",
     "shell.execute_reply": "2022-01-06T18:39:46.231085Z",
     "shell.execute_reply.started": "2022-01-06T18:39:40.907511Z"
    }
   },
   "outputs": [],
   "source": [
    "fig,axs = plt.subplots(1,3,figsize=(15,5))\n",
    "\n",
    "normrev = reviewdf[reviewdf.user_id.isin(userdf[fewrev].user_id)]\n",
    "axs[0].hist(x=normrev['stars'])\n",
    "axs[0].set_title('Rating Distribution:\\n Users with <=10 reviews')\n",
    "axs[0].set_xlabel('Stars')\n",
    "axs[1].hist(x=activerev['stars'])\n",
    "axs[1].set_title('Rating Distribution:\\n Users with 10-30 reviews/yr')\n",
    "axs[1].set_xlabel('Stars')\n",
    "axs[2].hist(x=botrev['stars'])\n",
    "axs[2].set_title('Rating Distribution:\\n Users with >=100 reviews/yr')\n",
    "axs[2].set_xlabel('Stars')\n"
   ]
  },
  {
   "cell_type": "code",
   "execution_count": null,
   "metadata": {
    "execution": {
     "iopub.execute_input": "2022-01-06T18:39:46.233626Z",
     "iopub.status.busy": "2022-01-06T18:39:46.233347Z",
     "iopub.status.idle": "2022-01-06T18:39:46.629174Z",
     "shell.execute_reply": "2022-01-06T18:39:46.628294Z",
     "shell.execute_reply.started": "2022-01-06T18:39:46.233584Z"
    }
   },
   "outputs": [],
   "source": [
    "restaurantdf = pd.read_csv('restaurants.csv')\n",
    "# number of potential bots in reviews\n",
    "print('# unique users with >=100 reviews/year in reviews:', len(botrev.user_id.unique()))\n",
    "\n",
    "# summary of restaurants reviewed by potential bots\n",
    "botrest = restaurantdf[restaurantdf.business_id.isin(botrev.business_id)]\n",
    "botrest.describe()"
   ]
  },
  {
   "cell_type": "code",
   "execution_count": null,
   "metadata": {
    "execution": {
     "iopub.execute_input": "2022-01-06T18:39:46.631336Z",
     "iopub.status.busy": "2022-01-06T18:39:46.630680Z",
     "iopub.status.idle": "2022-01-06T18:39:46.658456Z",
     "shell.execute_reply": "2022-01-06T18:39:46.657181Z",
     "shell.execute_reply.started": "2022-01-06T18:39:46.631283Z"
    }
   },
   "outputs": [],
   "source": [
    "# all restaurants\n",
    "restaurantdf.describe()"
   ]
  }
 ],
 "metadata": {
  "kernelspec": {
   "display_name": "Python 3 (ipykernel)",
   "language": "python",
   "name": "python3"
  },
  "language_info": {
   "codemirror_mode": {
    "name": "ipython",
    "version": 3
   },
   "file_extension": ".py",
   "mimetype": "text/x-python",
   "name": "python",
   "nbconvert_exporter": "python",
   "pygments_lexer": "ipython3",
   "version": "3.8.3"
  }
 },
 "nbformat": 4,
 "nbformat_minor": 4
}
