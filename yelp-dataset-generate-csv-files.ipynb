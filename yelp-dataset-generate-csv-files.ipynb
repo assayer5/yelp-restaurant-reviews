{
 "cells": [
  {
   "cell_type": "code",
   "execution_count": null,
   "metadata": {
    "execution": {
     "iopub.execute_input": "2022-01-03T03:26:38.409759Z",
     "iopub.status.busy": "2022-01-03T03:26:38.40886Z",
     "iopub.status.idle": "2022-01-03T03:26:39.531056Z",
     "shell.execute_reply": "2022-01-03T03:26:39.530245Z",
     "shell.execute_reply.started": "2022-01-03T03:26:38.409664Z"
    }
   },
   "outputs": [],
   "source": [
    "# load packages\n",
    "import json\n",
    "import gc\n",
    "import pandas as pd\n",
    "import numpy as np\n",
    "import matplotlib.pyplot as plt\n",
    "import seaborn as sns\n",
    "print('packages loaded')"
   ]
  },
  {
   "cell_type": "code",
   "execution_count": null,
   "metadata": {
    "execution": {
     "iopub.execute_input": "2022-01-02T22:02:57.990269Z",
     "iopub.status.busy": "2022-01-02T22:02:57.989934Z",
     "iopub.status.idle": "2022-01-02T22:10:45.943023Z",
     "shell.execute_reply": "2022-01-02T22:10:45.941672Z",
     "shell.execute_reply.started": "2022-01-02T22:02:57.990235Z"
    }
   },
   "outputs": [],
   "source": [
    "%%time\n",
    "# review data, load part at a time due to RAM limitation\n",
    "revfile = open('yelp_academic_dataset_review.json')\n",
    "data=[]\n",
    "for count, line in enumerate(revfile):\n",
    "    data.append(json.loads(line))\n",
    "    if count == 4500000:\n",
    "        revdata = pd.DataFrame(data)\n",
    "        revdata.to_csv('reviewdf1.csv', index=False)\n",
    "        del revdata\n",
    "        gc.collect\n",
    "        data = []\n",
    "    else:\n",
    "        continue\n",
    "revdata = pd.DataFrame(data)\n",
    "revdata.to_csv('reviewdf2.csv', index=False)\n",
    "revfile.close()\n"
   ]
  },
  {
   "cell_type": "code",
   "execution_count": null,
   "metadata": {
    "execution": {
     "iopub.execute_input": "2022-01-02T22:10:45.947652Z",
     "iopub.status.busy": "2022-01-02T22:10:45.946995Z",
     "iopub.status.idle": "2022-01-02T22:10:51.407023Z",
     "shell.execute_reply": "2022-01-02T22:10:51.405626Z",
     "shell.execute_reply.started": "2022-01-02T22:10:45.947578Z"
    }
   },
   "outputs": [],
   "source": [
    "del revdata, data\n",
    "gc.collect()\n"
   ]
  },
  {
   "cell_type": "code",
   "execution_count": null,
   "metadata": {
    "execution": {
     "iopub.execute_input": "2022-01-02T22:11:08.016334Z",
     "iopub.status.busy": "2022-01-02T22:11:08.015805Z",
     "iopub.status.idle": "2022-01-02T22:12:54.179964Z",
     "shell.execute_reply": "2022-01-02T22:12:54.178821Z",
     "shell.execute_reply.started": "2022-01-02T22:11:08.016292Z"
    }
   },
   "outputs": [],
   "source": [
    "# load reviews, concatenate to single df\n",
    "revdf1 = pd.read_csv('reviewdf1.csv')\n",
    "revdf2 = pd.read_csv('reviewdf2.csv')\n",
    "revdf = pd.concat([revdf1,revdf2], ignore_index=True)\n",
    "revdf.info()"
   ]
  },
  {
   "cell_type": "code",
   "execution_count": null,
   "metadata": {
    "execution": {
     "iopub.execute_input": "2022-01-02T22:14:16.754863Z",
     "iopub.status.busy": "2022-01-02T22:14:16.75423Z",
     "iopub.status.idle": "2022-01-02T22:14:22.306519Z",
     "shell.execute_reply": "2022-01-02T22:14:22.305533Z",
     "shell.execute_reply.started": "2022-01-02T22:14:16.754809Z"
    }
   },
   "outputs": [],
   "source": [
    "# drop selected cols\n",
    "revdf = revdf.drop(['useful','funny','cool'], axis=1)\n",
    "revdf.info()"
   ]
  },
  {
   "cell_type": "code",
   "execution_count": null,
   "metadata": {
    "execution": {
     "iopub.execute_input": "2022-01-02T22:14:27.64551Z",
     "iopub.status.busy": "2022-01-02T22:14:27.64519Z",
     "iopub.status.idle": "2022-01-02T22:14:27.668436Z",
     "shell.execute_reply": "2022-01-02T22:14:27.667735Z",
     "shell.execute_reply.started": "2022-01-02T22:14:27.645478Z"
    }
   },
   "outputs": [],
   "source": [
    "revdf.head()"
   ]
  },
  {
   "cell_type": "code",
   "execution_count": null,
   "metadata": {
    "execution": {
     "iopub.execute_input": "2022-01-02T22:14:39.408331Z",
     "iopub.status.busy": "2022-01-02T22:14:39.40762Z",
     "iopub.status.idle": "2022-01-02T22:14:45.445391Z",
     "shell.execute_reply": "2022-01-02T22:14:45.443978Z",
     "shell.execute_reply.started": "2022-01-02T22:14:39.408292Z"
    }
   },
   "outputs": [],
   "source": [
    "# business data\n",
    "data_file = open('yelp_academic_dataset_business.json')\n",
    "data = []\n",
    "for line in data_file:\n",
    "    data.append(json.loads(line))\n",
    "df = pd.DataFrame(data)\n",
    "data_file.close()\n",
    "del data\n",
    "gc.collect()\n",
    "\n",
    "df.info()"
   ]
  },
  {
   "cell_type": "code",
   "execution_count": null,
   "metadata": {
    "execution": {
     "iopub.execute_input": "2022-01-02T22:14:45.447383Z",
     "iopub.status.busy": "2022-01-02T22:14:45.447115Z",
     "iopub.status.idle": "2022-01-02T22:14:45.474226Z",
     "shell.execute_reply": "2022-01-02T22:14:45.473268Z",
     "shell.execute_reply.started": "2022-01-02T22:14:45.447346Z"
    }
   },
   "outputs": [],
   "source": [
    "df.head()"
   ]
  },
  {
   "cell_type": "code",
   "execution_count": null,
   "metadata": {
    "execution": {
     "iopub.execute_input": "2022-01-02T22:14:51.590611Z",
     "iopub.status.busy": "2022-01-02T22:14:51.58956Z",
     "iopub.status.idle": "2022-01-02T22:14:51.883404Z",
     "shell.execute_reply": "2022-01-02T22:14:51.882467Z",
     "shell.execute_reply.started": "2022-01-02T22:14:51.590547Z"
    }
   },
   "outputs": [],
   "source": [
    "# drop selected columns\n",
    "df = df.drop(df.columns[[6,7,10,11,13]], axis=1)\n",
    "df.info()"
   ]
  },
  {
   "cell_type": "code",
   "execution_count": null,
   "metadata": {
    "execution": {
     "iopub.execute_input": "2022-01-02T22:14:56.501696Z",
     "iopub.status.busy": "2022-01-02T22:14:56.500554Z",
     "iopub.status.idle": "2022-01-02T22:14:56.783654Z",
     "shell.execute_reply": "2022-01-02T22:14:56.782511Z",
     "shell.execute_reply.started": "2022-01-02T22:14:56.501542Z"
    }
   },
   "outputs": [],
   "source": [
    "# check what kinds of businesses have na\n",
    "print(df.isna().sum())\n",
    "df[df.categories.isna()]"
   ]
  },
  {
   "cell_type": "code",
   "execution_count": null,
   "metadata": {
    "execution": {
     "iopub.execute_input": "2022-01-02T22:15:05.888307Z",
     "iopub.status.busy": "2022-01-02T22:15:05.888001Z",
     "iopub.status.idle": "2022-01-02T22:15:06.547177Z",
     "shell.execute_reply": "2022-01-02T22:15:06.545822Z",
     "shell.execute_reply.started": "2022-01-02T22:15:05.888276Z"
    }
   },
   "outputs": [],
   "source": [
    "# drop rows with no categories listed\n",
    "df = df.dropna(axis=0)\n",
    "# select restaurants \n",
    "restaurants = df.loc[:, 'categories'].str.contains('Restaurants') # bool, restaurant rows\n",
    "df = df.loc[restaurants,:]\n",
    "df.info()"
   ]
  },
  {
   "cell_type": "code",
   "execution_count": null,
   "metadata": {
    "execution": {
     "iopub.execute_input": "2022-01-02T22:15:09.87723Z",
     "iopub.status.busy": "2022-01-02T22:15:09.876924Z",
     "iopub.status.idle": "2022-01-02T22:15:12.443146Z",
     "shell.execute_reply": "2022-01-02T22:15:12.442018Z",
     "shell.execute_reply.started": "2022-01-02T22:15:09.877198Z"
    }
   },
   "outputs": [],
   "source": [
    "# select restaurant reviews only\n",
    "revdf = revdf[revdf.business_id.isin(df.business_id.values)]\n",
    "print(revdf.info())\n",
    "revdf.head()"
   ]
  },
  {
   "cell_type": "code",
   "execution_count": null,
   "metadata": {
    "execution": {
     "iopub.execute_input": "2022-01-02T22:15:33.944265Z",
     "iopub.status.busy": "2022-01-02T22:15:33.94391Z",
     "iopub.status.idle": "2022-01-02T22:18:42.314779Z",
     "shell.execute_reply": "2022-01-02T22:18:42.313689Z",
     "shell.execute_reply.started": "2022-01-02T22:15:33.944228Z"
    }
   },
   "outputs": [],
   "source": [
    "revdf.business_id.unique().shape\n",
    "revdf.to_csv('restaurantrev.csv',index=False)\n",
    "df.to_csv('restaurants.csv', index=False)\n"
   ]
  },
  {
   "cell_type": "code",
   "execution_count": null,
   "metadata": {},
   "outputs": [],
   "source": [
    "os.remove('./reviewdf1.csv')\n",
    "os.remove('./reviewdf2.csv')"
   ]
  },
  {
   "cell_type": "code",
   "execution_count": null,
   "metadata": {},
   "outputs": [],
   "source": [
    "plt.hist(revdf.stars)\n",
    "revdf.value_counts('stars')"
   ]
  },
  {
   "cell_type": "code",
   "execution_count": null,
   "metadata": {
    "execution": {
     "iopub.execute_input": "2022-01-03T03:27:03.028932Z",
     "iopub.status.busy": "2022-01-03T03:27:03.028592Z",
     "iopub.status.idle": "2022-01-03T03:28:45.571828Z",
     "shell.execute_reply": "2022-01-03T03:28:45.570939Z",
     "shell.execute_reply.started": "2022-01-03T03:27:03.028876Z"
    }
   },
   "outputs": [],
   "source": [
    "# user data\n",
    "data_file = open('yelp_academic_dataset_user.json')\n",
    "data = []\n",
    "for line in data_file:\n",
    "    data.append(json.loads(line))\n",
    "df = pd.DataFrame(data)\n",
    "#df.to_csv('userdf.csv', index=False)\n",
    "data_file.close()\n",
    "del data\n",
    "gc.collect()"
   ]
  },
  {
   "cell_type": "code",
   "execution_count": null,
   "metadata": {
    "execution": {
     "iopub.execute_input": "2022-01-03T03:28:45.582127Z",
     "iopub.status.busy": "2022-01-03T03:28:45.579258Z",
     "iopub.status.idle": "2022-01-03T03:28:45.693852Z",
     "shell.execute_reply": "2022-01-03T03:28:45.693002Z",
     "shell.execute_reply.started": "2022-01-03T03:28:45.58208Z"
    }
   },
   "outputs": [],
   "source": [
    "df.head()"
   ]
  },
  {
   "cell_type": "code",
   "execution_count": null,
   "metadata": {
    "execution": {
     "iopub.execute_input": "2022-01-03T03:28:56.254318Z",
     "iopub.status.busy": "2022-01-03T03:28:56.253673Z",
     "iopub.status.idle": "2022-01-03T03:29:09.08929Z",
     "shell.execute_reply": "2022-01-03T03:29:09.088282Z",
     "shell.execute_reply.started": "2022-01-03T03:28:56.254271Z"
    }
   },
   "outputs": [],
   "source": [
    "# remove unneeded columns \n",
    "cols = df.columns[4:7].append(df.columns[11::])\n",
    "cols = cols.append(df.columns[8:10])\n",
    "print(cols)\n",
    "# save to csv file\n",
    "df.drop(cols, axis=1).to_csv('userdf.csv', index=False)"
   ]
  },
  {
   "cell_type": "code",
   "execution_count": null,
   "metadata": {
    "execution": {
     "iopub.execute_input": "2022-01-03T03:29:09.091493Z",
     "iopub.status.busy": "2022-01-03T03:29:09.091234Z",
     "iopub.status.idle": "2022-01-03T03:29:09.214817Z",
     "shell.execute_reply": "2022-01-03T03:29:09.213903Z",
     "shell.execute_reply.started": "2022-01-03T03:29:09.091463Z"
    }
   },
   "outputs": [],
   "source": [
    "del df\n",
    "gc.collect()"
   ]
  },
  {
   "cell_type": "code",
   "execution_count": null,
   "metadata": {
    "execution": {
     "iopub.execute_input": "2022-01-03T03:29:09.429349Z",
     "iopub.status.busy": "2022-01-03T03:29:09.429032Z",
     "iopub.status.idle": "2022-01-03T03:29:15.054767Z",
     "shell.execute_reply": "2022-01-03T03:29:15.054042Z",
     "shell.execute_reply.started": "2022-01-03T03:29:09.42931Z"
    }
   },
   "outputs": [],
   "source": [
    "# load user csv \n",
    "userdf = pd.read_csv('./userdf.csv', parse_dates=['yelping_since'])\n",
    "userdf.head()"
   ]
  },
  {
   "cell_type": "code",
   "execution_count": null,
   "metadata": {
    "execution": {
     "iopub.execute_input": "2022-01-03T03:29:15.05646Z",
     "iopub.status.busy": "2022-01-03T03:29:15.056113Z",
     "iopub.status.idle": "2022-01-03T03:29:15.076932Z",
     "shell.execute_reply": "2022-01-03T03:29:15.076001Z",
     "shell.execute_reply.started": "2022-01-03T03:29:15.056432Z"
    }
   },
   "outputs": [],
   "source": [
    "userdf.info()"
   ]
  },
  {
   "cell_type": "code",
   "execution_count": null,
   "metadata": {
    "execution": {
     "iopub.execute_input": "2022-01-03T03:29:22.137182Z",
     "iopub.status.busy": "2022-01-03T03:29:22.136803Z",
     "iopub.status.idle": "2022-01-03T03:29:22.340138Z",
     "shell.execute_reply": "2022-01-03T03:29:22.339155Z",
     "shell.execute_reply.started": "2022-01-03T03:29:22.137145Z"
    }
   },
   "outputs": [],
   "source": [
    "userdf.describe()"
   ]
  }
 ],
 "metadata": {
  "kernelspec": {
   "display_name": "Python 3 (ipykernel)",
   "language": "python",
   "name": "python3"
  },
  "language_info": {
   "codemirror_mode": {
    "name": "ipython",
    "version": 3
   },
   "file_extension": ".py",
   "mimetype": "text/x-python",
   "name": "python",
   "nbconvert_exporter": "python",
   "pygments_lexer": "ipython3",
   "version": "3.8.3"
  }
 },
 "nbformat": 4,
 "nbformat_minor": 4
}
