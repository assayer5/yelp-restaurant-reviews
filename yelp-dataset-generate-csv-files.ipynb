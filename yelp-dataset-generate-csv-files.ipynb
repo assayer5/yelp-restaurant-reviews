{
 "cells": [
  {
   "cell_type": "code",
   "execution_count": 1,
   "metadata": {
    "execution": {
     "iopub.execute_input": "2022-01-06T19:17:53.928037Z",
     "iopub.status.busy": "2022-01-06T19:17:53.927712Z",
     "iopub.status.idle": "2022-01-06T19:17:55.062623Z",
     "shell.execute_reply": "2022-01-06T19:17:55.061923Z",
     "shell.execute_reply.started": "2022-01-06T19:17:53.927938Z"
    }
   },
   "outputs": [],
   "source": [
    "# load packages\n",
    "import json\n",
    "import gc\n",
    "import pandas as pd\n",
    "import numpy as np\n",
    "import matplotlib.pyplot as plt\n",
    "import seaborn as sns\n",
    "print('packages loaded')"
   ]
  },
  {
   "cell_type": "code",
   "execution_count": 3,
   "metadata": {
    "execution": {
     "iopub.execute_input": "2022-01-06T18:41:00.827445Z",
     "iopub.status.busy": "2022-01-06T18:41:00.826913Z",
     "iopub.status.idle": "2022-01-06T18:48:36.834117Z",
     "shell.execute_reply": "2022-01-06T18:48:36.832671Z",
     "shell.execute_reply.started": "2022-01-06T18:41:00.827413Z"
    }
   },
   "outputs": [],
   "source": [
    "%%time\n",
    "# review data\n",
    "revfile = open('yelp_academic_dataset_review.json')\n",
    "data=[]\n",
    "for count, line in enumerate(revfile):\n",
    "    data.append(json.loads(line))\n",
    "    if count == 4500000:\n",
    "        revdata = pd.DataFrame(data)\n",
    "        revdata.to_csv('reviewdf1.csv', index=False)\n",
    "        del revdata\n",
    "        gc.collect\n",
    "        data = []\n",
    "    else:\n",
    "        continue\n",
    "revdata = pd.DataFrame(data)\n",
    "revdata.to_csv('reviewdf2.csv', index=False)\n",
    "revfile.close()\n"
   ]
  },
  {
   "cell_type": "code",
   "execution_count": 4,
   "metadata": {
    "execution": {
     "iopub.execute_input": "2022-01-06T18:48:36.836678Z",
     "iopub.status.busy": "2022-01-06T18:48:36.836343Z",
     "iopub.status.idle": "2022-01-06T18:48:40.522044Z",
     "shell.execute_reply": "2022-01-06T18:48:40.521053Z",
     "shell.execute_reply.started": "2022-01-06T18:48:36.836640Z"
    }
   },
   "outputs": [],
   "source": [
    "del revdata, data\n",
    "gc.collect()\n"
   ]
  },
  {
   "cell_type": "code",
   "execution_count": 5,
   "metadata": {
    "execution": {
     "iopub.execute_input": "2022-01-06T18:48:40.524613Z",
     "iopub.status.busy": "2022-01-06T18:48:40.524397Z",
     "iopub.status.idle": "2022-01-06T18:50:11.596445Z",
     "shell.execute_reply": "2022-01-06T18:50:11.595462Z",
     "shell.execute_reply.started": "2022-01-06T18:48:40.524587Z"
    }
   },
   "outputs": [],
   "source": [
    "# load reviews, concatenate to single df\n",
    "revdf1 = pd.read_csv('reviewdf1.csv')\n",
    "revdf2 = pd.read_csv('reviewdf2.csv')\n",
    "revdf = pd.concat([revdf1,revdf2], ignore_index=True)\n",
    "revdf.info()"
   ]
  },
  {
   "cell_type": "code",
   "execution_count": 6,
   "metadata": {
    "execution": {
     "iopub.execute_input": "2022-01-06T18:50:11.624120Z",
     "iopub.status.busy": "2022-01-06T18:50:11.623921Z",
     "iopub.status.idle": "2022-01-06T18:50:15.387519Z",
     "shell.execute_reply": "2022-01-06T18:50:15.386703Z",
     "shell.execute_reply.started": "2022-01-06T18:50:11.624094Z"
    }
   },
   "outputs": [],
   "source": [
    "# drop selected cols\n",
    "revdf = revdf.drop(['useful','funny','cool'], axis=1)\n",
    "revdf.info()"
   ]
  },
  {
   "cell_type": "code",
   "execution_count": 7,
   "metadata": {
    "execution": {
     "iopub.execute_input": "2022-01-06T18:50:15.389143Z",
     "iopub.status.busy": "2022-01-06T18:50:15.388901Z",
     "iopub.status.idle": "2022-01-06T18:50:15.409188Z",
     "shell.execute_reply": "2022-01-06T18:50:15.408539Z",
     "shell.execute_reply.started": "2022-01-06T18:50:15.389099Z"
    }
   },
   "outputs": [],
   "source": [
    "revdf.head()"
   ]
  },
  {
   "cell_type": "code",
   "execution_count": 8,
   "metadata": {
    "execution": {
     "iopub.execute_input": "2022-01-06T18:50:15.410858Z",
     "iopub.status.busy": "2022-01-06T18:50:15.410128Z",
     "iopub.status.idle": "2022-01-06T18:50:21.442244Z",
     "shell.execute_reply": "2022-01-06T18:50:21.441327Z",
     "shell.execute_reply.started": "2022-01-06T18:50:15.410826Z"
    }
   },
   "outputs": [],
   "source": [
    "# business data\n",
    "data_file = open('yelp_academic_dataset_business.json')\n",
    "data = []\n",
    "for line in data_file:\n",
    "    data.append(json.loads(line))\n",
    "df = pd.DataFrame(data)\n",
    "data_file.close()\n",
    "del data\n",
    "gc.collect()\n",
    "\n",
    "df.info()"
   ]
  },
  {
   "cell_type": "code",
   "execution_count": 9,
   "metadata": {
    "execution": {
     "iopub.execute_input": "2022-01-06T18:50:21.443974Z",
     "iopub.status.busy": "2022-01-06T18:50:21.443744Z",
     "iopub.status.idle": "2022-01-06T18:50:21.467964Z",
     "shell.execute_reply": "2022-01-06T18:50:21.467053Z",
     "shell.execute_reply.started": "2022-01-06T18:50:21.443945Z"
    }
   },
   "outputs": [],
   "source": [
    "df.head()"
   ]
  },
  {
   "cell_type": "code",
   "execution_count": 10,
   "metadata": {
    "execution": {
     "iopub.execute_input": "2022-01-06T18:50:21.469741Z",
     "iopub.status.busy": "2022-01-06T18:50:21.469494Z",
     "iopub.status.idle": "2022-01-06T18:50:21.721902Z",
     "shell.execute_reply": "2022-01-06T18:50:21.721043Z",
     "shell.execute_reply.started": "2022-01-06T18:50:21.469707Z"
    }
   },
   "outputs": [],
   "source": [
    "# drop selected columns\n",
    "df = df.drop(df.columns[[6,7,10,11,13]], axis=1)\n",
    "df.info()"
   ]
  },
  {
   "cell_type": "code",
   "execution_count": 11,
   "metadata": {
    "execution": {
     "iopub.execute_input": "2022-01-06T18:50:21.723590Z",
     "iopub.status.busy": "2022-01-06T18:50:21.723358Z",
     "iopub.status.idle": "2022-01-06T18:50:21.968758Z",
     "shell.execute_reply": "2022-01-06T18:50:21.967850Z",
     "shell.execute_reply.started": "2022-01-06T18:50:21.723560Z"
    }
   },
   "outputs": [],
   "source": [
    "# check what kinds of businesses have na\n",
    "print(df.isna().sum())\n",
    "df[df.categories.isna()]"
   ]
  },
  {
   "cell_type": "code",
   "execution_count": 12,
   "metadata": {
    "execution": {
     "iopub.execute_input": "2022-01-06T18:50:21.970338Z",
     "iopub.status.busy": "2022-01-06T18:50:21.970121Z",
     "iopub.status.idle": "2022-01-06T18:50:22.488582Z",
     "shell.execute_reply": "2022-01-06T18:50:22.487899Z",
     "shell.execute_reply.started": "2022-01-06T18:50:21.970312Z"
    }
   },
   "outputs": [],
   "source": [
    "# drop rows with no categories listed\n",
    "df = df.dropna(axis=0)\n",
    "# select restaurants \n",
    "restaurants = df.loc[:, 'categories'].str.contains('Restaurants') # bool, restaurant rows\n",
    "df = df.loc[restaurants,:]\n",
    "df.info()"
   ]
  },
  {
   "cell_type": "code",
   "execution_count": 13,
   "metadata": {
    "execution": {
     "iopub.execute_input": "2022-01-06T18:50:22.490383Z",
     "iopub.status.busy": "2022-01-06T18:50:22.490157Z",
     "iopub.status.idle": "2022-01-06T18:50:24.448329Z",
     "shell.execute_reply": "2022-01-06T18:50:24.447474Z",
     "shell.execute_reply.started": "2022-01-06T18:50:22.490356Z"
    }
   },
   "outputs": [],
   "source": [
    "# select restaurant reviews only\n",
    "revdf = revdf[revdf.business_id.isin(df.business_id.values)]\n",
    "print(revdf.info())\n",
    "revdf.head()"
   ]
  },
  {
   "cell_type": "code",
   "execution_count": 14,
   "metadata": {
    "execution": {
     "iopub.execute_input": "2022-01-06T18:50:24.450289Z",
     "iopub.status.busy": "2022-01-06T18:50:24.449760Z",
     "iopub.status.idle": "2022-01-06T18:53:21.839776Z",
     "shell.execute_reply": "2022-01-06T18:53:21.838738Z",
     "shell.execute_reply.started": "2022-01-06T18:50:24.450237Z"
    }
   },
   "outputs": [],
   "source": [
    "revdf.business_id.unique().shape\n",
    "revdf.to_csv('restaurantrev.csv',index=False)\n",
    "df.to_csv('restaurants.csv', index=False)\n"
   ]
  },
  {
   "cell_type": "code",
   "execution_count": 15,
   "metadata": {
    "execution": {
     "iopub.execute_input": "2022-01-06T18:53:21.842034Z",
     "iopub.status.busy": "2022-01-06T18:53:21.841769Z",
     "iopub.status.idle": "2022-01-06T18:53:21.974635Z",
     "shell.execute_reply": "2022-01-06T18:53:21.973756Z",
     "shell.execute_reply.started": "2022-01-06T18:53:21.842005Z"
    }
   },
   "outputs": [],
   "source": [
    "os.remove('./reviewdf1.csv')\n",
    "os.remove('./reviewdf2.csv')"
   ]
  },
  {
   "cell_type": "code",
   "execution_count": 16,
   "metadata": {
    "execution": {
     "iopub.execute_input": "2022-01-06T18:53:21.976272Z",
     "iopub.status.busy": "2022-01-06T18:53:21.976070Z",
     "iopub.status.idle": "2022-01-06T18:53:22.598351Z",
     "shell.execute_reply": "2022-01-06T18:53:22.597431Z",
     "shell.execute_reply.started": "2022-01-06T18:53:21.976247Z"
    }
   },
   "outputs": [],
   "source": [
    "plt.hist(revdf.stars)\n",
    "#plt.hist(revdf.stars, histtype='step',density=True, cumulative=True)\n",
    "revdf.value_counts('stars')"
   ]
  },
  {
   "cell_type": "code",
   "execution_count": 2,
   "metadata": {
    "execution": {
     "iopub.execute_input": "2022-01-06T19:18:06.421004Z",
     "iopub.status.busy": "2022-01-06T19:18:06.420321Z",
     "iopub.status.idle": "2022-01-06T19:19:48.978532Z",
     "shell.execute_reply": "2022-01-06T19:19:48.977143Z",
     "shell.execute_reply.started": "2022-01-06T19:18:06.420963Z"
    }
   },
   "outputs": [],
   "source": [
    "# user data\n",
    "data_file = open('yelp_academic_dataset_user.json')\n",
    "data = []\n",
    "for line in data_file:\n",
    "    data.append(json.loads(line))\n",
    "df = pd.DataFrame(data)\n",
    "#df.to_csv('userdf.csv', index=False)\n",
    "data_file.close()\n",
    "del data\n",
    "gc.collect()"
   ]
  },
  {
   "cell_type": "code",
   "execution_count": 4,
   "metadata": {
    "execution": {
     "iopub.execute_input": "2022-01-06T19:19:49.094746Z",
     "iopub.status.busy": "2022-01-06T19:19:49.094402Z",
     "iopub.status.idle": "2022-01-06T19:19:49.122332Z",
     "shell.execute_reply": "2022-01-06T19:19:49.121080Z",
     "shell.execute_reply.started": "2022-01-06T19:19:49.094699Z"
    }
   },
   "outputs": [],
   "source": [
    "df.head()"
   ]
  },
  {
   "cell_type": "code",
   "execution_count": 5,
   "metadata": {
    "execution": {
     "iopub.execute_input": "2022-01-06T19:19:49.126068Z",
     "iopub.status.busy": "2022-01-06T19:19:49.125172Z",
     "iopub.status.idle": "2022-01-06T19:20:03.662378Z",
     "shell.execute_reply": "2022-01-06T19:20:03.660207Z",
     "shell.execute_reply.started": "2022-01-06T19:19:49.126020Z"
    }
   },
   "outputs": [],
   "source": [
    "# remove unneeded columns \n",
    "cols = df.columns[4:7].append(df.columns[11::])\n",
    "cols = cols.append(df.columns[8:10])\n",
    "print(cols)\n",
    "# save to csv file\n",
    "df.drop(cols, axis=1).to_csv('userdf.csv', index=False)"
   ]
  },
  {
   "cell_type": "code",
   "execution_count": 6,
   "metadata": {
    "execution": {
     "iopub.execute_input": "2022-01-06T19:20:03.666475Z",
     "iopub.status.busy": "2022-01-06T19:20:03.666032Z",
     "iopub.status.idle": "2022-01-06T19:20:03.954931Z",
     "shell.execute_reply": "2022-01-06T19:20:03.953940Z",
     "shell.execute_reply.started": "2022-01-06T19:20:03.666416Z"
    }
   },
   "outputs": [],
   "source": [
    "del df\n",
    "gc.collect()"
   ]
  },
  {
   "cell_type": "code",
   "execution_count": 7,
   "metadata": {
    "execution": {
     "iopub.execute_input": "2022-01-06T19:20:03.957508Z",
     "iopub.status.busy": "2022-01-06T19:20:03.957262Z",
     "iopub.status.idle": "2022-01-06T19:20:09.922721Z",
     "shell.execute_reply": "2022-01-06T19:20:09.921452Z",
     "shell.execute_reply.started": "2022-01-06T19:20:03.957479Z"
    }
   },
   "outputs": [],
   "source": [
    "# load user csv \n",
    "userdf = pd.read_csv('./userdf.csv', parse_dates=['yelping_since'])\n",
    "userdf.head()"
   ]
  },
  {
   "cell_type": "code",
   "execution_count": 8,
   "metadata": {
    "execution": {
     "iopub.execute_input": "2022-01-06T19:20:09.924924Z",
     "iopub.status.busy": "2022-01-06T19:20:09.924361Z",
     "iopub.status.idle": "2022-01-06T19:20:09.947461Z",
     "shell.execute_reply": "2022-01-06T19:20:09.946703Z",
     "shell.execute_reply.started": "2022-01-06T19:20:09.924887Z"
    }
   },
   "outputs": [],
   "source": [
    "userdf.info()"
   ]
  },
  {
   "cell_type": "code",
   "execution_count": 9,
   "metadata": {
    "execution": {
     "iopub.execute_input": "2022-01-06T19:20:09.949677Z",
     "iopub.status.busy": "2022-01-06T19:20:09.949191Z",
     "iopub.status.idle": "2022-01-06T19:20:10.169509Z",
     "shell.execute_reply": "2022-01-06T19:20:10.168274Z",
     "shell.execute_reply.started": "2022-01-06T19:20:09.949628Z"
    }
   },
   "outputs": [],
   "source": [
    "userdf.describe()"
   ]
  }
 ],
 "metadata": {
  "kernelspec": {
   "display_name": "Python 3 (ipykernel)",
   "language": "python",
   "name": "python3"
  },
  "language_info": {
   "codemirror_mode": {
    "name": "ipython",
    "version": 3
   },
   "file_extension": ".py",
   "mimetype": "text/x-python",
   "name": "python",
   "nbconvert_exporter": "python",
   "pygments_lexer": "ipython3",
   "version": "3.8.3"
  }
 },
 "nbformat": 4,
 "nbformat_minor": 4
}
