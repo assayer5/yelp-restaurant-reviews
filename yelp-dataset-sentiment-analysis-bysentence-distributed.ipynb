{
 "cells": [
  {
   "cell_type": "code",
   "execution_count": 0,
   "metadata": {
    "application/vnd.databricks.v1+cell": {
     "inputWidgets": {},
     "nuid": "83db491b-fd93-492a-a430-afff887ebacd",
     "showTitle": false,
     "title": ""
    },
    "execution": {
     "iopub.execute_input": "2022-01-06T05:40:11.417992Z",
     "iopub.status.busy": "2022-01-06T05:40:11.417688Z",
     "iopub.status.idle": "2022-01-06T05:40:13.227584Z",
     "shell.execute_reply": "2022-01-06T05:40:13.226397Z",
     "shell.execute_reply.started": "2022-01-06T05:40:11.417893Z"
    }
   },
   "outputs": [
    {
     "data": {
      "text/plain": [
       "[nltk_data] Downloading package punkt to /root/nltk_data...\n",
       "[nltk_data]   Unzipping tokenizers/punkt.zip.\n",
       "[nltk_data] Downloading package vader_lexicon to /root/nltk_data...\n"
      ]
     },
     "metadata": {
      "application/vnd.databricks.v1+output": {
       "addedWidgets": {},
       "arguments": {},
       "data": "[nltk_data] Downloading package punkt to /root/nltk_data...\n[nltk_data]   Unzipping tokenizers/punkt.zip.\n[nltk_data] Downloading package vader_lexicon to /root/nltk_data...\n",
       "datasetInfos": [],
       "metadata": {},
       "removedWidgets": [],
       "type": "ansi"
      }
     },
     "output_type": "display_data"
    }
   ],
   "source": [
    "\n",
    "import pandas as pd\n",
    "import numpy as np\n",
    "import nltk\n",
    "\n",
    "from nltk.tokenize import sent_tokenize\n",
    "nltk.download('punkt')\n",
    "nltk.download('vader_lexicon')\n",
    "\n",
    "from nltk.sentiment.vader import SentimentIntensityAnalyzer\n",
    "\n",
    "from pyspark import SparkContext\n",
    "from pyspark.sql import SparkSession\n",
    "import pyspark.sql.functions as F\n",
    "from pyspark.sql.types import *"
   ]
  },
  {
   "cell_type": "code",
   "execution_count": 0,
   "metadata": {
    "application/vnd.databricks.v1+cell": {
     "inputWidgets": {},
     "nuid": "17999d9d-f203-449d-9892-97ec8f618853",
     "showTitle": false,
     "title": ""
    }
   },
   "outputs": [],
   "source": [
    "# start spark session\n",
    "spark = SparkSession.builder.appName('nltk_test').getOrCreate()"
   ]
  },
  {
   "cell_type": "code",
   "execution_count": 0,
   "metadata": {
    "application/vnd.databricks.v1+cell": {
     "inputWidgets": {},
     "nuid": "bcb1c203-aefc-487e-96be-080bbdbae0dc",
     "showTitle": false,
     "title": ""
    }
   },
   "outputs": [],
   "source": [
    "# File location and type\n",
    "file_location = \"/FileStore/tables/restaurantrev1.csv\"\n",
    "file_type = \"csv\"\n",
    "\n",
    "# CSV options\n",
    "infer_schema = \"true\"\n",
    "first_row_is_header = \"true\"\n",
    "delimiter = \",\"\n",
    "\n",
    "# The applied options are for CSV files. For other file types, these will be ignored.\n",
    "df = spark.read \\\n",
    "  .option(\"inferSchema\", infer_schema) \\\n",
    "  .option(\"header\", first_row_is_header) \\\n",
    "  .option(\"sep\", delimiter) \\\n",
    "  .option(\"multiLine\", \"true\") \\\n",
    "  .csv(file_location)\n"
   ]
  },
  {
   "cell_type": "code",
   "execution_count": 0,
   "metadata": {
    "application/vnd.databricks.v1+cell": {
     "inputWidgets": {},
     "nuid": "3095eede-2f79-4cd0-a607-d6b43ae9284e",
     "showTitle": false,
     "title": ""
    }
   },
   "outputs": [
    {
     "data": {
      "text/plain": [
       "+----------------------+----------------------+----------------------+-----+--------------------------------------------------+-------------------+\n",
       "|             review_id|               user_id|           business_id|stars|                                              text|               date|\n",
       "+----------------------+----------------------+----------------------+-----+--------------------------------------------------+-------------------+\n",
       "|KU_O5udG6zpxOg-VcAEodg|mh_-eMZ6K5RLWhZyISBhwA|XQfwVwDr-v0ZS3_CbbE5Xw|  3.0|If you decide to eat here, just be aware it is ...|2018-07-07 22:09:11|\n",
       "|saUsX_uimxRlCVr67Z4Jig|8g_iMtfSiwikVnbP2etR0A|YjUWPpI6HXG530lwP-fb2A|  3.0|Family diner. Had the buffet. Eclectic assortme...|2014-02-05 20:30:30|\n",
       "|AqPFMleE6RsU23_auESxiA|_7bHUi9Uuf5__HHc_Q8guQ|kxX2SOes4o-D3ZQBkiMRfA|  5.0|Wow!  Yummy, different,  delicious.   Our favor...|2015-01-04 00:01:03|\n",
       "|Sx8TMOWLNuJBWer-0pcmoA|bcjbaE6dDog4jkNY91ncLQ|e4Vwtrqf-wpJfwesgvdgxQ|  4.0|Cute interior and owner (?) gave us tour of upc...|2017-01-14 20:54:15|\n",
       "|JrIxlS1TzJ-iCu79ul40cQ|eUta8W_HdHMXPzLBBZhL1A|04UD14gamNjLY0IDYVhHJg|  1.0|I am a long term frequent customer of this esta...|2015-09-23 23:10:31|\n",
       "|_ZeMknuYdlQcUqng_Im3yg|yfFzsLmaWF2d4Sr0UNbBgg|LHSTtnW3YHCeUkRDGyJOyw|  5.0|Amazingly amazing wings and homemade bleu chees...|2015-08-07 02:29:16|\n",
       "|pUycOfUwM8vqX7KjRRhUEA|59MxRhNVhU9MYndMkz0wtw|gebiRewfieSdtt17PTW6Zg|  3.0|Had a party of 6 here for hibachi. Our waitress...|2016-07-25 07:31:06|\n",
       "|l3Wk_mvAog6XANIuGQ9C7Q|ZbqSHbgCjzVAqaa7NKWn5A|EQ-TZ2eeD_E0BHuvoaeG5Q|  4.0|Locals recommended Milktooth, and it's an amazi...|2015-08-19 14:31:45|\n",
       "|XW_LfMv0fV21l9c6xQd_lw|9OAtfnWag-ajVxRbUTGIyg|lj-E32x9_FA7GmUrBGBEWg|  4.0|Love going here for happy hour or dinner!  Grea...|2014-06-27 22:44:01|\n",
       "|8JFGBuHMoiNDyfcxuWNtrA|smOvOajNG0lS4Pq7d8g4JQ|RZtGWDLCAtuipwaZ-UfjmQ|  4.0|Good food--loved the gnocchi with marinara\\nthe...|2009-10-14 19:57:14|\n",
       "|UBp0zWyH60Hmw6Fsasei7w|4Uh27DgGzsp6PqrH913giQ|otQS34_MymijPTdNBoBdCw|  4.0|The bun makes the Sonoran Dog. It's like a snug...|2011-10-27 17:12:05|\n",
       "|OAhBYw8IQ6wlfw1owXWRWw|1C2lxzUo1Hyye4RFIXly3g|BVndHaLihEYbr76Z0CMEGw|  5.0|Great place for breakfast! I had the waffle, wh...|2014-10-11 16:22:06|\n",
       "|oyaMhzBSwfGgemSGuZCdwQ|Dd1jQj7S-BFGqRbApFzCFw|YtSqYv1Q_pOltsVPSx54SA|  5.0|Tremendous service (Big shout out to Douglas) t...|2013-06-24 11:21:25|\n",
       "|LnGZB0fjfgeVDVz5IHuEVA|j2wlzrntrbKwyOcOiB3l3w|rBdG_23USc7DletfZ11xGA|  4.0|The hubby and I have been here on multiple occa...|2014-08-10 19:41:43|\n",
       "|Xs8Z8lmKkosqW5mw_sVAoA|IQsF3Rc6IgCzjVV9DE8KXg|eFvzHawVJofxSnD7TgbZtg|  5.0|My absolute favorite cafe in the city. Their bl...|2014-11-12 15:30:27|\n",
       "|ZVvhc3Go7v5I8XTiVoWmqQ|WBpQDAZymU0dhIqXcACGNw|ut6fi2W2YaipNOqvi7e0jw|  3.0|Upland is a brewery based out of Bloomington, I...|2014-11-12 14:12:20|\n",
       "|eCiWBf1CJ0Zdv1uVarEhhw|OhECKhQEexFypOMY6kypRw|vC2qm1y3Au5czBtbhc-DNw|  4.0|Yes, this is the only sushi place in town. Howe...|2013-09-04 03:48:20|\n",
       "|lUUhg8ltDsUZ9h0xnwY4Dg|RreNy--tOmXMl1en0wiBOg|cPepkJeRMtHapc_b2Oe_dw|  4.0|I was really between 3 and 4 stars for this one...|2018-07-17 03:30:07|\n",
       "|qS6kE7CDoDagyPZwmueJaQ|zoBajEyVA0z4IjbFsMJksg|c-IgS6Pk6vMyax7Rbr38eA|  4.0|Went for lunch. Beef brisket sandwich was aweso...|2015-06-08 19:45:48|\n",
       "|G_5UczbCBJriUAbxz3J7Tw|clWLI5OZP2ad25ugMVI8gg|x4XdNhp0Xn8lOivzc77J-g|  5.0|Best thai food in the area.  Everything was aut...|2013-08-15 15:27:51|\n",
       "+----------------------+----------------------+----------------------+-----+--------------------------------------------------+-------------------+\n",
       "only showing top 20 rows\n",
       "\n"
      ]
     },
     "metadata": {
      "application/vnd.databricks.v1+output": {
       "addedWidgets": {},
       "arguments": {},
       "data": "+----------------------+----------------------+----------------------+-----+--------------------------------------------------+-------------------+\n|             review_id|               user_id|           business_id|stars|                                              text|               date|\n+----------------------+----------------------+----------------------+-----+--------------------------------------------------+-------------------+\n|KU_O5udG6zpxOg-VcAEodg|mh_-eMZ6K5RLWhZyISBhwA|XQfwVwDr-v0ZS3_CbbE5Xw|  3.0|If you decide to eat here, just be aware it is ...|2018-07-07 22:09:11|\n|saUsX_uimxRlCVr67Z4Jig|8g_iMtfSiwikVnbP2etR0A|YjUWPpI6HXG530lwP-fb2A|  3.0|Family diner. Had the buffet. Eclectic assortme...|2014-02-05 20:30:30|\n|AqPFMleE6RsU23_auESxiA|_7bHUi9Uuf5__HHc_Q8guQ|kxX2SOes4o-D3ZQBkiMRfA|  5.0|Wow!  Yummy, different,  delicious.   Our favor...|2015-01-04 00:01:03|\n|Sx8TMOWLNuJBWer-0pcmoA|bcjbaE6dDog4jkNY91ncLQ|e4Vwtrqf-wpJfwesgvdgxQ|  4.0|Cute interior and owner (?) gave us tour of upc...|2017-01-14 20:54:15|\n|JrIxlS1TzJ-iCu79ul40cQ|eUta8W_HdHMXPzLBBZhL1A|04UD14gamNjLY0IDYVhHJg|  1.0|I am a long term frequent customer of this esta...|2015-09-23 23:10:31|\n|_ZeMknuYdlQcUqng_Im3yg|yfFzsLmaWF2d4Sr0UNbBgg|LHSTtnW3YHCeUkRDGyJOyw|  5.0|Amazingly amazing wings and homemade bleu chees...|2015-08-07 02:29:16|\n|pUycOfUwM8vqX7KjRRhUEA|59MxRhNVhU9MYndMkz0wtw|gebiRewfieSdtt17PTW6Zg|  3.0|Had a party of 6 here for hibachi. Our waitress...|2016-07-25 07:31:06|\n|l3Wk_mvAog6XANIuGQ9C7Q|ZbqSHbgCjzVAqaa7NKWn5A|EQ-TZ2eeD_E0BHuvoaeG5Q|  4.0|Locals recommended Milktooth, and it's an amazi...|2015-08-19 14:31:45|\n|XW_LfMv0fV21l9c6xQd_lw|9OAtfnWag-ajVxRbUTGIyg|lj-E32x9_FA7GmUrBGBEWg|  4.0|Love going here for happy hour or dinner!  Grea...|2014-06-27 22:44:01|\n|8JFGBuHMoiNDyfcxuWNtrA|smOvOajNG0lS4Pq7d8g4JQ|RZtGWDLCAtuipwaZ-UfjmQ|  4.0|Good food--loved the gnocchi with marinara\\nthe...|2009-10-14 19:57:14|\n|UBp0zWyH60Hmw6Fsasei7w|4Uh27DgGzsp6PqrH913giQ|otQS34_MymijPTdNBoBdCw|  4.0|The bun makes the Sonoran Dog. It's like a snug...|2011-10-27 17:12:05|\n|OAhBYw8IQ6wlfw1owXWRWw|1C2lxzUo1Hyye4RFIXly3g|BVndHaLihEYbr76Z0CMEGw|  5.0|Great place for breakfast! I had the waffle, wh...|2014-10-11 16:22:06|\n|oyaMhzBSwfGgemSGuZCdwQ|Dd1jQj7S-BFGqRbApFzCFw|YtSqYv1Q_pOltsVPSx54SA|  5.0|Tremendous service (Big shout out to Douglas) t...|2013-06-24 11:21:25|\n|LnGZB0fjfgeVDVz5IHuEVA|j2wlzrntrbKwyOcOiB3l3w|rBdG_23USc7DletfZ11xGA|  4.0|The hubby and I have been here on multiple occa...|2014-08-10 19:41:43|\n|Xs8Z8lmKkosqW5mw_sVAoA|IQsF3Rc6IgCzjVV9DE8KXg|eFvzHawVJofxSnD7TgbZtg|  5.0|My absolute favorite cafe in the city. Their bl...|2014-11-12 15:30:27|\n|ZVvhc3Go7v5I8XTiVoWmqQ|WBpQDAZymU0dhIqXcACGNw|ut6fi2W2YaipNOqvi7e0jw|  3.0|Upland is a brewery based out of Bloomington, I...|2014-11-12 14:12:20|\n|eCiWBf1CJ0Zdv1uVarEhhw|OhECKhQEexFypOMY6kypRw|vC2qm1y3Au5czBtbhc-DNw|  4.0|Yes, this is the only sushi place in town. Howe...|2013-09-04 03:48:20|\n|lUUhg8ltDsUZ9h0xnwY4Dg|RreNy--tOmXMl1en0wiBOg|cPepkJeRMtHapc_b2Oe_dw|  4.0|I was really between 3 and 4 stars for this one...|2018-07-17 03:30:07|\n|qS6kE7CDoDagyPZwmueJaQ|zoBajEyVA0z4IjbFsMJksg|c-IgS6Pk6vMyax7Rbr38eA|  4.0|Went for lunch. Beef brisket sandwich was aweso...|2015-06-08 19:45:48|\n|G_5UczbCBJriUAbxz3J7Tw|clWLI5OZP2ad25ugMVI8gg|x4XdNhp0Xn8lOivzc77J-g|  5.0|Best thai food in the area.  Everything was aut...|2013-08-15 15:27:51|\n+----------------------+----------------------+----------------------+-----+--------------------------------------------------+-------------------+\nonly showing top 20 rows\n\n",
       "datasetInfos": [],
       "metadata": {},
       "removedWidgets": [],
       "type": "ansi"
      }
     },
     "output_type": "display_data"
    }
   ],
   "source": [
    "df.show(n=20, truncate=50)"
   ]
  },
  {
   "cell_type": "code",
   "execution_count": 0,
   "metadata": {
    "application/vnd.databricks.v1+cell": {
     "inputWidgets": {},
     "nuid": "bd454913-3301-4bfc-9985-24043ea6ca1c",
     "showTitle": false,
     "title": ""
    }
   },
   "outputs": [
    {
     "data": {
      "text/plain": [
       "Out[5]: [('review_id', 'string'),\n",
       " ('user_id', 'string'),\n",
       " ('business_id', 'string'),\n",
       " ('stars', 'string'),\n",
       " ('text', 'string'),\n",
       " ('date', 'string')]"
      ]
     },
     "metadata": {
      "application/vnd.databricks.v1+output": {
       "addedWidgets": {},
       "arguments": {},
       "data": "Out[5]: [('review_id', 'string'),\n ('user_id', 'string'),\n ('business_id', 'string'),\n ('stars', 'string'),\n ('text', 'string'),\n ('date', 'string')]",
       "datasetInfos": [],
       "metadata": {},
       "removedWidgets": [],
       "type": "ansi"
      }
     },
     "output_type": "display_data"
    }
   ],
   "source": [
    "df.dtypes"
   ]
  },
  {
   "cell_type": "code",
   "execution_count": 0,
   "metadata": {
    "application/vnd.databricks.v1+cell": {
     "inputWidgets": {},
     "nuid": "3f202102-bb47-45fb-b003-e1eef346e9b7",
     "showTitle": false,
     "title": ""
    }
   },
   "outputs": [
    {
     "data": {
      "text/plain": [
       "+----------------------+----------------------+----------------------+-----+--------------------------------------------------+-------------------+\n",
       "|             review_id|               user_id|           business_id|stars|                                              text|               date|\n",
       "+----------------------+----------------------+----------------------+-----+--------------------------------------------------+-------------------+\n",
       "|KU_O5udG6zpxOg-VcAEodg|mh_-eMZ6K5RLWhZyISBhwA|XQfwVwDr-v0ZS3_CbbE5Xw|  3.0|If you decide to eat here, just be aware it is ...|2018-07-07 22:09:11|\n",
       "|saUsX_uimxRlCVr67Z4Jig|8g_iMtfSiwikVnbP2etR0A|YjUWPpI6HXG530lwP-fb2A|  3.0|Family diner. Had the buffet. Eclectic assortme...|2014-02-05 20:30:30|\n",
       "|AqPFMleE6RsU23_auESxiA|_7bHUi9Uuf5__HHc_Q8guQ|kxX2SOes4o-D3ZQBkiMRfA|  5.0|Wow!  Yummy, different,  delicious.   Our favor...|2015-01-04 00:01:03|\n",
       "|Sx8TMOWLNuJBWer-0pcmoA|bcjbaE6dDog4jkNY91ncLQ|e4Vwtrqf-wpJfwesgvdgxQ|  4.0|Cute interior and owner (?) gave us tour of upc...|2017-01-14 20:54:15|\n",
       "|JrIxlS1TzJ-iCu79ul40cQ|eUta8W_HdHMXPzLBBZhL1A|04UD14gamNjLY0IDYVhHJg|  1.0|I am a long term frequent customer of this esta...|2015-09-23 23:10:31|\n",
       "+----------------------+----------------------+----------------------+-----+--------------------------------------------------+-------------------+\n",
       "\n"
      ]
     },
     "metadata": {
      "application/vnd.databricks.v1+output": {
       "addedWidgets": {},
       "arguments": {},
       "data": "+----------------------+----------------------+----------------------+-----+--------------------------------------------------+-------------------+\n|             review_id|               user_id|           business_id|stars|                                              text|               date|\n+----------------------+----------------------+----------------------+-----+--------------------------------------------------+-------------------+\n|KU_O5udG6zpxOg-VcAEodg|mh_-eMZ6K5RLWhZyISBhwA|XQfwVwDr-v0ZS3_CbbE5Xw|  3.0|If you decide to eat here, just be aware it is ...|2018-07-07 22:09:11|\n|saUsX_uimxRlCVr67Z4Jig|8g_iMtfSiwikVnbP2etR0A|YjUWPpI6HXG530lwP-fb2A|  3.0|Family diner. Had the buffet. Eclectic assortme...|2014-02-05 20:30:30|\n|AqPFMleE6RsU23_auESxiA|_7bHUi9Uuf5__HHc_Q8guQ|kxX2SOes4o-D3ZQBkiMRfA|  5.0|Wow!  Yummy, different,  delicious.   Our favor...|2015-01-04 00:01:03|\n|Sx8TMOWLNuJBWer-0pcmoA|bcjbaE6dDog4jkNY91ncLQ|e4Vwtrqf-wpJfwesgvdgxQ|  4.0|Cute interior and owner (?) gave us tour of upc...|2017-01-14 20:54:15|\n|JrIxlS1TzJ-iCu79ul40cQ|eUta8W_HdHMXPzLBBZhL1A|04UD14gamNjLY0IDYVhHJg|  1.0|I am a long term frequent customer of this esta...|2015-09-23 23:10:31|\n+----------------------+----------------------+----------------------+-----+--------------------------------------------------+-------------------+\n\n",
       "datasetInfos": [],
       "metadata": {},
       "removedWidgets": [],
       "type": "ansi"
      }
     },
     "output_type": "display_data"
    }
   ],
   "source": [
    "# create small dataset for testing\n",
    "small = spark.createDataFrame(df.head(5), df.schema)\n",
    "small.show(truncate=50)"
   ]
  },
  {
   "cell_type": "code",
   "execution_count": 0,
   "metadata": {
    "application/vnd.databricks.v1+cell": {
     "inputWidgets": {},
     "nuid": "879d5ffd-7e3d-4c4f-9ea8-26309777a023",
     "showTitle": false,
     "title": ""
    }
   },
   "outputs": [],
   "source": [
    "# pandas user defined function to sentence tokenize review text\n",
    "\n",
    "@F.pandas_udf(ArrayType(StringType()))\n",
    "def sent_tok(textcol: pd.Series) -> pd.Series:\n",
    "    return textcol.map(lambda x: sent_tokenize(str(x)))\n"
   ]
  },
  {
   "cell_type": "code",
   "execution_count": 0,
   "metadata": {
    "application/vnd.databricks.v1+cell": {
     "inputWidgets": {},
     "nuid": "357f931a-ea61-4d21-afa0-b9d685efc95f",
     "showTitle": false,
     "title": ""
    }
   },
   "outputs": [
    {
     "data": {
      "text/plain": [
       "+------------------------------------------------------------------------------------------------------------------------------------------------------+\n",
       "|                                                                                                                                                  text|\n",
       "+------------------------------------------------------------------------------------------------------------------------------------------------------+\n",
       "|If you decide to eat here, just be aware it is going to take about 2 hours from beginning to end. We have tried it multiple times, because I want t...|\n",
       "|Family diner. Had the buffet. Eclectic assortment: a large chicken leg, fried jalapeño, tamale, two rolled grape leaves, fresh melon. All good. Lot...|\n",
       "|Wow!  Yummy, different,  delicious.   Our favorite is the lamb curry and korma.  With 10 different kinds of naan!!!  Don't let the outside deter yo...|\n",
       "|Cute interior and owner (?) gave us tour of upcoming patio/rooftop area which will be great on beautiful days like today. Cheese curds were very go...|\n",
       "|I am a long term frequent customer of this establishment. I just went in to order take out (3 apps) and was told they're too busy to do it. Really?...|\n",
       "+------------------------------------------------------------------------------------------------------------------------------------------------------+\n",
       "\n"
      ]
     },
     "metadata": {
      "application/vnd.databricks.v1+output": {
       "addedWidgets": {},
       "arguments": {},
       "data": "+------------------------------------------------------------------------------------------------------------------------------------------------------+\n|                                                                                                                                                  text|\n+------------------------------------------------------------------------------------------------------------------------------------------------------+\n|If you decide to eat here, just be aware it is going to take about 2 hours from beginning to end. We have tried it multiple times, because I want t...|\n|Family diner. Had the buffet. Eclectic assortment: a large chicken leg, fried jalapeño, tamale, two rolled grape leaves, fresh melon. All good. Lot...|\n|Wow!  Yummy, different,  delicious.   Our favorite is the lamb curry and korma.  With 10 different kinds of naan!!!  Don't let the outside deter yo...|\n|Cute interior and owner (?) gave us tour of upcoming patio/rooftop area which will be great on beautiful days like today. Cheese curds were very go...|\n|I am a long term frequent customer of this establishment. I just went in to order take out (3 apps) and was told they're too busy to do it. Really?...|\n+------------------------------------------------------------------------------------------------------------------------------------------------------+\n\n",
       "datasetInfos": [],
       "metadata": {},
       "removedWidgets": [],
       "type": "ansi"
      }
     },
     "output_type": "display_data"
    }
   ],
   "source": [
    "small.select('text').show(truncate=150)"
   ]
  },
  {
   "cell_type": "code",
   "execution_count": 0,
   "metadata": {
    "application/vnd.databricks.v1+cell": {
     "inputWidgets": {},
     "nuid": "e43a537d-53cf-4b36-953c-32beba4381ab",
     "showTitle": false,
     "title": ""
    }
   },
   "outputs": [
    {
     "data": {
      "text/plain": [
       "+------------------------------------------------------------------------------------------------------------------------------------------------------+\n",
       "|                                                                                                                                        sent_tokenized|\n",
       "+------------------------------------------------------------------------------------------------------------------------------------------------------+\n",
       "|[If you decide to eat here, just be aware it is going to take about 2 hours from beginning to end., We have tried it multiple times, because I want...|\n",
       "|[Family diner., Had the buffet., Eclectic assortment: a large chicken leg, fried jalapeño, tamale, two rolled grape leaves, fresh melon., All good....|\n",
       "|[Wow!, Yummy, different,  delicious., Our favorite is the lamb curry and korma., With 10 different kinds of naan!!!, Don't let the outside deter yo...|\n",
       "|[Cute interior and owner (?), gave us tour of upcoming patio/rooftop area which will be great on beautiful days like today., Cheese curds were very...|\n",
       "|[I am a long term frequent customer of this establishment., I just went in to order take out (3 apps) and was told they're too busy to do it., Real...|\n",
       "+------------------------------------------------------------------------------------------------------------------------------------------------------+\n",
       "\n"
      ]
     },
     "metadata": {
      "application/vnd.databricks.v1+output": {
       "addedWidgets": {},
       "arguments": {},
       "data": "+------------------------------------------------------------------------------------------------------------------------------------------------------+\n|                                                                                                                                        sent_tokenized|\n+------------------------------------------------------------------------------------------------------------------------------------------------------+\n|[If you decide to eat here, just be aware it is going to take about 2 hours from beginning to end., We have tried it multiple times, because I want...|\n|[Family diner., Had the buffet., Eclectic assortment: a large chicken leg, fried jalapeño, tamale, two rolled grape leaves, fresh melon., All good....|\n|[Wow!, Yummy, different,  delicious., Our favorite is the lamb curry and korma., With 10 different kinds of naan!!!, Don't let the outside deter yo...|\n|[Cute interior and owner (?), gave us tour of upcoming patio/rooftop area which will be great on beautiful days like today., Cheese curds were very...|\n|[I am a long term frequent customer of this establishment., I just went in to order take out (3 apps) and was told they're too busy to do it., Real...|\n+------------------------------------------------------------------------------------------------------------------------------------------------------+\n\n",
       "datasetInfos": [],
       "metadata": {},
       "removedWidgets": [],
       "type": "ansi"
      }
     },
     "output_type": "display_data"
    }
   ],
   "source": [
    "# check output of sent_tok\n",
    "sentsmalldf = small.select(sent_tok('text').alias('sent_tokenized'))\n",
    "sentsmalldf.show(truncate=150)"
   ]
  },
  {
   "cell_type": "code",
   "execution_count": 0,
   "metadata": {
    "application/vnd.databricks.v1+cell": {
     "inputWidgets": {},
     "nuid": "d68c0f67-3c50-4e9e-bfeb-96e32fd7f9c4",
     "showTitle": false,
     "title": ""
    }
   },
   "outputs": [
    {
     "data": {
      "text/plain": [
       "Out[10]: [Row(sent_tokenized=['If you decide to eat here, just be aware it is going to take about 2 hours from beginning to end.', 'We have tried it multiple times, because I want to like it!', \"I have been to it's other locations in NJ and never had a bad experience.\", 'The food is good, but it takes a very long time to come out.', 'The waitstaff is very young, but usually pleasant.', 'We have just had too many experiences where we spent way too long waiting.', 'We usually opt for another diner or restaurant on the weekends, in order to be done quicker.']),\n",
       " Row(sent_tokenized=['Family diner.', 'Had the buffet.', 'Eclectic assortment: a large chicken leg, fried jalapeño, tamale, two rolled grape leaves, fresh melon.', 'All good.', 'Lots of Mexican choices there.', 'Also has a menu with breakfast served all day long.', 'Friendly, attentive staff.', 'Good place for a casual relaxed meal with no expectations.', 'Next to the Clarion Hotel.'])]"
      ]
     },
     "metadata": {
      "application/vnd.databricks.v1+output": {
       "addedWidgets": {},
       "arguments": {},
       "data": "Out[10]: [Row(sent_tokenized=['If you decide to eat here, just be aware it is going to take about 2 hours from beginning to end.', 'We have tried it multiple times, because I want to like it!', \"I have been to it's other locations in NJ and never had a bad experience.\", 'The food is good, but it takes a very long time to come out.', 'The waitstaff is very young, but usually pleasant.', 'We have just had too many experiences where we spent way too long waiting.', 'We usually opt for another diner or restaurant on the weekends, in order to be done quicker.']),\n Row(sent_tokenized=['Family diner.', 'Had the buffet.', 'Eclectic assortment: a large chicken leg, fried jalapeño, tamale, two rolled grape leaves, fresh melon.', 'All good.', 'Lots of Mexican choices there.', 'Also has a menu with breakfast served all day long.', 'Friendly, attentive staff.', 'Good place for a casual relaxed meal with no expectations.', 'Next to the Clarion Hotel.'])]",
       "datasetInfos": [],
       "metadata": {},
       "removedWidgets": [],
       "type": "ansi"
      }
     },
     "output_type": "display_data"
    }
   ],
   "source": [
    "sentsmalldf.take(2)"
   ]
  },
  {
   "cell_type": "code",
   "execution_count": 0,
   "metadata": {
    "application/vnd.databricks.v1+cell": {
     "inputWidgets": {},
     "nuid": "1cc2e717-2220-416c-8586-b5c313554567",
     "showTitle": false,
     "title": ""
    }
   },
   "outputs": [],
   "source": [
    "# python udf to get sentiment for each sentence in review\n",
    "# outputs dict of VADER sentiment (positive, negative, neutral, compound), averaged over sentences in review\n",
    "\n",
    "outputdict = MapType(StringType(), FloatType())\n",
    "\n",
    "@F.udf(returnType=outputdict)\n",
    "def vader_analysis(revtext):\n",
    "    # process review as a dataframe of sentences\n",
    "    sentdf = pd.DataFrame({'sentences': revtext})\n",
    "\n",
    "    analyzer = SentimentIntensityAnalyzer()\n",
    "    sentdf['sentiment'] = sentdf['sentences'].apply(analyzer.polarity_scores)\n",
    "\n",
    "    # split sentiment dicts into positive, neutral, negative, and compound columns\n",
    "    sentimentdf = pd.DataFrame(sentdf['sentiment'].apply(pd.Series))\n",
    "    \n",
    "    # calculate mean of each category\n",
    "    avgneg = sentimentdf['neg'].mean().round(3)\n",
    "    avgneu = sentimentdf['neu'].mean().round(3)\n",
    "    avgpos = sentimentdf['pos'].mean().round(3)\n",
    "    avgcomp = sentimentdf['compound'].mean().round(4)\n",
    "\n",
    "    return {'pos': float(avgpos), 'neu': float(avgneu), 'neg': float(avgneg), 'compound': float(avgcomp)}\n"
   ]
  },
  {
   "cell_type": "code",
   "execution_count": 0,
   "metadata": {
    "application/vnd.databricks.v1+cell": {
     "inputWidgets": {},
     "nuid": "a7c80cfd-3cac-4a0a-bc50-dc4e71e2d34c",
     "showTitle": false,
     "title": ""
    }
   },
   "outputs": [
    {
     "data": {
      "text/plain": [
       "+-----+---------------------------------------------------------------------------+--------------------------------------------------------------+\n",
       "|stars|                                                             sent_tokenized|                                                vader_analysis|\n",
       "+-----+---------------------------------------------------------------------------+--------------------------------------------------------------+\n",
       "|  3.0|[If you decide to eat here, just be aware it is going to take about 2 ho...|  {neg -> 0.0, pos -> 0.148, compound -> 0.2585, neu -> 0.852}|\n",
       "|  3.0|[Family diner., Had the buffet., Eclectic assortment: a large chicken le...|{neg -> 0.016, pos -> 0.226, compound -> 0.2159, neu -> 0.758}|\n",
       "|  5.0|[Wow!, Yummy, different,  delicious., Our favorite is the lamb curry and...|  {neg -> 0.0, pos -> 0.438, compound -> 0.3981, neu -> 0.562}|\n",
       "|  4.0|[Cute interior and owner (?), gave us tour of upcoming patio/rooftop are...|{neg -> 0.016, pos -> 0.229, compound -> 0.3487, neu -> 0.756}|\n",
       "|  1.0|[I am a long term frequent customer of this establishment., I just went ...|{neg -> 0.128, pos -> 0.236, compound -> 0.0766, neu -> 0.637}|\n",
       "+-----+---------------------------------------------------------------------------+--------------------------------------------------------------+\n",
       "\n"
      ]
     },
     "metadata": {
      "application/vnd.databricks.v1+output": {
       "addedWidgets": {},
       "arguments": {},
       "data": "+-----+---------------------------------------------------------------------------+--------------------------------------------------------------+\n|stars|                                                             sent_tokenized|                                                vader_analysis|\n+-----+---------------------------------------------------------------------------+--------------------------------------------------------------+\n|  3.0|[If you decide to eat here, just be aware it is going to take about 2 ho...|  {neg -> 0.0, pos -> 0.148, compound -> 0.2585, neu -> 0.852}|\n|  3.0|[Family diner., Had the buffet., Eclectic assortment: a large chicken le...|{neg -> 0.016, pos -> 0.226, compound -> 0.2159, neu -> 0.758}|\n|  5.0|[Wow!, Yummy, different,  delicious., Our favorite is the lamb curry and...|  {neg -> 0.0, pos -> 0.438, compound -> 0.3981, neu -> 0.562}|\n|  4.0|[Cute interior and owner (?), gave us tour of upcoming patio/rooftop are...|{neg -> 0.016, pos -> 0.229, compound -> 0.3487, neu -> 0.756}|\n|  1.0|[I am a long term frequent customer of this establishment., I just went ...|{neg -> 0.128, pos -> 0.236, compound -> 0.0766, neu -> 0.637}|\n+-----+---------------------------------------------------------------------------+--------------------------------------------------------------+\n\n",
       "datasetInfos": [],
       "metadata": {},
       "removedWidgets": [],
       "type": "ansi"
      }
     },
     "output_type": "display_data"
    }
   ],
   "source": [
    "sentsmalldf = small.select('*', sent_tok('text').alias('sent_tokenized'))\n",
    "testsmalldf = sentsmalldf.select('stars', 'sent_tokenized', vader_analysis('sent_tokenized').alias('vader_analysis'))\n",
    "testsmalldf.show(truncate=75)"
   ]
  },
  {
   "cell_type": "code",
   "execution_count": 0,
   "metadata": {
    "application/vnd.databricks.v1+cell": {
     "inputWidgets": {},
     "nuid": "f3be0683-6b9b-47bb-8be4-522fb31e6f9c",
     "showTitle": false,
     "title": ""
    }
   },
   "outputs": [
    {
     "data": {
      "text/plain": [
       "+-----+---------------------------------------------------------------------------+--------------------------------------------------------------+\n",
       "|stars|                                                             sent_tokenized|                                                vader_analysis|\n",
       "+-----+---------------------------------------------------------------------------+--------------------------------------------------------------+\n",
       "|  3.0|[If you decide to eat here, just be aware it is going to take about 2 ho...|  {neg -> 0.0, pos -> 0.148, compound -> 0.2585, neu -> 0.852}|\n",
       "|  3.0|[Family diner., Had the buffet., Eclectic assortment: a large chicken le...|{neg -> 0.016, pos -> 0.226, compound -> 0.2159, neu -> 0.758}|\n",
       "|  5.0|[Wow!, Yummy, different,  delicious., Our favorite is the lamb curry and...|  {neg -> 0.0, pos -> 0.438, compound -> 0.3981, neu -> 0.562}|\n",
       "|  4.0|[Cute interior and owner (?), gave us tour of upcoming patio/rooftop are...|{neg -> 0.016, pos -> 0.229, compound -> 0.3487, neu -> 0.756}|\n",
       "|  1.0|[I am a long term frequent customer of this establishment., I just went ...|{neg -> 0.128, pos -> 0.236, compound -> 0.0766, neu -> 0.637}|\n",
       "|  5.0|[Amazingly amazing wings and homemade bleu cheese., Had the ribeye: tend...|  {neg -> 0.0, pos -> 0.506, compound -> 0.6567, neu -> 0.494}|\n",
       "|  3.0|[Had a party of 6 here for hibachi., Our waitress brought our separate s...|{neg -> 0.017, pos -> 0.188, compound -> 0.3356, neu -> 0.794}|\n",
       "|  4.0|[Locals recommended Milktooth, and it's an amazing jewel of Indianapolis...|  {neg -> 0.0, pos -> 0.379, compound -> 0.5232, neu -> 0.621}|\n",
       "|  4.0|[Love going here for happy hour or dinner!, Great patio with fans to bea...|    {neg -> 0.0, pos -> 0.22, compound -> 0.3533, neu -> 0.78}|\n",
       "|  4.0|[Good food--loved the gnocchi with marinara\\nthe baked eggplant appetize...|  {neg -> 0.0, pos -> 0.229, compound -> 0.8093, neu -> 0.771}|\n",
       "|  4.0|[The bun makes the Sonoran Dog., It's like a snuggie for the pup., A fir...|{neg -> 0.128, pos -> 0.195, compound -> 0.2662, neu -> 0.677}|\n",
       "|  5.0|[Great place for breakfast!, I had the waffle, which was fluffy and perf...|   {neg -> 0.0, pos -> 0.536, compound -> 0.592, neu -> 0.464}|\n",
       "|  5.0|[Tremendous service (Big shout out to Douglas) that complemented the del...|{neg -> 0.018, pos -> 0.238, compound -> 0.6667, neu -> 0.744}|\n",
       "|  4.0|[The hubby and I have been here on multiple occasions and we have loved ...|  {neg -> 0.0, pos -> 0.214, compound -> 0.4371, neu -> 0.786}|\n",
       "|  5.0|[My absolute favorite cafe in the city., Their black and white latte is ...|  {neg -> 0.0, pos -> 0.286, compound -> 0.6439, neu -> 0.714}|\n",
       "|  3.0|[Upland is a brewery based out of Bloomington, Indiana that has become p...| {neg -> 0.021, pos -> 0.175, compound -> 0.365, neu -> 0.804}|\n",
       "|  4.0|[Yes, this is the only sushi place in town., However, it is great when y...|  {neg -> 0.0, pos -> 0.271, compound -> 0.5683, neu -> 0.729}|\n",
       "|  4.0|[I was really between 3 and 4 stars for this one., I LOVE the 96th stree...|{neg -> 0.022, pos -> 0.094, compound -> 0.1723, neu -> 0.884}|\n",
       "|  4.0|[Went for lunch., Beef brisket sandwich was awesome., So juicy and tende...|  {neg -> 0.0, pos -> 0.213, compound -> 0.2794, neu -> 0.787}|\n",
       "|  5.0|[Best thai food in the area., Everything was authentic and delicious., W...|  {neg -> 0.0, pos -> 0.416, compound -> 0.5369, neu -> 0.584}|\n",
       "+-----+---------------------------------------------------------------------------+--------------------------------------------------------------+\n",
       "only showing top 20 rows\n",
       "\n"
      ]
     },
     "metadata": {
      "application/vnd.databricks.v1+output": {
       "addedWidgets": {},
       "arguments": {},
       "data": "+-----+---------------------------------------------------------------------------+--------------------------------------------------------------+\n|stars|                                                             sent_tokenized|                                                vader_analysis|\n+-----+---------------------------------------------------------------------------+--------------------------------------------------------------+\n|  3.0|[If you decide to eat here, just be aware it is going to take about 2 ho...|  {neg -> 0.0, pos -> 0.148, compound -> 0.2585, neu -> 0.852}|\n|  3.0|[Family diner., Had the buffet., Eclectic assortment: a large chicken le...|{neg -> 0.016, pos -> 0.226, compound -> 0.2159, neu -> 0.758}|\n|  5.0|[Wow!, Yummy, different,  delicious., Our favorite is the lamb curry and...|  {neg -> 0.0, pos -> 0.438, compound -> 0.3981, neu -> 0.562}|\n|  4.0|[Cute interior and owner (?), gave us tour of upcoming patio/rooftop are...|{neg -> 0.016, pos -> 0.229, compound -> 0.3487, neu -> 0.756}|\n|  1.0|[I am a long term frequent customer of this establishment., I just went ...|{neg -> 0.128, pos -> 0.236, compound -> 0.0766, neu -> 0.637}|\n|  5.0|[Amazingly amazing wings and homemade bleu cheese., Had the ribeye: tend...|  {neg -> 0.0, pos -> 0.506, compound -> 0.6567, neu -> 0.494}|\n|  3.0|[Had a party of 6 here for hibachi., Our waitress brought our separate s...|{neg -> 0.017, pos -> 0.188, compound -> 0.3356, neu -> 0.794}|\n|  4.0|[Locals recommended Milktooth, and it's an amazing jewel of Indianapolis...|  {neg -> 0.0, pos -> 0.379, compound -> 0.5232, neu -> 0.621}|\n|  4.0|[Love going here for happy hour or dinner!, Great patio with fans to bea...|    {neg -> 0.0, pos -> 0.22, compound -> 0.3533, neu -> 0.78}|\n|  4.0|[Good food--loved the gnocchi with marinara\\nthe baked eggplant appetize...|  {neg -> 0.0, pos -> 0.229, compound -> 0.8093, neu -> 0.771}|\n|  4.0|[The bun makes the Sonoran Dog., It's like a snuggie for the pup., A fir...|{neg -> 0.128, pos -> 0.195, compound -> 0.2662, neu -> 0.677}|\n|  5.0|[Great place for breakfast!, I had the waffle, which was fluffy and perf...|   {neg -> 0.0, pos -> 0.536, compound -> 0.592, neu -> 0.464}|\n|  5.0|[Tremendous service (Big shout out to Douglas) that complemented the del...|{neg -> 0.018, pos -> 0.238, compound -> 0.6667, neu -> 0.744}|\n|  4.0|[The hubby and I have been here on multiple occasions and we have loved ...|  {neg -> 0.0, pos -> 0.214, compound -> 0.4371, neu -> 0.786}|\n|  5.0|[My absolute favorite cafe in the city., Their black and white latte is ...|  {neg -> 0.0, pos -> 0.286, compound -> 0.6439, neu -> 0.714}|\n|  3.0|[Upland is a brewery based out of Bloomington, Indiana that has become p...| {neg -> 0.021, pos -> 0.175, compound -> 0.365, neu -> 0.804}|\n|  4.0|[Yes, this is the only sushi place in town., However, it is great when y...|  {neg -> 0.0, pos -> 0.271, compound -> 0.5683, neu -> 0.729}|\n|  4.0|[I was really between 3 and 4 stars for this one., I LOVE the 96th stree...|{neg -> 0.022, pos -> 0.094, compound -> 0.1723, neu -> 0.884}|\n|  4.0|[Went for lunch., Beef brisket sandwich was awesome., So juicy and tende...|  {neg -> 0.0, pos -> 0.213, compound -> 0.2794, neu -> 0.787}|\n|  5.0|[Best thai food in the area., Everything was authentic and delicious., W...|  {neg -> 0.0, pos -> 0.416, compound -> 0.5369, neu -> 0.584}|\n+-----+---------------------------------------------------------------------------+--------------------------------------------------------------+\nonly showing top 20 rows\n\n",
       "datasetInfos": [],
       "metadata": {},
       "removedWidgets": [],
       "type": "ansi"
      }
     },
     "output_type": "display_data"
    }
   ],
   "source": [
    "# get VADER sentiment for each review\n",
    "\n",
    "sentencesdf = df.select('*', sent_tok('text').alias('sent_tokenized'))\n",
    "testdf = sentencesdf.select('stars', 'sent_tokenized', vader_analysis('sent_tokenized').alias('vader_analysis'))\n",
    "testdf.show(n=20, truncate=75)"
   ]
  }
 ],
 "metadata": {
  "application/vnd.databricks.v1+notebook": {
   "dashboards": [],
   "language": "python",
   "notebookMetadata": {
    "pythonIndentUnit": 4
   },
   "notebookName": "yelp-dataset-sentiment-analysis-bysentence-distributed",
   "notebookOrigID": 4262715646608575,
   "widgets": {}
  },
  "kernelspec": {
   "display_name": "Python 3 (ipykernel)",
   "language": "python",
   "name": "python3"
  },
  "language_info": {
   "codemirror_mode": {
    "name": "ipython",
    "version": 3
   },
   "file_extension": ".py",
   "mimetype": "text/x-python",
   "name": "python",
   "nbconvert_exporter": "python",
   "pygments_lexer": "ipython3",
   "version": "3.9.7"
  }
 },
 "nbformat": 4,
 "nbformat_minor": 1
}
