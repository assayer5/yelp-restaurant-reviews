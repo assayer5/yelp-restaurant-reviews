{
 "cells": [
  {
   "cell_type": "code",
   "execution_count": 1,
   "metadata": {
    "execution": {
     "iopub.execute_input": "2022-01-06T05:40:11.417992Z",
     "iopub.status.busy": "2022-01-06T05:40:11.417688Z",
     "iopub.status.idle": "2022-01-06T05:40:13.227584Z",
     "shell.execute_reply": "2022-01-06T05:40:13.226397Z",
     "shell.execute_reply.started": "2022-01-06T05:40:11.417893Z"
    }
   },
   "outputs": [],
   "source": [
    "import pandas as pd\n",
    "import numpy as np\n",
    "import matplotlib.pyplot as plt\n",
    "import seaborn as sns\n",
    "import gc\n",
    "\n",
    "import string, nltk\n",
    "from nltk import pos_tag\n",
    "from nltk.corpus import stopwords, wordnet\n",
    "from nltk.stem import WordNetLemmatizer\n",
    "\n",
    "from nltk.sentiment.vader import SentimentIntensityAnalyzer"
   ]
  },
  {
   "cell_type": "code",
   "execution_count": 3,
   "metadata": {
    "execution": {
     "iopub.execute_input": "2022-01-05T19:15:07.821513Z",
     "iopub.status.busy": "2022-01-05T19:15:07.821276Z",
     "iopub.status.idle": "2022-01-05T19:15:10.024265Z",
     "shell.execute_reply": "2022-01-05T19:15:10.023410Z",
     "shell.execute_reply.started": "2022-01-05T19:15:07.821477Z"
    }
   },
   "outputs": [],
   "source": [
    "# table to 'replace punctuation with nothing'/remove punctuation\n",
    "table = str.maketrans('','',string.punctuation)\n",
    "\n",
    "# stop words\n",
    "stop_words = stopwords.words('english')\n",
    "#print(stop_words)\n",
    "\n",
    "# POS dictionary\n",
    "pos_dict = {'J':wordnet.ADJ, 'V':wordnet.VERB, 'N':wordnet.NOUN, 'R':wordnet.ADV}\n",
    "\n",
    "# function to clean text\n",
    "def clean(text):\n",
    "    # split sentences into words/tokenize\n",
    "    words = str(text).split()\n",
    "    # remove punctuation\n",
    "    words = [word.translate(table) for word in words]\n",
    "    # make lower case\n",
    "    words = [word.lower() for word in words]\n",
    "    return words\n",
    "\n",
    "def prep(words):\n",
    "    # filter out stopwords\n",
    "    filtered = [word for word in words if not word in stop_words]\n",
    "    # filter out numeric\n",
    "    filtered = [word for word in filtered if word.isalpha()]\n",
    "    # pos tag filtered words\n",
    "    tagged = pos_tag(filtered)\n",
    "    # re-label tags into main categories (noun, verb, adverb, adjective) for wordnet lemmatizer\n",
    "    tagged = [tuple([word, pos_dict.get(tag[0])]) for word, tag in tagged]\n",
    "    return tagged\n",
    "\n",
    "wnlemmatizer = WordNetLemmatizer()\n",
    "def lemmatize(tagged_words):\n",
    "    string = ''\n",
    "    for word, tag in tagged_words:\n",
    "        if not tag:\n",
    "            lemma = word\n",
    "            string = string + ' ' + lemma\n",
    "        else:\n",
    "            lemma = wnlemmatizer.lemmatize(word, pos=tag)\n",
    "            string = string + ' ' + lemma\n",
    "    return string\n",
    "\n",
    "analyzer = SentimentIntensityAnalyzer()\n",
    "def analyze(lemma):\n",
    "    sentiment = analyzer.polarity_scores(lemma)\n",
    "    return sentiment"
   ]
  },
  {
   "cell_type": "code",
   "execution_count": 4,
   "metadata": {
    "execution": {
     "iopub.execute_input": "2022-01-05T19:15:10.026970Z",
     "iopub.status.busy": "2022-01-05T19:15:10.026546Z",
     "iopub.status.idle": "2022-01-05T19:15:10.361354Z",
     "shell.execute_reply": "2022-01-05T19:15:10.360406Z",
     "shell.execute_reply.started": "2022-01-05T19:15:10.026921Z"
    }
   },
   "outputs": [],
   "source": [
    "# test code before processing whole review dataframe\n",
    "file='../input/yelp-restaurant-reviews-2021/restaurantrev.csv'\n",
    "reviews = pd.DataFrame()\n",
    "for num, chunk in enumerate(pd.read_csv(file, parse_dates=['date'], chunksize=10)):\n",
    "    chunk['clean_text'] = chunk['text'].apply(clean)\n",
    "    chunk['text_length'] = chunk['clean_text'].apply(len)\n",
    "    chunk['tagged_text'] = chunk['clean_text'].apply(prep)\n",
    "    chunk['lemma_text'] = chunk['tagged_text'].apply(lemmatize)\n",
    "    chunk['sentiment'] = chunk['lemma_text'].apply(analyze)\n",
    "    #print(pd.DataFrame(chunk['sentiment'].apply(pd.Series)))\n",
    "    chunk = chunk.join(pd.DataFrame(chunk['sentiment'].apply(pd.Series)))\n",
    "    chunk = chunk.drop('sentiment', axis=1)\n",
    "    #chunk['compound_sentiment'] = chunk['lemma_text'].apply(analyze)\n",
    "    reviews = pd.concat([reviews, chunk])\n",
    "    if num == 2:\n",
    "        break\n",
    "\n",
    "reviews.head()"
   ]
  },
  {
   "cell_type": "code",
   "execution_count": 5,
   "metadata": {
    "execution": {
     "iopub.execute_input": "2022-01-05T19:15:10.363546Z",
     "iopub.status.busy": "2022-01-05T19:15:10.363137Z",
     "iopub.status.idle": "2022-01-05T19:15:10.390000Z",
     "shell.execute_reply": "2022-01-05T19:15:10.388802Z",
     "shell.execute_reply.started": "2022-01-05T19:15:10.363496Z"
    }
   },
   "outputs": [],
   "source": [
    "# check outputs\n",
    "print('original:\\n',reviews.text[0])\n",
    "print('cleaned:\\n',reviews.clean_text[0])\n",
    "print('review length:', len(reviews.clean_text[0]))\n",
    "print('tagged:\\n',reviews.tagged_text[0])\n",
    "print('lemma-ed:\\n',reviews.lemma_text[0])\n",
    "print('sentiment:',reviews.compound[0])\n",
    "reviews.info()\n"
   ]
  },
  {
   "cell_type": "code",
   "execution_count": 6,
   "metadata": {
    "execution": {
     "iopub.execute_input": "2022-01-05T19:15:10.391451Z",
     "iopub.status.busy": "2022-01-05T19:15:10.391218Z",
     "iopub.status.idle": "2022-01-06T01:05:41.214955Z",
     "shell.execute_reply": "2022-01-06T01:05:41.214296Z",
     "shell.execute_reply.started": "2022-01-05T19:15:10.391422Z"
    }
   },
   "outputs": [],
   "source": [
    "# process 4 and 5 star reviews\n",
    "file='../input/yelp-restaurant-reviews-2021/restaurantrev.csv'\n",
    "reviews = pd.DataFrame()\n",
    "#for num, chunk in enumerate(pd.read_csv(file, parse_dates=['date'], chunksize=500000)):\n",
    "for chunk in pd.read_csv(file, parse_dates=['date'], chunksize=500000):\n",
    "    chunk = chunk[chunk['stars']>=4]\n",
    "    chunk = chunk.drop('review_id', axis=1)\n",
    "    chunk['clean_text'] = chunk['text'].apply(clean)\n",
    "    chunk['text_length'] = chunk['clean_text'].apply(len)\n",
    "    chunk['clean_text'] = chunk['clean_text'].apply(prep)\n",
    "    chunk['clean_text'] = chunk['clean_text'].apply(lemmatize)\n",
    "    chunk['sentiment'] = chunk['clean_text'].apply(analyze)\n",
    "    chunk = chunk.join(pd.DataFrame(chunk['sentiment'].apply(pd.Series)))\n",
    "    chunk = chunk.drop('sentiment', axis=1)\n",
    "    reviews = pd.concat([reviews, chunk])\n",
    "    #if num == 2:\n",
    "    #    break\n",
    "\n",
    "reviews.head()"
   ]
  },
  {
   "cell_type": "code",
   "execution_count": 7,
   "metadata": {
    "execution": {
     "iopub.execute_input": "2022-01-06T01:05:41.216663Z",
     "iopub.status.busy": "2022-01-06T01:05:41.215974Z",
     "iopub.status.idle": "2022-01-06T01:05:41.228401Z",
     "shell.execute_reply": "2022-01-06T01:05:41.227558Z",
     "shell.execute_reply.started": "2022-01-06T01:05:41.216631Z"
    }
   },
   "outputs": [],
   "source": [
    "reviews.info()"
   ]
  },
  {
   "cell_type": "code",
   "execution_count": 12,
   "metadata": {
    "execution": {
     "iopub.execute_input": "2022-01-06T01:08:47.361911Z",
     "iopub.status.busy": "2022-01-06T01:08:47.361689Z",
     "iopub.status.idle": "2022-01-06T01:11:49.712288Z",
     "shell.execute_reply": "2022-01-06T01:11:49.710772Z",
     "shell.execute_reply.started": "2022-01-06T01:08:47.361885Z"
    }
   },
   "outputs": [],
   "source": [
    "reviews.to_csv('fourplusstarsrev.csv')"
   ]
  },
  {
   "cell_type": "markdown",
   "metadata": {},
   "source": [
    "<a href=\"./fourplusstarsrev.csv\"> Download File </a>"
   ]
  },
  {
   "cell_type": "code",
   "execution_count": 17,
   "metadata": {
    "execution": {
     "iopub.execute_input": "2022-01-06T01:19:02.950844Z",
     "iopub.status.busy": "2022-01-06T01:19:02.950477Z",
     "iopub.status.idle": "2022-01-06T01:19:04.669987Z",
     "shell.execute_reply": "2022-01-06T01:19:04.669136Z",
     "shell.execute_reply.started": "2022-01-06T01:19:02.950803Z"
    }
   },
   "outputs": [],
   "source": [
    "reviews[fourstar].head()"
   ]
  },
  {
   "cell_type": "code",
   "execution_count": 18,
   "metadata": {
    "execution": {
     "iopub.execute_input": "2022-01-06T01:24:16.020184Z",
     "iopub.status.busy": "2022-01-06T01:24:16.019895Z",
     "iopub.status.idle": "2022-01-06T01:24:16.727201Z",
     "shell.execute_reply": "2022-01-06T01:24:16.726437Z",
     "shell.execute_reply.started": "2022-01-06T01:24:16.020155Z"
    }
   },
   "outputs": [],
   "source": [
    "reviews[fivestar].head()"
   ]
  },
  {
   "cell_type": "code",
   "execution_count": 26,
   "metadata": {
    "execution": {
     "iopub.execute_input": "2022-01-06T02:30:01.401211Z",
     "iopub.status.busy": "2022-01-06T02:30:01.400317Z",
     "iopub.status.idle": "2022-01-06T02:30:03.651804Z",
     "shell.execute_reply": "2022-01-06T02:30:03.650816Z",
     "shell.execute_reply.started": "2022-01-06T02:30:01.401169Z"
    }
   },
   "outputs": [],
   "source": [
    "fourstar = (reviews['stars']==4) # 4 star reviews\n",
    "fivestar = (reviews['stars']==5) # 5 star reviews\n",
    "fourfive = (reviews['stars']>=4) # 4 & 5 star reviews\n",
    "\n",
    "# look at length of reviews\n",
    "sns.boxplot(x=reviews.loc[fourfive,'stars'], y=reviews.loc[fourfive,'text_length'])"
   ]
  },
  {
   "cell_type": "code",
   "execution_count": 27,
   "metadata": {
    "execution": {
     "iopub.execute_input": "2022-01-06T02:32:44.916599Z",
     "iopub.status.busy": "2022-01-06T02:32:44.916292Z",
     "iopub.status.idle": "2022-01-06T02:32:44.947193Z",
     "shell.execute_reply": "2022-01-06T02:32:44.946608Z",
     "shell.execute_reply.started": "2022-01-06T02:32:44.916568Z"
    }
   },
   "outputs": [],
   "source": [
    "# some review length outliers\n",
    "reviews.loc[reviews['text_length']>=800,'text']"
   ]
  },
  {
   "cell_type": "code",
   "execution_count": 28,
   "metadata": {
    "execution": {
     "iopub.execute_input": "2022-01-06T02:36:10.027843Z",
     "iopub.status.busy": "2022-01-06T02:36:10.027497Z",
     "iopub.status.idle": "2022-01-06T02:36:10.493585Z",
     "shell.execute_reply": "2022-01-06T02:36:10.492711Z",
     "shell.execute_reply.started": "2022-01-06T02:36:10.027806Z"
    }
   },
   "outputs": [],
   "source": [
    "# take a look at text of a long, outlier review\n",
    "reviews.loc[4055,'text']"
   ]
  },
  {
   "cell_type": "code",
   "execution_count": 20,
   "metadata": {
    "execution": {
     "iopub.execute_input": "2022-01-06T01:27:13.143546Z",
     "iopub.status.busy": "2022-01-06T01:27:13.142872Z",
     "iopub.status.idle": "2022-01-06T01:27:16.075400Z",
     "shell.execute_reply": "2022-01-06T01:27:16.074733Z",
     "shell.execute_reply.started": "2022-01-06T01:27:13.143499Z"
    }
   },
   "outputs": [],
   "source": [
    "# plot VADER compound sentiment for 4 and 5 star reviews\n",
    "fig, axs = plt.subplots(1,3,figsize=(15,5))\n",
    "\n",
    "axs[0].hist(reviews.loc[fourstar,'compound'])\n",
    "axs[0].set_title('4 star reviews:\\nCompound Sentiment')\n",
    "\n",
    "axs[1].hist(reviews.loc[fivestar,'compound'])\n",
    "axs[1].set_title('5 star reviews:\\nCompound Sentiment')\n",
    "\n",
    "sns.boxplot(x=reviews.loc[fourfive,'stars'], y=reviews.loc[fourfive,'compound'], ax=axs[2])\n"
   ]
  },
  {
   "cell_type": "code",
   "execution_count": 21,
   "metadata": {
    "execution": {
     "iopub.execute_input": "2022-01-06T01:48:29.132514Z",
     "iopub.status.busy": "2022-01-06T01:48:29.131718Z",
     "iopub.status.idle": "2022-01-06T01:48:30.584473Z",
     "shell.execute_reply": "2022-01-06T01:48:30.583667Z",
     "shell.execute_reply.started": "2022-01-06T01:48:29.132466Z"
    }
   },
   "outputs": [],
   "source": [
    "# plot VADER positive sentiment for 4 and 5 star reviews\n",
    "fig, axs = plt.subplots(1,3,figsize=(15,5))\n",
    "\n",
    "axs[0].hist(reviews.loc[fourstar,'pos'])\n",
    "axs[0].set_title('4 star reviews:\\nPositive Sentiment')\n",
    "\n",
    "axs[1].hist(reviews.loc[fivestar,'pos'])\n",
    "axs[1].set_title('5 star reviews:\\nPositive Sentiment')\n",
    "\n",
    "sns.boxplot(x=reviews.loc[fourfive,'stars'], y=reviews.loc[fourfive,'pos'], ax=axs[2])\n"
   ]
  },
  {
   "cell_type": "code",
   "execution_count": 13,
   "metadata": {
    "execution": {
     "iopub.execute_input": "2022-01-06T01:11:49.716117Z",
     "iopub.status.busy": "2022-01-06T01:11:49.715513Z",
     "iopub.status.idle": "2022-01-06T01:11:51.258224Z",
     "shell.execute_reply": "2022-01-06T01:11:51.257558Z",
     "shell.execute_reply.started": "2022-01-06T01:11:49.716057Z"
    }
   },
   "outputs": [],
   "source": [
    "# plot VADER neutral sentiment for 4 and 5 star reviews\n",
    "fig, axs = plt.subplots(1,3,figsize=(15,5))\n",
    "\n",
    "axs[0].hist(reviews.loc[fourstar,'neu'])\n",
    "axs[0].set_title('4 star reviews:\\nNeutral Sentiment')\n",
    "\n",
    "axs[1].hist(reviews.loc[fivestar,'neu'])\n",
    "axs[1].set_title('5 star reviews:\\nNeutral Sentiment')\n",
    "\n",
    "sns.boxplot(x=reviews.loc[fourfive,'stars'], y=reviews.loc[fourfive,'neu'], ax=axs[2])\n"
   ]
  },
  {
   "cell_type": "code",
   "execution_count": 14,
   "metadata": {
    "execution": {
     "iopub.execute_input": "2022-01-06T01:11:51.259849Z",
     "iopub.status.busy": "2022-01-06T01:11:51.259410Z",
     "iopub.status.idle": "2022-01-06T01:11:52.173988Z",
     "shell.execute_reply": "2022-01-06T01:11:52.173084Z",
     "shell.execute_reply.started": "2022-01-06T01:11:51.259803Z"
    }
   },
   "outputs": [],
   "source": [
    "reviews.describe()"
   ]
  },
  {
   "cell_type": "code",
   "execution_count": 16,
   "metadata": {
    "execution": {
     "iopub.execute_input": "2022-01-06T01:17:13.325272Z",
     "iopub.status.busy": "2022-01-06T01:17:13.324669Z",
     "iopub.status.idle": "2022-01-06T01:17:13.418650Z",
     "shell.execute_reply": "2022-01-06T01:17:13.418029Z",
     "shell.execute_reply.started": "2022-01-06T01:17:13.325235Z"
    }
   },
   "outputs": [],
   "source": [
    "reviews.loc[fourstar,'neu'].describe()"
   ]
  },
  {
   "cell_type": "code",
   "execution_count": 24,
   "metadata": {
    "execution": {
     "iopub.execute_input": "2022-01-06T02:20:11.892512Z",
     "iopub.status.busy": "2022-01-06T02:20:11.891550Z",
     "iopub.status.idle": "2022-01-06T02:20:12.041355Z",
     "shell.execute_reply": "2022-01-06T02:20:12.040400Z",
     "shell.execute_reply.started": "2022-01-06T02:20:11.892470Z"
    }
   },
   "outputs": [],
   "source": [
    "reviews.loc[fivestar,'neu'].describe()"
   ]
  },
  {
   "cell_type": "code",
   "execution_count": 3,
   "metadata": {
    "execution": {
     "iopub.execute_input": "2022-01-06T05:55:50.783318Z",
     "iopub.status.busy": "2022-01-06T05:55:50.782000Z",
     "iopub.status.idle": "2022-01-06T05:55:50.794000Z",
     "shell.execute_reply": "2022-01-06T05:55:50.792856Z",
     "shell.execute_reply.started": "2022-01-06T05:55:50.783260Z"
    }
   },
   "outputs": [],
   "source": [
    "# cohen's d test for effect size\n",
    "# 0.2 small, 0.5 moderate, 0.8 large\n",
    "m1 = 0.6104529\n",
    "m2 = 0.5653222\n",
    "v1 = 0.1181829**2\n",
    "v2 = 0.1277508**2\n",
    "n1 = 1460390\n",
    "n2 = 2246079\n",
    "d = (m1 - m2)/np.sqrt(((n1-1)*v1 + (n2-1)*v2)/(n1+n2-2))\n",
    "d"
   ]
  },
  {
   "cell_type": "code",
   "execution_count": 1,
   "metadata": {
    "execution": {
     "iopub.execute_input": "2022-01-06T05:08:36.174756Z",
     "iopub.status.busy": "2022-01-06T05:08:36.174433Z",
     "iopub.status.idle": "2022-01-06T05:08:37.179641Z",
     "shell.execute_reply": "2022-01-06T05:08:37.178519Z",
     "shell.execute_reply.started": "2022-01-06T05:08:36.174664Z"
    }
   },
   "outputs": [],
   "source": [
    "from scipy.stats import ttest_ind\n",
    "\n",
    "ttest_ind(reviews.loc[fourstar,'neu'], reviews.loc[fivestar,'neu'], equal_var=False)"
   ]
  },
  {
   "cell_type": "code",
   "execution_count": null,
   "metadata": {
    "execution": {
     "iopub.execute_input": "2022-01-06T03:09:55.666376Z",
     "iopub.status.busy": "2022-01-06T03:09:55.665773Z"
    }
   },
   "outputs": [],
   "source": [
    "# process 1 star reviews\n",
    "file='../input/yelp-restaurant-reviews-2021/restaurantrev.csv'\n",
    "onestarreviews = pd.DataFrame()\n",
    "for chunk in pd.read_csv(file, parse_dates=['date'], chunksize=500000):\n",
    "    chunk = chunk[chunk['stars']==1]\n",
    "    chunk = chunk.drop('review_id', axis=1)\n",
    "    chunk['clean_text'] = chunk['text'].apply(clean)\n",
    "    chunk['text_length'] = chunk['clean_text'].apply(len)\n",
    "    chunk['clean_text'] = chunk['clean_text'].apply(prep)\n",
    "    chunk['clean_text'] = chunk['clean_text'].apply(lemmatize)\n",
    "    chunk['sentiment'] = chunk['clean_text'].apply(analyze)\n",
    "    chunk = chunk.join(pd.DataFrame(chunk['sentiment'].apply(pd.Series)))\n",
    "    chunk = chunk.drop('sentiment', axis=1)\n",
    "    onestarreviews = pd.concat([onestarreviews, chunk])\n",
    "\n",
    "onestarreviews.head()"
   ]
  },
  {
   "cell_type": "code",
   "execution_count": null,
   "metadata": {},
   "outputs": [],
   "source": [
    "onestarreviews.describe()"
   ]
  },
  {
   "cell_type": "code",
   "execution_count": null,
   "metadata": {},
   "outputs": [],
   "source": [
    "onestar = (reviews['stars']==1) # 1 star reviews\n",
    "\n",
    "fig, axs = plt.subplots(1,3,figsize=(15,5))\n",
    "\n",
    "axs[0].hist(reviews.loc[onestar,'neu'])\n",
    "axs[0].set_title('1 star reviews:\\nNeutral Sentiment')\n"
   ]
  },
  {
   "cell_type": "code",
   "execution_count": null,
   "metadata": {},
   "outputs": [],
   "source": [
    "# t-test between neutral sentiment of one and five star reviews\n",
    "ttest_ind(onestarreviews.loc[onestar,'neu'], reviews.loc[fivestar,'neu'], equal_var=False)"
   ]
  }
 ],
 "metadata": {
  "kernelspec": {
   "display_name": "Python 3 (ipykernel)",
   "language": "python",
   "name": "python3"
  },
  "language_info": {
   "codemirror_mode": {
    "name": "ipython",
    "version": 3
   },
   "file_extension": ".py",
   "mimetype": "text/x-python",
   "name": "python",
   "nbconvert_exporter": "python",
   "pygments_lexer": "ipython3",
   "version": "3.8.3"
  }
 },
 "nbformat": 4,
 "nbformat_minor": 4
}
