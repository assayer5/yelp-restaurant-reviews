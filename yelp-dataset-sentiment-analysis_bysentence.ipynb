{
 "cells": [
  {
   "cell_type": "code",
   "execution_count": 2,
   "metadata": {
    "execution": {
     "iopub.execute_input": "2022-06-23T23:08:14.843054Z",
     "iopub.status.busy": "2022-06-23T23:08:14.842694Z",
     "iopub.status.idle": "2022-06-23T23:08:16.522802Z",
     "shell.execute_reply": "2022-06-23T23:08:16.521832Z",
     "shell.execute_reply.started": "2022-06-23T23:08:14.843024Z"
    }
   },
   "outputs": [],
   "source": [
    "import pandas as pd\n",
    "import numpy as np\n",
    "import matplotlib.pyplot as plt\n",
    "import seaborn as sns\n",
    "import gc\n",
    "\n",
    "import string, nltk\n",
    "from nltk.tokenize import sent_tokenize\n",
    "from nltk.sentiment.vader import SentimentIntensityAnalyzer"
   ]
  },
  {
   "cell_type": "code",
   "execution_count": 11,
   "metadata": {
    "execution": {
     "iopub.execute_input": "2022-06-23T23:14:04.243499Z",
     "iopub.status.busy": "2022-06-23T23:14:04.243244Z",
     "iopub.status.idle": "2022-06-23T23:14:04.283996Z",
     "shell.execute_reply": "2022-06-23T23:14:04.282963Z",
     "shell.execute_reply.started": "2022-06-23T23:14:04.243471Z"
    }
   },
   "outputs": [],
   "source": [
    "# table to 'replace punctuation with nothing'/remove punctuation\n",
    "table = str.maketrans('','',string.punctuation)\n",
    "\n",
    "# function to clean text\n",
    "def clean(text):\n",
    "    # split sentences into words/tokenize\n",
    "    words = str(text).split()\n",
    "    # remove punctuation\n",
    "    words = [word.translate(table) for word in words]\n",
    "    # make lower case\n",
    "    words = [word.lower() for word in words]\n",
    "    return words\n",
    "\n",
    "analyzer = SentimentIntensityAnalyzer()\n",
    "\n",
    "def analyze(sentences):\n",
    "    # process review as column of sentences\n",
    "    df = pd.DataFrame({'sentences': sentences})\n",
    "    df['scores'] = df['sentences'].apply(analyzer.polarity_scores)\n",
    "    \n",
    "    splitdf = pd.DataFrame(df['scores'].apply(pd.Series))\n",
    "    # get mean of each category\n",
    "    avgpos = np.around(np.mean(splitdf['pos']), decimals=3)\n",
    "    avgneg = np.around(np.mean(splitdf['neg']), decimals=3)\n",
    "    avgneu = np.around(np.mean(splitdf['neu']), decimals=3)\n",
    "    avgcomp = np.around(np.mean(splitdf['compound']), decimals=4)\n",
    "    \n",
    "    return {'neg':avgneg, 'neu': avgneu, 'pos': avgpos, 'compound': avgcomp}"
   ]
  },
  {
   "cell_type": "code",
   "execution_count": 12,
   "metadata": {
    "execution": {
     "iopub.execute_input": "2022-06-23T23:14:12.893088Z",
     "iopub.status.busy": "2022-06-23T23:14:12.892826Z",
     "iopub.status.idle": "2022-06-23T23:14:12.963784Z",
     "shell.execute_reply": "2022-06-23T23:14:12.963209Z",
     "shell.execute_reply.started": "2022-06-23T23:14:12.893060Z"
    }
   },
   "outputs": [],
   "source": [
    "# test code before processing whole review dataframe\n",
    "file='../input/yelp-restaurant-reviews-2021/restaurantrev.csv'\n",
    "reviews = pd.DataFrame()\n",
    "for num, chunk in enumerate(pd.read_csv(file, parse_dates=['date'], chunksize=2)):\n",
    "    chunk['clean_text'] = chunk['text'].apply(clean)\n",
    "    chunk['text_length'] = chunk['clean_text'].apply(len)\n",
    "    \n",
    "    chunk['sentences'] = chunk['text'].apply(sent_tokenize)\n",
    "    chunk['sentiment'] = chunk['sentences'].apply(analyze)\n",
    "\n",
    "    chunk = chunk.join(pd.DataFrame(chunk['sentiment'].apply(pd.Series)))\n",
    "    chunk = chunk.drop(['sentences', 'sentiment','clean_text'], axis=1)\n",
    "    \n",
    "    reviews = pd.concat([reviews, chunk])\n",
    "    if num == 2:\n",
    "        break\n",
    "\n",
    "print(reviews)"
   ]
  },
  {
   "cell_type": "code",
   "execution_count": 9,
   "metadata": {
    "execution": {
     "iopub.execute_input": "2022-06-23T23:12:23.347627Z",
     "iopub.status.busy": "2022-06-23T23:12:23.346801Z",
     "iopub.status.idle": "2022-06-23T23:12:23.371444Z",
     "shell.execute_reply": "2022-06-23T23:12:23.370572Z",
     "shell.execute_reply.started": "2022-06-23T23:12:23.347554Z"
    }
   },
   "outputs": [],
   "source": [
    "# check outputs\n",
    "print('original:\\n',reviews.text[0])\n",
    "print('sentiment:',reviews.compound[0])\n",
    "reviews.info()\n"
   ]
  },
  {
   "cell_type": "code",
   "execution_count": 13,
   "metadata": {
    "execution": {
     "iopub.execute_input": "2022-06-23T23:18:37.632430Z",
     "iopub.status.busy": "2022-06-23T23:18:37.631725Z",
     "iopub.status.idle": "2022-06-24T06:30:50.099718Z",
     "shell.execute_reply": "2022-06-24T06:30:50.098921Z",
     "shell.execute_reply.started": "2022-06-23T23:18:37.632362Z"
    }
   },
   "outputs": [],
   "source": [
    "# process 4 and 5 star reviews\n",
    "file='../input/yelp-restaurant-reviews-2021/restaurantrev.csv'\n",
    "reviews = pd.DataFrame()\n",
    "#for num, chunk in enumerate(pd.read_csv(file, parse_dates=['date'], chunksize=500000)):\n",
    "for chunk in pd.read_csv(file, parse_dates=['date'], chunksize=500000):\n",
    "    print('process chunk...')\n",
    "    chunk = chunk[chunk['stars']>=4]\n",
    "    chunk = chunk.drop('review_id', axis=1)\n",
    "    \n",
    "    chunk['clean_text'] = chunk['text'].apply(clean)\n",
    "    chunk['text_length'] = chunk['clean_text'].apply(len)\n",
    "    \n",
    "    chunk['sentences'] = chunk['text'].apply(sent_tokenize)\n",
    "    chunk['sentiment'] = chunk['sentences'].apply(analyze2)\n",
    "\n",
    "    chunk = chunk.join(pd.DataFrame(chunk['sentiment'].apply(pd.Series)))\n",
    "    chunk = chunk.drop(['sentences', 'sentiment','clean_text'], axis=1)\n",
    "    \n",
    "    reviews = pd.concat([reviews, chunk])\n",
    "    \n",
    "reviews.head()"
   ]
  },
  {
   "cell_type": "code",
   "execution_count": 14,
   "metadata": {
    "execution": {
     "iopub.execute_input": "2022-06-24T06:30:50.101751Z",
     "iopub.status.busy": "2022-06-24T06:30:50.101408Z",
     "iopub.status.idle": "2022-06-24T06:30:50.125161Z",
     "shell.execute_reply": "2022-06-24T06:30:50.123197Z",
     "shell.execute_reply.started": "2022-06-24T06:30:50.101721Z"
    }
   },
   "outputs": [],
   "source": [
    "reviews.info()"
   ]
  },
  {
   "cell_type": "code",
   "execution_count": 15,
   "metadata": {
    "execution": {
     "iopub.execute_input": "2022-06-24T06:30:50.127128Z",
     "iopub.status.busy": "2022-06-24T06:30:50.126825Z",
     "iopub.status.idle": "2022-06-24T06:32:14.329773Z",
     "shell.execute_reply": "2022-06-24T06:32:14.328273Z",
     "shell.execute_reply.started": "2022-06-24T06:30:50.127096Z"
    }
   },
   "outputs": [],
   "source": [
    "reviews.to_csv('fourplusstarsrev.csv')"
   ]
  },
  {
   "cell_type": "markdown",
   "metadata": {},
   "source": [
    "<a href=\"./fourplusstarsrev.csv\"> Download File </a>"
   ]
  },
  {
   "cell_type": "code",
   "execution_count": 35,
   "metadata": {
    "execution": {
     "iopub.execute_input": "2022-06-24T07:01:36.711009Z",
     "iopub.status.busy": "2022-06-24T07:01:36.710742Z",
     "iopub.status.idle": "2022-06-24T07:01:38.850950Z",
     "shell.execute_reply": "2022-06-24T07:01:38.849693Z",
     "shell.execute_reply.started": "2022-06-24T07:01:36.710984Z"
    }
   },
   "outputs": [],
   "source": [
    "fourstar = (reviews['stars']==4) # 4 star reviews\n",
    "fivestar = (reviews['stars']==5) # 5 star reviews\n",
    "fourfive = (reviews['stars']>=4) # 4 & 5 star reviews\n",
    "\n",
    "# look at length of reviews\n",
    "sns.boxplot(x=reviews.loc[fourfive,'stars'], y=reviews.loc[fourfive,'text_length'])\n",
    "plt.savefig('revlength')"
   ]
  },
  {
   "cell_type": "code",
   "execution_count": 17,
   "metadata": {
    "execution": {
     "iopub.execute_input": "2022-06-24T06:32:15.973266Z",
     "iopub.status.busy": "2022-06-24T06:32:15.972979Z",
     "iopub.status.idle": "2022-06-24T06:32:16.927911Z",
     "shell.execute_reply": "2022-06-24T06:32:16.926241Z",
     "shell.execute_reply.started": "2022-06-24T06:32:15.973236Z"
    }
   },
   "outputs": [],
   "source": [
    "reviews[fourstar].head()"
   ]
  },
  {
   "cell_type": "code",
   "execution_count": 18,
   "metadata": {
    "execution": {
     "iopub.execute_input": "2022-06-24T06:32:16.931102Z",
     "iopub.status.busy": "2022-06-24T06:32:16.930106Z",
     "iopub.status.idle": "2022-06-24T06:32:17.283529Z",
     "shell.execute_reply": "2022-06-24T06:32:17.281913Z",
     "shell.execute_reply.started": "2022-06-24T06:32:16.931059Z"
    }
   },
   "outputs": [],
   "source": [
    "reviews[fivestar].head()"
   ]
  },
  {
   "cell_type": "code",
   "execution_count": 19,
   "metadata": {
    "execution": {
     "iopub.execute_input": "2022-06-24T06:32:17.286720Z",
     "iopub.status.busy": "2022-06-24T06:32:17.286391Z",
     "iopub.status.idle": "2022-06-24T06:32:17.303259Z",
     "shell.execute_reply": "2022-06-24T06:32:17.302427Z",
     "shell.execute_reply.started": "2022-06-24T06:32:17.286688Z"
    }
   },
   "outputs": [],
   "source": [
    "# some review length outliers\n",
    "reviews.loc[reviews['text_length']>=800,'text']"
   ]
  },
  {
   "cell_type": "code",
   "execution_count": 33,
   "metadata": {
    "execution": {
     "iopub.execute_input": "2022-06-24T06:53:29.457429Z",
     "iopub.status.busy": "2022-06-24T06:53:29.457136Z",
     "iopub.status.idle": "2022-06-24T06:53:30.923390Z",
     "shell.execute_reply": "2022-06-24T06:53:30.922254Z",
     "shell.execute_reply.started": "2022-06-24T06:53:29.457394Z"
    }
   },
   "outputs": [],
   "source": [
    "# plot VADER compound sentiment for 4 and 5 star reviews\n",
    "fig, axs = plt.subplots(1,3,figsize=(15,5))\n",
    "\n",
    "axs[0].hist(reviews.loc[fourstar,'compound'])\n",
    "axs[0].set_title('4 star reviews:\\nCompound Sentiment')\n",
    "\n",
    "axs[1].hist(reviews.loc[fivestar,'compound'])\n",
    "axs[1].set_title('5 star reviews:\\nCompound Sentiment')\n",
    "\n",
    "sns.boxplot(x=reviews.loc[fourfive,'stars'], y=reviews.loc[fourfive,'compound'], ax=axs[2])\n",
    "plt.savefig('compsent')"
   ]
  },
  {
   "cell_type": "code",
   "execution_count": 31,
   "metadata": {
    "execution": {
     "iopub.execute_input": "2022-06-24T06:52:49.262581Z",
     "iopub.status.busy": "2022-06-24T06:52:49.262321Z",
     "iopub.status.idle": "2022-06-24T06:52:50.750532Z",
     "shell.execute_reply": "2022-06-24T06:52:50.749274Z",
     "shell.execute_reply.started": "2022-06-24T06:52:49.262556Z"
    }
   },
   "outputs": [],
   "source": [
    "# plot VADER positive sentiment for 4 and 5 star reviews\n",
    "fig, axs = plt.subplots(1,3,figsize=(15,5))\n",
    "\n",
    "axs[0].hist(reviews.loc[fourstar,'pos'])\n",
    "axs[0].set_title('4 star reviews:\\nPositive Sentiment')\n",
    "\n",
    "axs[1].hist(reviews.loc[fivestar,'pos'])\n",
    "axs[1].set_title('5 star reviews:\\nPositive Sentiment')\n",
    "\n",
    "sns.boxplot(x=reviews.loc[fourfive,'stars'], y=reviews.loc[fourfive,'pos'], ax=axs[2])\n",
    "plt.savefig('possent')"
   ]
  },
  {
   "cell_type": "code",
   "execution_count": 29,
   "metadata": {
    "execution": {
     "iopub.execute_input": "2022-06-24T06:49:49.557239Z",
     "iopub.status.busy": "2022-06-24T06:49:49.556985Z",
     "iopub.status.idle": "2022-06-24T06:49:53.081136Z",
     "shell.execute_reply": "2022-06-24T06:49:53.080204Z",
     "shell.execute_reply.started": "2022-06-24T06:49:49.557212Z"
    }
   },
   "outputs": [],
   "source": [
    "# plot VADER neutral sentiment for 4 and 5 star reviews\n",
    "fig, axs = plt.subplots(1,3,figsize=(15,5))\n",
    "\n",
    "axs[0].hist(reviews.loc[fourstar,'neu'])\n",
    "axs[0].set_title('4 star reviews:\\nNeutral Sentiment')\n",
    "\n",
    "axs[1].hist(reviews.loc[fivestar,'neu'])\n",
    "axs[1].set_title('5 star reviews:\\nNeutral Sentiment')\n",
    "\n",
    "sns.boxplot(x=reviews.loc[fourfive,'stars'], y=reviews.loc[fourfive,'neu'], ax=axs[2])\n",
    "plt.savefig('neusent.pdf')"
   ]
  },
  {
   "cell_type": "code",
   "execution_count": 23,
   "metadata": {
    "execution": {
     "iopub.execute_input": "2022-06-24T06:32:25.050503Z",
     "iopub.status.busy": "2022-06-24T06:32:25.049133Z",
     "iopub.status.idle": "2022-06-24T06:32:26.704777Z",
     "shell.execute_reply": "2022-06-24T06:32:26.702603Z",
     "shell.execute_reply.started": "2022-06-24T06:32:25.050379Z"
    }
   },
   "outputs": [],
   "source": [
    "reviews.describe()"
   ]
  },
  {
   "cell_type": "code",
   "execution_count": 24,
   "metadata": {
    "execution": {
     "iopub.execute_input": "2022-06-24T06:32:26.708352Z",
     "iopub.status.busy": "2022-06-24T06:32:26.707819Z",
     "iopub.status.idle": "2022-06-24T06:32:26.814398Z",
     "shell.execute_reply": "2022-06-24T06:32:26.812885Z",
     "shell.execute_reply.started": "2022-06-24T06:32:26.708282Z"
    }
   },
   "outputs": [],
   "source": [
    "reviews.loc[fourstar,'neu'].describe()"
   ]
  },
  {
   "cell_type": "code",
   "execution_count": 25,
   "metadata": {
    "execution": {
     "iopub.execute_input": "2022-06-24T06:32:26.821382Z",
     "iopub.status.busy": "2022-06-24T06:32:26.820822Z",
     "iopub.status.idle": "2022-06-24T06:32:26.958200Z",
     "shell.execute_reply": "2022-06-24T06:32:26.956607Z",
     "shell.execute_reply.started": "2022-06-24T06:32:26.821344Z"
    }
   },
   "outputs": [],
   "source": [
    "reviews.loc[fivestar,'neu'].describe()"
   ]
  },
  {
   "cell_type": "code",
   "execution_count": 26,
   "metadata": {
    "execution": {
     "iopub.execute_input": "2022-06-24T06:37:39.225708Z",
     "iopub.status.busy": "2022-06-24T06:37:39.225142Z",
     "iopub.status.idle": "2022-06-24T06:37:39.235566Z",
     "shell.execute_reply": "2022-06-24T06:37:39.234797Z",
     "shell.execute_reply.started": "2022-06-24T06:37:39.225664Z"
    }
   },
   "outputs": [],
   "source": [
    "# cohen's d test for effect size\n",
    "# 0.2 small, 0.5 moderate, 0.8 large\n",
    "# means\n",
    "m1 = 0.7410229\n",
    "m2 = 0.6955708\n",
    "# variances\n",
    "v1 = 0.1084526**2\n",
    "v2 = 0.1238304**2\n",
    "# sample sizes\n",
    "n1 = 1460390\n",
    "n2 = 2246079\n",
    "\n",
    "d = (m1 - m2)/np.sqrt(((n1-1)*v1 + (n2-1)*v2)/(n1+n2-2))\n",
    "d"
   ]
  },
  {
   "cell_type": "code",
   "execution_count": 27,
   "metadata": {
    "execution": {
     "iopub.execute_input": "2022-06-24T06:37:58.194633Z",
     "iopub.status.busy": "2022-06-24T06:37:58.194097Z",
     "iopub.status.idle": "2022-06-24T06:37:58.272605Z",
     "shell.execute_reply": "2022-06-24T06:37:58.271471Z",
     "shell.execute_reply.started": "2022-06-24T06:37:58.194600Z"
    }
   },
   "outputs": [],
   "source": [
    "from scipy.stats import ttest_ind\n",
    "\n",
    "ttest_ind(reviews.loc[fourstar,'neu'], reviews.loc[fivestar,'neu'], equal_var=False)"
   ]
  }
 ],
 "metadata": {
  "kernelspec": {
   "display_name": "Python 3 (ipykernel)",
   "language": "python",
   "name": "python3"
  },
  "language_info": {
   "codemirror_mode": {
    "name": "ipython",
    "version": 3
   },
   "file_extension": ".py",
   "mimetype": "text/x-python",
   "name": "python",
   "nbconvert_exporter": "python",
   "pygments_lexer": "ipython3",
   "version": "3.9.7"
  }
 },
 "nbformat": 4,
 "nbformat_minor": 4
}
